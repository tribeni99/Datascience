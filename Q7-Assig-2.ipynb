{
 "cells": [
  {
   "cell_type": "markdown",
   "id": "0c1169cb",
   "metadata": {},
   "source": [
    "# Q7"
   ]
  },
  {
   "cell_type": "code",
   "execution_count": 1,
   "id": "8233a9ed",
   "metadata": {},
   "outputs": [],
   "source": [
    "import selenium\n",
    "import pandas as pd\n",
    "from selenium import webdriver"
   ]
  },
  {
   "cell_type": "code",
   "execution_count": 2,
   "id": "09aa087c",
   "metadata": {},
   "outputs": [
    {
     "name": "stderr",
     "output_type": "stream",
     "text": [
      "<ipython-input-2-79fac5a6ab2d>:1: DeprecationWarning: executable_path has been deprecated, please pass in a Service object\n",
      "  driver=webdriver.Edge(executable_path=\"C:\\\\Users\\\\AT SYSTEM\\Desktop\\\\edgedriver_win32 (3)\\\\msedgedriver.exe\")\n"
     ]
    }
   ],
   "source": [
    "driver=webdriver.Edge(executable_path=\"C:\\\\Users\\\\AT SYSTEM\\Desktop\\\\edgedriver_win32 (3)\\\\msedgedriver.exe\")"
   ]
  },
  {
   "cell_type": "code",
   "execution_count": 3,
   "id": "49e45fef",
   "metadata": {},
   "outputs": [],
   "source": [
    "driver.get(\"https://www.myntra.com/shoes\")"
   ]
  },
  {
   "cell_type": "code",
   "execution_count": 4,
   "id": "07e9d00f",
   "metadata": {},
   "outputs": [
    {
     "name": "stderr",
     "output_type": "stream",
     "text": [
      "<ipython-input-4-ca50cd883f48>:1: DeprecationWarning: find_element_by_* commands are deprecated. Please use find_element() instead\n",
      "  src=driver.find_element_by_xpath(\"//ul//li[@class='colour-listItem']\")\n",
      "<ipython-input-4-ca50cd883f48>:3: DeprecationWarning: find_element_by_* commands are deprecated. Please use find_element() instead\n",
      "  srcp=driver.find_element_by_xpath(\"//ul[@class='price-list']/li[2]\")\n"
     ]
    }
   ],
   "source": [
    "src=driver.find_element_by_xpath(\"//ul//li[@class='colour-listItem']\")\n",
    "\n",
    "srcp=driver.find_element_by_xpath(\"//ul[@class='price-list']/li[2]\")"
   ]
  },
  {
   "cell_type": "code",
   "execution_count": 22,
   "id": "2033f76c",
   "metadata": {},
   "outputs": [],
   "source": [
    "src.click()"
   ]
  },
  {
   "cell_type": "code",
   "execution_count": 6,
   "id": "7d402822",
   "metadata": {},
   "outputs": [],
   "source": [
    "srcp.click()"
   ]
  },
  {
   "cell_type": "code",
   "execution_count": 7,
   "id": "c616f7fc",
   "metadata": {},
   "outputs": [
    {
     "name": "stderr",
     "output_type": "stream",
     "text": [
      "<ipython-input-7-454af86abf8b>:1: DeprecationWarning: find_element_by_* commands are deprecated. Please use find_element() instead\n",
      "  next_btnmm=driver.find_element_by_xpath(\"//a[@rel='next']\")\n"
     ]
    }
   ],
   "source": [
    "next_btnmm=driver.find_element_by_xpath(\"//a[@rel='next']\")"
   ]
  },
  {
   "cell_type": "code",
   "execution_count": 8,
   "id": "9ad1f708",
   "metadata": {},
   "outputs": [],
   "source": [
    "Brand_Shoee=[]\n",
    "Prodct_Dess=[]\n",
    "Price_shoee=[]"
   ]
  },
  {
   "cell_type": "code",
   "execution_count": 9,
   "id": "0d244a7b",
   "metadata": {},
   "outputs": [
    {
     "name": "stderr",
     "output_type": "stream",
     "text": [
      "<ipython-input-9-0f86665b82d0>:1: DeprecationWarning: find_elements_by_* commands are deprecated. Please use find_elements() instead\n",
      "  shoebb=driver.find_elements_by_xpath(\"//h3[@class='product-brand']\")\n",
      "<ipython-input-9-0f86665b82d0>:3: DeprecationWarning: find_elements_by_* commands are deprecated. Please use find_elements() instead\n",
      "  shoepp=driver.find_elements_by_xpath(\"//h4[@class='product-product']\")\n",
      "<ipython-input-9-0f86665b82d0>:5: DeprecationWarning: find_elements_by_* commands are deprecated. Please use find_elements() instead\n",
      "  shoepric=driver.find_elements_by_xpath(\"//div[@class='product-price']/span[1]\")\n"
     ]
    }
   ],
   "source": [
    "shoebb=driver.find_elements_by_xpath(\"//h3[@class='product-brand']\")\n",
    "\n",
    "shoepp=driver.find_elements_by_xpath(\"//h4[@class='product-product']\")\n",
    "\n",
    "shoepric=driver.find_elements_by_xpath(\"//div[@class='product-price']/span[1]\")"
   ]
  },
  {
   "cell_type": "code",
   "execution_count": 10,
   "id": "3cb837ca",
   "metadata": {},
   "outputs": [
    {
     "data": {
      "text/plain": [
       "50"
      ]
     },
     "execution_count": 10,
     "metadata": {},
     "output_type": "execute_result"
    }
   ],
   "source": [
    "len(shoepric)"
   ]
  },
  {
   "cell_type": "code",
   "execution_count": 11,
   "id": "22b133cd",
   "metadata": {},
   "outputs": [],
   "source": [
    "for bb in shoebb:\n",
    "    bb1=bb.text\n",
    "    Brand_Shoee.append(bb1)\n",
    "    \n",
    "for pp in shoepp:\n",
    "    pp1=pp.text\n",
    "    Prodct_Dess.append(pp1)\n",
    "    \n",
    "for ic in shoepric:\n",
    "    ic1=ic.text\n",
    "    Price_shoee.append(ic1)"
   ]
  },
  {
   "cell_type": "code",
   "execution_count": 12,
   "id": "fc5cce27",
   "metadata": {},
   "outputs": [],
   "source": [
    "next_btnmm.click()"
   ]
  },
  {
   "cell_type": "code",
   "execution_count": 13,
   "id": "133ac280",
   "metadata": {},
   "outputs": [],
   "source": [
    "Brand_Shoee1=[]\n",
    "Prodct_Dess1=[]\n",
    "Price_shoee1=[]"
   ]
  },
  {
   "cell_type": "code",
   "execution_count": 14,
   "id": "1bd6f225",
   "metadata": {},
   "outputs": [
    {
     "name": "stderr",
     "output_type": "stream",
     "text": [
      "<ipython-input-14-efde2ac7fa79>:1: DeprecationWarning: find_elements_by_* commands are deprecated. Please use find_elements() instead\n",
      "  shoebb1=driver.find_elements_by_xpath(\"//h3[@class='product-brand']\")\n",
      "<ipython-input-14-efde2ac7fa79>:3: DeprecationWarning: find_elements_by_* commands are deprecated. Please use find_elements() instead\n",
      "  shoepp1=driver.find_elements_by_xpath(\"//h4[@class='product-product']\")\n",
      "<ipython-input-14-efde2ac7fa79>:5: DeprecationWarning: find_elements_by_* commands are deprecated. Please use find_elements() instead\n",
      "  shoepric1=driver.find_elements_by_xpath(\"//div[@class='product-price']/span[1]\")\n"
     ]
    }
   ],
   "source": [
    "shoebb1=driver.find_elements_by_xpath(\"//h3[@class='product-brand']\")\n",
    "\n",
    "shoepp1=driver.find_elements_by_xpath(\"//h4[@class='product-product']\")\n",
    "\n",
    "shoepric1=driver.find_elements_by_xpath(\"//div[@class='product-price']/span[1]\")"
   ]
  },
  {
   "cell_type": "code",
   "execution_count": 15,
   "id": "9a2d787c",
   "metadata": {},
   "outputs": [],
   "source": [
    "for o in shoebb1:\n",
    "    o1=o.text\n",
    "    Brand_Shoee1.append(o1)"
   ]
  },
  {
   "cell_type": "code",
   "execution_count": 16,
   "id": "8c743998",
   "metadata": {},
   "outputs": [],
   "source": [
    "for e in shoepp1:\n",
    "    e1=e.text\n",
    "    Prodct_Dess1.append(e1)"
   ]
  },
  {
   "cell_type": "code",
   "execution_count": 17,
   "id": "836baa24",
   "metadata": {},
   "outputs": [],
   "source": [
    "for p in shoepric1:\n",
    "    p1=p.text\n",
    "    Price_shoee1.append(p1)"
   ]
  },
  {
   "cell_type": "code",
   "execution_count": 18,
   "id": "716b93e3",
   "metadata": {},
   "outputs": [],
   "source": [
    "fb=Brand_Shoee+Brand_Shoee1\n",
    "fpd=Prodct_Dess+Prodct_Dess1\n",
    "fpric=Price_shoee+Price_shoee1"
   ]
  },
  {
   "cell_type": "code",
   "execution_count": 19,
   "id": "bc9703ef",
   "metadata": {},
   "outputs": [
    {
     "name": "stdout",
     "output_type": "stream",
     "text": [
      "100 100 100\n"
     ]
    }
   ],
   "source": [
    "print(len(fb),len(fpd),len(fpric))"
   ]
  },
  {
   "cell_type": "code",
   "execution_count": 20,
   "id": "129ffdae",
   "metadata": {},
   "outputs": [],
   "source": [
    "df=pd.DataFrame({'Brand':fb,'Product Des':fpd,'Price':fpric})"
   ]
  },
  {
   "cell_type": "code",
   "execution_count": 21,
   "id": "b3e6152f",
   "metadata": {},
   "outputs": [
    {
     "data": {
      "text/html": [
       "<div>\n",
       "<style scoped>\n",
       "    .dataframe tbody tr th:only-of-type {\n",
       "        vertical-align: middle;\n",
       "    }\n",
       "\n",
       "    .dataframe tbody tr th {\n",
       "        vertical-align: top;\n",
       "    }\n",
       "\n",
       "    .dataframe thead th {\n",
       "        text-align: right;\n",
       "    }\n",
       "</style>\n",
       "<table border=\"1\" class=\"dataframe\">\n",
       "  <thead>\n",
       "    <tr style=\"text-align: right;\">\n",
       "      <th></th>\n",
       "      <th>Brand</th>\n",
       "      <th>Product Des</th>\n",
       "      <th>Price</th>\n",
       "    </tr>\n",
       "  </thead>\n",
       "  <tbody>\n",
       "    <tr>\n",
       "      <th>0</th>\n",
       "      <td>ALDO</td>\n",
       "      <td>Men Colourblocked Sneakers</td>\n",
       "      <td>Rs. 10999</td>\n",
       "    </tr>\n",
       "    <tr>\n",
       "      <th>1</th>\n",
       "      <td>PUMA Motorsport</td>\n",
       "      <td>Scuderia Ferrari A3ROCAT Shoes</td>\n",
       "      <td>Rs. 7999Rs. 9999</td>\n",
       "    </tr>\n",
       "    <tr>\n",
       "      <th>2</th>\n",
       "      <td>ASICS</td>\n",
       "      <td>Men GEL-KAYANO 27 Shoes</td>\n",
       "      <td>Rs. 10499Rs. 14999</td>\n",
       "    </tr>\n",
       "    <tr>\n",
       "      <th>3</th>\n",
       "      <td>ADIDAS</td>\n",
       "      <td>Women Running Shoes</td>\n",
       "      <td>Rs. 7599</td>\n",
       "    </tr>\n",
       "    <tr>\n",
       "      <th>4</th>\n",
       "      <td>Puma</td>\n",
       "      <td>Men Running Shoes</td>\n",
       "      <td>Rs. 6499Rs. 12999</td>\n",
       "    </tr>\n",
       "    <tr>\n",
       "      <th>...</th>\n",
       "      <td>...</td>\n",
       "      <td>...</td>\n",
       "      <td>...</td>\n",
       "    </tr>\n",
       "    <tr>\n",
       "      <th>95</th>\n",
       "      <td>Hush Puppies</td>\n",
       "      <td>Men Leather Formal Derbys</td>\n",
       "      <td>Rs. 6299Rs. 6999</td>\n",
       "    </tr>\n",
       "    <tr>\n",
       "      <th>96</th>\n",
       "      <td>ASICS</td>\n",
       "      <td>Men Colourblocked Sneakers</td>\n",
       "      <td>Rs. 8099Rs. 8999</td>\n",
       "    </tr>\n",
       "    <tr>\n",
       "      <th>97</th>\n",
       "      <td>Bugatti</td>\n",
       "      <td>Men Suede Sneakers</td>\n",
       "      <td>Rs. 7999</td>\n",
       "    </tr>\n",
       "    <tr>\n",
       "      <th>98</th>\n",
       "      <td>ASICS</td>\n",
       "      <td>Men PU Sneakers</td>\n",
       "      <td>Rs. 7999</td>\n",
       "    </tr>\n",
       "    <tr>\n",
       "      <th>99</th>\n",
       "      <td>Onitsuka Tiger</td>\n",
       "      <td>Unisex Sneakers</td>\n",
       "      <td>Rs. 7999</td>\n",
       "    </tr>\n",
       "  </tbody>\n",
       "</table>\n",
       "<p>100 rows × 3 columns</p>\n",
       "</div>"
      ],
      "text/plain": [
       "              Brand                     Product Des               Price\n",
       "0              ALDO      Men Colourblocked Sneakers           Rs. 10999\n",
       "1   PUMA Motorsport  Scuderia Ferrari A3ROCAT Shoes    Rs. 7999Rs. 9999\n",
       "2             ASICS         Men GEL-KAYANO 27 Shoes  Rs. 10499Rs. 14999\n",
       "3            ADIDAS             Women Running Shoes            Rs. 7599\n",
       "4              Puma               Men Running Shoes   Rs. 6499Rs. 12999\n",
       "..              ...                             ...                 ...\n",
       "95     Hush Puppies       Men Leather Formal Derbys    Rs. 6299Rs. 6999\n",
       "96            ASICS      Men Colourblocked Sneakers    Rs. 8099Rs. 8999\n",
       "97          Bugatti              Men Suede Sneakers            Rs. 7999\n",
       "98            ASICS                 Men PU Sneakers            Rs. 7999\n",
       "99   Onitsuka Tiger                 Unisex Sneakers            Rs. 7999\n",
       "\n",
       "[100 rows x 3 columns]"
      ]
     },
     "execution_count": 21,
     "metadata": {},
     "output_type": "execute_result"
    }
   ],
   "source": [
    "df"
   ]
  },
  {
   "cell_type": "code",
   "execution_count": null,
   "id": "0b037013",
   "metadata": {},
   "outputs": [],
   "source": []
  }
 ],
 "metadata": {
  "kernelspec": {
   "display_name": "Python 3",
   "language": "python",
   "name": "python3"
  },
  "language_info": {
   "codemirror_mode": {
    "name": "ipython",
    "version": 3
   },
   "file_extension": ".py",
   "mimetype": "text/x-python",
   "name": "python",
   "nbconvert_exporter": "python",
   "pygments_lexer": "ipython3",
   "version": "3.8.8"
  }
 },
 "nbformat": 4,
 "nbformat_minor": 5
}
