{
 "cells": [
  {
   "cell_type": "markdown",
   "id": "4060e3f9",
   "metadata": {},
   "source": [
    "# Q6"
   ]
  },
  {
   "cell_type": "code",
   "execution_count": 1,
   "id": "93e15f38",
   "metadata": {},
   "outputs": [],
   "source": [
    "import selenium\n",
    "import pandas as pd\n",
    "from selenium import webdriver"
   ]
  },
  {
   "cell_type": "code",
   "execution_count": 2,
   "id": "4e280637",
   "metadata": {},
   "outputs": [
    {
     "name": "stderr",
     "output_type": "stream",
     "text": [
      "<ipython-input-2-a45db46cb510>:1: DeprecationWarning: executable_path has been deprecated, please pass in a Service object\n",
      "  driver3=webdriver.Edge(executable_path=\"C:\\\\Users\\\\AT SYSTEM\\Desktop\\\\edgedriver_win32 (3)\\\\msedgedriver.exe\")\n"
     ]
    }
   ],
   "source": [
    "driver3=webdriver.Edge(executable_path=\"C:\\\\Users\\\\AT SYSTEM\\Desktop\\\\edgedriver_win32 (3)\\\\msedgedriver.exe\")"
   ]
  },
  {
   "cell_type": "code",
   "execution_count": 4,
   "id": "573b51c6",
   "metadata": {},
   "outputs": [],
   "source": [
    "driver3.get('https://www.flipkart.com/')"
   ]
  },
  {
   "cell_type": "code",
   "execution_count": 5,
   "id": "ad792886",
   "metadata": {},
   "outputs": [
    {
     "name": "stderr",
     "output_type": "stream",
     "text": [
      "<ipython-input-5-d8e09ec6c4e6>:1: DeprecationWarning: find_element_by_* commands are deprecated. Please use find_element() instead\n",
      "  surl=driver3.find_element_by_xpath(\"//input[@title='Search for products, brands and more']\")\n"
     ]
    }
   ],
   "source": [
    "surl=driver3.find_element_by_xpath(\"//input[@title='Search for products, brands and more']\")\n",
    "surl.send_keys('sneakers')"
   ]
  },
  {
   "cell_type": "code",
   "execution_count": 6,
   "id": "7e660e82",
   "metadata": {},
   "outputs": [
    {
     "name": "stderr",
     "output_type": "stream",
     "text": [
      "<ipython-input-6-cf4f4e450ef3>:1: DeprecationWarning: find_element_by_* commands are deprecated. Please use find_element() instead\n",
      "  surl_btn=driver3.find_element_by_xpath(\"//button[@class='L0Z3Pu']\")\n"
     ]
    }
   ],
   "source": [
    "surl_btn=driver3.find_element_by_xpath(\"//button[@class='L0Z3Pu']\")\n",
    "surl_btn.click()"
   ]
  },
  {
   "cell_type": "code",
   "execution_count": 97,
   "id": "089c05d5",
   "metadata": {},
   "outputs": [
    {
     "name": "stderr",
     "output_type": "stream",
     "text": [
      "<ipython-input-97-f98b3334fa07>:1: DeprecationWarning: find_element_by_* commands are deprecated. Please use find_element() instead\n",
      "  next_btn1=driver3.find_element_by_xpath(\"//a[@class='_1LKTO3']\")\n"
     ]
    }
   ],
   "source": [
    "next_btn1=driver3.find_element_by_xpath(\"//a[@class='_1LKTO3']\")"
   ]
  },
  {
   "cell_type": "code",
   "execution_count": 8,
   "id": "0c368ceb",
   "metadata": {},
   "outputs": [],
   "source": [
    "Brand=[]\n",
    "Product_d=[]\n",
    "Price=[]"
   ]
  },
  {
   "cell_type": "code",
   "execution_count": 64,
   "id": "916590e4",
   "metadata": {},
   "outputs": [
    {
     "name": "stderr",
     "output_type": "stream",
     "text": [
      "<ipython-input-64-dcc434062b73>:1: DeprecationWarning: find_elements_by_* commands are deprecated. Please use find_elements() instead\n",
      "  s_b=driver3.find_elements_by_xpath(\"//div[@class='_2WkVRV']\")\n",
      "<ipython-input-64-dcc434062b73>:3: DeprecationWarning: find_elements_by_* commands are deprecated. Please use find_elements() instead\n",
      "  s_pde=driver3.find_elements_by_xpath(\"//a[@class='IRpwTa']\")\n",
      "<ipython-input-64-dcc434062b73>:5: DeprecationWarning: find_elements_by_* commands are deprecated. Please use find_elements() instead\n",
      "  s_prrc=driver3.find_elements_by_xpath(\"//div[@class='_30jeq3']\")\n"
     ]
    }
   ],
   "source": [
    "s_b=driver3.find_elements_by_xpath(\"//div[@class='_2WkVRV']\")\n",
    "\n",
    "s_pde=driver3.find_elements_by_xpath(\"//a[@class='IRpwTa']\")\n",
    "\n",
    "s_prrc=driver3.find_elements_by_xpath(\"//div[@class='_30jeq3']\")"
   ]
  },
  {
   "cell_type": "code",
   "execution_count": 60,
   "id": "3eff2923",
   "metadata": {},
   "outputs": [
    {
     "name": "stderr",
     "output_type": "stream",
     "text": [
      "<ipython-input-60-209b8a92468d>:1: DeprecationWarning: find_elements_by_* commands are deprecated. Please use find_elements() instead\n",
      "  reni=driver3.find_elements_by_xpath(\"//a[@class='IRpwTa _2-ICcC']\")\n"
     ]
    }
   ],
   "source": [
    "reni=driver3.find_elements_by_xpath(\"//a[@class='IRpwTa _2-ICcC']\")"
   ]
  },
  {
   "cell_type": "code",
   "execution_count": 81,
   "id": "3b26c1d4",
   "metadata": {},
   "outputs": [],
   "source": [
    "Product_d.clear()"
   ]
  },
  {
   "cell_type": "code",
   "execution_count": 89,
   "id": "119dbce2",
   "metadata": {},
   "outputs": [],
   "source": [
    "Product_d1=[]\n",
    "for e in s_b:\n",
    "    e1=e.text\n",
    "    Brand.append(e1)\n",
    "\n",
    "    \n",
    "for ep in s_pde:\n",
    "    ep1=ep.text\n",
    "    Product_d.append(ep1)\n",
    "\n",
    "for epr in reni:\n",
    "    epr1=epr.text\n",
    "    Product_d1.append(epr1)\n",
    "    \n",
    "for prc1 in s_prrc:\n",
    "    prc11=prc1.text\n",
    "    Price.append(prc11)"
   ]
  },
  {
   "cell_type": "code",
   "execution_count": 93,
   "id": "f76fdd57",
   "metadata": {},
   "outputs": [],
   "source": [
    "PDee=[]\n",
    "PDee=Product_d+Product_d1"
   ]
  },
  {
   "cell_type": "code",
   "execution_count": 98,
   "id": "5e12a209",
   "metadata": {},
   "outputs": [],
   "source": [
    "next_btn1.click()"
   ]
  },
  {
   "cell_type": "code",
   "execution_count": 107,
   "id": "b6e5834d",
   "metadata": {},
   "outputs": [
    {
     "name": "stderr",
     "output_type": "stream",
     "text": [
      "<ipython-input-107-82caa967821d>:1: DeprecationWarning: find_elements_by_* commands are deprecated. Please use find_elements() instead\n",
      "  s_b1=driver3.find_elements_by_xpath(\"//div[@class='_2WkVRV']\")\n",
      "<ipython-input-107-82caa967821d>:3: DeprecationWarning: find_elements_by_* commands are deprecated. Please use find_elements() instead\n",
      "  s_pde1=driver3.find_elements_by_xpath(\"//a[@class='IRpwTa']\")\n",
      "<ipython-input-107-82caa967821d>:5: DeprecationWarning: find_elements_by_* commands are deprecated. Please use find_elements() instead\n",
      "  s_prrc1=driver3.find_elements_by_xpath(\"//div[@class='_30jeq3']\")\n"
     ]
    }
   ],
   "source": [
    "s_b1=driver3.find_elements_by_xpath(\"//div[@class='_2WkVRV']\")\n",
    "\n",
    "s_pde1=driver3.find_elements_by_xpath(\"//a[@class='IRpwTa']\")\n",
    "\n",
    "s_prrc1=driver3.find_elements_by_xpath(\"//div[@class='_30jeq3']\")"
   ]
  },
  {
   "cell_type": "code",
   "execution_count": 116,
   "id": "661ecc5f",
   "metadata": {},
   "outputs": [],
   "source": [
    "Brand1=[]\n",
    "Product_d12=[]\n",
    "Product_d12x=[]\n",
    "Price1=[]"
   ]
  },
  {
   "cell_type": "code",
   "execution_count": 117,
   "id": "bd9342ea",
   "metadata": {},
   "outputs": [
    {
     "name": "stderr",
     "output_type": "stream",
     "text": [
      "<ipython-input-117-c6ab5977259b>:1: DeprecationWarning: find_elements_by_* commands are deprecated. Please use find_elements() instead\n",
      "  reni1=driver3.find_elements_by_xpath(\"//a[@class='IRpwTa _2-ICcC']\")\n"
     ]
    }
   ],
   "source": [
    "reni1=driver3.find_elements_by_xpath(\"//a[@class='IRpwTa _2-ICcC']\")"
   ]
  },
  {
   "cell_type": "code",
   "execution_count": 129,
   "id": "bcaaae97",
   "metadata": {},
   "outputs": [],
   "source": [
    "for exd in s_b1:\n",
    "    exd1=exd.text\n",
    "    Brand1.append(exd1)\n",
    "    \n",
    "for pad12 in s_pde1:\n",
    "    pad123=pad12.text\n",
    "    Product_d12.append(pad123)\n",
    "    \n",
    "for pdex in reni1:\n",
    "    pdex1=pdex.text\n",
    "    Product_d12x.append(pdex1)\n",
    "    \n",
    "for prex in s_prrc1:\n",
    "    prex1=prex.text\n",
    "    Price1.append(prex1)"
   ]
  },
  {
   "cell_type": "code",
   "execution_count": 130,
   "id": "5c9f520c",
   "metadata": {},
   "outputs": [],
   "source": [
    "PDee1=Product_d12+Product_d12x"
   ]
  },
  {
   "cell_type": "code",
   "execution_count": 132,
   "id": "fed3c8f8",
   "metadata": {},
   "outputs": [],
   "source": [
    "next_btn1.click()"
   ]
  },
  {
   "cell_type": "code",
   "execution_count": 133,
   "id": "1cc50019",
   "metadata": {},
   "outputs": [
    {
     "name": "stderr",
     "output_type": "stream",
     "text": [
      "<ipython-input-133-31b263fbcc43>:1: DeprecationWarning: find_elements_by_* commands are deprecated. Please use find_elements() instead\n",
      "  s_b2=driver3.find_elements_by_xpath(\"//div[@class='_2WkVRV']\")\n",
      "<ipython-input-133-31b263fbcc43>:3: DeprecationWarning: find_elements_by_* commands are deprecated. Please use find_elements() instead\n",
      "  s_pde2=driver3.find_elements_by_xpath(\"//a[@class='IRpwTa']\")\n",
      "<ipython-input-133-31b263fbcc43>:5: DeprecationWarning: find_elements_by_* commands are deprecated. Please use find_elements() instead\n",
      "  s_prrc2=driver3.find_elements_by_xpath(\"//div[@class='_30jeq3']\")\n",
      "<ipython-input-133-31b263fbcc43>:7: DeprecationWarning: find_elements_by_* commands are deprecated. Please use find_elements() instead\n",
      "  reni2=driver3.find_elements_by_xpath(\"//a[@class='IRpwTa _2-ICcC']\")\n"
     ]
    }
   ],
   "source": [
    "s_b2=driver3.find_elements_by_xpath(\"//div[@class='_2WkVRV']\")\n",
    "\n",
    "s_pde2=driver3.find_elements_by_xpath(\"//a[@class='IRpwTa']\")\n",
    "\n",
    "s_prrc2=driver3.find_elements_by_xpath(\"//div[@class='_30jeq3']\")\n",
    "\n",
    "reni2=driver3.find_elements_by_xpath(\"//a[@class='IRpwTa _2-ICcC']\")"
   ]
  },
  {
   "cell_type": "code",
   "execution_count": 134,
   "id": "16732d32",
   "metadata": {},
   "outputs": [],
   "source": [
    "Brand2=[]\n",
    "Product_d13=[]\n",
    "Product_d13x=[]\n",
    "Price2=[]"
   ]
  },
  {
   "cell_type": "code",
   "execution_count": 135,
   "id": "3786af60",
   "metadata": {},
   "outputs": [],
   "source": [
    "for exde in s_b2:\n",
    "    exd12=exde.text\n",
    "    Brand2.append(exd12)\n",
    "    \n",
    "for pad121 in s_pde2:\n",
    "    pad124=pad121.text\n",
    "    Product_d13.append(pad124)\n",
    "    \n",
    "for pdex1 in reni2:\n",
    "    pdex2=pdex1.text\n",
    "    Product_d13x.append(pdex2)\n",
    "    \n",
    "for prex1 in s_prrc2:\n",
    "    prex2=prex1.text\n",
    "    Price2.append(prex2)"
   ]
  },
  {
   "cell_type": "code",
   "execution_count": 136,
   "id": "9981222b",
   "metadata": {},
   "outputs": [],
   "source": [
    "PDee2=Product_d13+Product_d13x"
   ]
  },
  {
   "cell_type": "code",
   "execution_count": 137,
   "id": "35a1df3e",
   "metadata": {},
   "outputs": [
    {
     "data": {
      "text/plain": [
       "40"
      ]
     },
     "execution_count": 137,
     "metadata": {},
     "output_type": "execute_result"
    }
   ],
   "source": [
    "len(PDee2)"
   ]
  },
  {
   "cell_type": "code",
   "execution_count": 139,
   "id": "ecff9c49",
   "metadata": {},
   "outputs": [],
   "source": [
    "F_Brnd=[]\n",
    "F_Proc=[]\n",
    "F_Price=[]"
   ]
  },
  {
   "cell_type": "code",
   "execution_count": 141,
   "id": "e1efde6b",
   "metadata": {},
   "outputs": [],
   "source": [
    "F_Brnd.clear()\n",
    "F_Proc.clear()\n",
    "F_Price.clear()"
   ]
  },
  {
   "cell_type": "code",
   "execution_count": 142,
   "id": "10e9d3bf",
   "metadata": {},
   "outputs": [],
   "source": [
    "F_Brnd=Brand+Brand1+Brand2\n",
    "F_Proc=PDee+PDee1+PDee2\n",
    "F_Price=Price+Price1+Price2"
   ]
  },
  {
   "cell_type": "code",
   "execution_count": 145,
   "id": "7a2e80a2",
   "metadata": {},
   "outputs": [
    {
     "name": "stdout",
     "output_type": "stream",
     "text": [
      "120 120 120\n"
     ]
    }
   ],
   "source": [
    "print(len(F_Brnd),len(F_Proc),len(F_Price))"
   ]
  },
  {
   "cell_type": "code",
   "execution_count": 149,
   "id": "e874c548",
   "metadata": {},
   "outputs": [],
   "source": [
    "df=pd.DataFrame({'Brand':F_Brnd,'Product Description':F_Proc,'Price':F_Price})"
   ]
  },
  {
   "cell_type": "code",
   "execution_count": 151,
   "id": "97e87495",
   "metadata": {},
   "outputs": [
    {
     "data": {
      "text/html": [
       "<div>\n",
       "<style scoped>\n",
       "    .dataframe tbody tr th:only-of-type {\n",
       "        vertical-align: middle;\n",
       "    }\n",
       "\n",
       "    .dataframe tbody tr th {\n",
       "        vertical-align: top;\n",
       "    }\n",
       "\n",
       "    .dataframe thead th {\n",
       "        text-align: right;\n",
       "    }\n",
       "</style>\n",
       "<table border=\"1\" class=\"dataframe\">\n",
       "  <thead>\n",
       "    <tr style=\"text-align: right;\">\n",
       "      <th></th>\n",
       "      <th>Brand</th>\n",
       "      <th>Product Description</th>\n",
       "      <th>Price</th>\n",
       "    </tr>\n",
       "  </thead>\n",
       "  <tbody>\n",
       "    <tr>\n",
       "      <th>0</th>\n",
       "      <td>Echor</td>\n",
       "      <td>Echor Men's Sneakers Fashion Lightweight Runni...</td>\n",
       "      <td>₹499</td>\n",
       "    </tr>\n",
       "    <tr>\n",
       "      <th>1</th>\n",
       "      <td>BIRDE</td>\n",
       "      <td>Men Casual Shoes Sneakers For Men</td>\n",
       "      <td>₹339</td>\n",
       "    </tr>\n",
       "    <tr>\n",
       "      <th>2</th>\n",
       "      <td>BRUTON</td>\n",
       "      <td>Modern Trendy Sneakers Shoes Sneakers For Men</td>\n",
       "      <td>₹299</td>\n",
       "    </tr>\n",
       "    <tr>\n",
       "      <th>3</th>\n",
       "      <td>URBANBOX</td>\n",
       "      <td>Sports Running Shoes Sneakers For Men</td>\n",
       "      <td>₹220</td>\n",
       "    </tr>\n",
       "    <tr>\n",
       "      <th>4</th>\n",
       "      <td>BIRDE</td>\n",
       "      <td>Luxury Branded Fashionable Men's Casual Walkin...</td>\n",
       "      <td>₹299</td>\n",
       "    </tr>\n",
       "    <tr>\n",
       "      <th>...</th>\n",
       "      <td>...</td>\n",
       "      <td>...</td>\n",
       "      <td>...</td>\n",
       "    </tr>\n",
       "    <tr>\n",
       "      <th>95</th>\n",
       "      <td>Echor</td>\n",
       "      <td>Original Luxury Branded Fashionable Men's Casu...</td>\n",
       "      <td>₹449</td>\n",
       "    </tr>\n",
       "    <tr>\n",
       "      <th>96</th>\n",
       "      <td>BIRDE</td>\n",
       "      <td>Sneakers For Men</td>\n",
       "      <td>₹339</td>\n",
       "    </tr>\n",
       "    <tr>\n",
       "      <th>97</th>\n",
       "      <td>ASTEROID</td>\n",
       "      <td>Sneakers For Men</td>\n",
       "      <td>₹499</td>\n",
       "    </tr>\n",
       "    <tr>\n",
       "      <th>98</th>\n",
       "      <td>BIRDE</td>\n",
       "      <td>Ontario IDP Sneakers For Men</td>\n",
       "      <td>₹535</td>\n",
       "    </tr>\n",
       "    <tr>\n",
       "      <th>99</th>\n",
       "      <td>Labbin</td>\n",
       "      <td>Sneakers For Men</td>\n",
       "      <td>₹499</td>\n",
       "    </tr>\n",
       "  </tbody>\n",
       "</table>\n",
       "<p>100 rows × 3 columns</p>\n",
       "</div>"
      ],
      "text/plain": [
       "       Brand                                Product Description Price\n",
       "0      Echor  Echor Men's Sneakers Fashion Lightweight Runni...  ₹499\n",
       "1      BIRDE                  Men Casual Shoes Sneakers For Men  ₹339\n",
       "2     BRUTON      Modern Trendy Sneakers Shoes Sneakers For Men  ₹299\n",
       "3   URBANBOX              Sports Running Shoes Sneakers For Men  ₹220\n",
       "4      BIRDE  Luxury Branded Fashionable Men's Casual Walkin...  ₹299\n",
       "..       ...                                                ...   ...\n",
       "95     Echor  Original Luxury Branded Fashionable Men's Casu...  ₹449\n",
       "96     BIRDE                                   Sneakers For Men  ₹339\n",
       "97  ASTEROID                                   Sneakers For Men  ₹499\n",
       "98     BIRDE                       Ontario IDP Sneakers For Men  ₹535\n",
       "99    Labbin                                   Sneakers For Men  ₹499\n",
       "\n",
       "[100 rows x 3 columns]"
      ]
     },
     "execution_count": 151,
     "metadata": {},
     "output_type": "execute_result"
    }
   ],
   "source": [
    "df.head(100)"
   ]
  },
  {
   "cell_type": "code",
   "execution_count": null,
   "id": "e6f4422f",
   "metadata": {},
   "outputs": [],
   "source": []
  }
 ],
 "metadata": {
  "kernelspec": {
   "display_name": "Python 3",
   "language": "python",
   "name": "python3"
  },
  "language_info": {
   "codemirror_mode": {
    "name": "ipython",
    "version": 3
   },
   "file_extension": ".py",
   "mimetype": "text/x-python",
   "name": "python",
   "nbconvert_exporter": "python",
   "pygments_lexer": "ipython3",
   "version": "3.8.8"
  }
 },
 "nbformat": 4,
 "nbformat_minor": 5
}
