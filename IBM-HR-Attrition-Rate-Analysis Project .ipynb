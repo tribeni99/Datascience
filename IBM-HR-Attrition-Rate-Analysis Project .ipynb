{
 "cells": [
  {
   "cell_type": "code",
   "execution_count": null,
   "id": "3bfea4e4",
   "metadata": {},
   "outputs": [],
   "source": [
    "#IBM_HR_Attrition_Rate_Analytics project\n",
    "!pip install plotly"
   ]
  },
  {
   "cell_type": "code",
   "execution_count": null,
   "id": "c2f1282f",
   "metadata": {},
   "outputs": [],
   "source": [
    "!pip install feature_engine"
   ]
  },
  {
   "cell_type": "code",
   "execution_count": null,
   "id": "bd04f080",
   "metadata": {},
   "outputs": [],
   "source": [
    "!pip install wikipedia"
   ]
  },
  {
   "cell_type": "code",
   "execution_count": null,
   "id": "28aac295",
   "metadata": {
    "scrolled": true
   },
   "outputs": [],
   "source": [
    "!pip install chart_studio"
   ]
  },
  {
   "cell_type": "code",
   "execution_count": null,
   "id": "57e8a7ff",
   "metadata": {},
   "outputs": [],
   "source": [
    "import pandas as pd \n",
    "import numpy as np\n",
    "import matplotlib.pyplot as plt\n",
    "import seaborn as sns\n",
    "import plotly.express as px\n",
    "from scipy import stats\n",
    "import feature_engine\n",
    "import webbrowser\n",
    "import wikipedia\n",
    "\n",
    "import warnings\n",
    "warnings.filterwarnings('ignore')"
   ]
  },
  {
   "cell_type": "code",
   "execution_count": null,
   "id": "89e5c1e0",
   "metadata": {},
   "outputs": [],
   "source": [
    "df = pd.read_csv('https://raw.githubusercontent.com/tribeni99/Datascience/main/WA_Fn-UseC_-HR-Employee-Attrition.csv')"
   ]
  },
  {
   "cell_type": "code",
   "execution_count": null,
   "id": "c5d6a74d",
   "metadata": {},
   "outputs": [],
   "source": [
    "df"
   ]
  },
  {
   "cell_type": "code",
   "execution_count": null,
   "id": "7a06d597",
   "metadata": {},
   "outputs": [],
   "source": [
    "df.columns"
   ]
  },
  {
   "cell_type": "code",
   "execution_count": null,
   "id": "7112a6db",
   "metadata": {},
   "outputs": [],
   "source": [
    "pd.set_option('display.max_columns',None)"
   ]
  },
  {
   "cell_type": "code",
   "execution_count": null,
   "id": "0561c553",
   "metadata": {},
   "outputs": [],
   "source": [
    "df.head()"
   ]
  },
  {
   "cell_type": "code",
   "execution_count": null,
   "id": "05b8dcff",
   "metadata": {},
   "outputs": [],
   "source": [
    "df.columns.drop('Attrition',1)"
   ]
  },
  {
   "cell_type": "code",
   "execution_count": null,
   "id": "633ef3c8",
   "metadata": {},
   "outputs": [],
   "source": [
    "df.head()"
   ]
  },
  {
   "cell_type": "code",
   "execution_count": null,
   "id": "c50df4a5",
   "metadata": {},
   "outputs": [],
   "source": [
    "df.sample(5)"
   ]
  },
  {
   "cell_type": "code",
   "execution_count": null,
   "id": "afcb6f72",
   "metadata": {},
   "outputs": [],
   "source": [
    "df.shape"
   ]
  },
  {
   "cell_type": "code",
   "execution_count": null,
   "id": "610c72a5",
   "metadata": {
    "scrolled": true
   },
   "outputs": [],
   "source": [
    "df.info()"
   ]
  },
  {
   "cell_type": "code",
   "execution_count": null,
   "id": "b23be4d8",
   "metadata": {},
   "outputs": [],
   "source": [
    "df.describe(include=np.object)"
   ]
  },
  {
   "cell_type": "code",
   "execution_count": null,
   "id": "af426da3",
   "metadata": {},
   "outputs": [],
   "source": [
    "df.describe()"
   ]
  },
  {
   "cell_type": "code",
   "execution_count": null,
   "id": "09ab1092",
   "metadata": {},
   "outputs": [],
   "source": [
    "df.isnull().sum()"
   ]
  },
  {
   "cell_type": "code",
   "execution_count": null,
   "id": "dfccacc2",
   "metadata": {},
   "outputs": [],
   "source": [
    "sns.heatmap(df.isnull(),cmap='viridis')"
   ]
  },
  {
   "cell_type": "code",
   "execution_count": null,
   "id": "e393efd5",
   "metadata": {},
   "outputs": [],
   "source": [
    "sns.pairplot(df)"
   ]
  },
  {
   "cell_type": "code",
   "execution_count": null,
   "id": "56c1762c",
   "metadata": {},
   "outputs": [],
   "source": [
    "import matplotlib.pyplot as plt\n",
    "%matplotlib inline\n",
    "from scipy.stats import zscore\n",
    "\n",
    "from sklearn.preprocessing import LabelEncoder\n",
    "from sklearn.preprocessing import OrdinalEncoder\n",
    "from sklearn.preprocessing import StandardScaler\n",
    "from sklearn.model_selection import train_test_split\n",
    "from sklearn.linear_model import LogisticRegression\n",
    "from sklearn.svm import SVC\n",
    "from sklearn.tree import DecisionTreeClassifier\n",
    "from sklearn.ensemble import RandomForestClassifier\n",
    "from sklearn.ensemble import ExtraTreesClassifier\n",
    "from sklearn.neighbors import KNeighborsClassifier\n",
    "from sklearn import metrics\n",
    "from sklearn.metrics import classification_report\n",
    "from sklearn.metrics import accuracy_score\n",
    "from sklearn.model_selection import cross_val_score\n",
    "from sklearn.model_selection import GridSearchCV\n"
   ]
  },
  {
   "cell_type": "code",
   "execution_count": null,
   "id": "23340aab",
   "metadata": {},
   "outputs": [],
   "source": [
    "df"
   ]
  },
  {
   "cell_type": "code",
   "execution_count": null,
   "id": "7d87d190",
   "metadata": {},
   "outputs": [],
   "source": [
    "df.drop([\"EmployeeCount\",\"EmployeeNumber\",\"Over18\",\"StandardHours\"],axis=1,inplace=True)"
   ]
  },
  {
   "cell_type": "markdown",
   "id": "715ec982",
   "metadata": {},
   "source": [
    "#now I'm dropping columns in the above observations"
   ]
  },
  {
   "cell_type": "code",
   "execution_count": null,
   "id": "6f758fdb",
   "metadata": {},
   "outputs": [],
   "source": [
    "object_datatype = []\n",
    "for x in df.dtypes.index:\n",
    "    if df.dtypes[x] == 'object':\n",
    "        object_datatype.append(x)\n",
    "object_datatype       "
   ]
  },
  {
   "cell_type": "code",
   "execution_count": null,
   "id": "d64a4c1e",
   "metadata": {},
   "outputs": [],
   "source": [
    "integer_datatype = []\n",
    "for x in df.dtypes.index:\n",
    "    if df.dtypes[x] == 'int64':\n",
    "        integer_datatype.append(x)\n",
    "integer_datatype "
   ]
  },
  {
   "cell_type": "markdown",
   "id": "72fe8ba2",
   "metadata": {},
   "source": [
    "#VISUALIZATION"
   ]
  },
  {
   "cell_type": "code",
   "execution_count": null,
   "id": "60ad6435",
   "metadata": {},
   "outputs": [],
   "source": [
    "df.corr()"
   ]
  },
  {
   "cell_type": "code",
   "execution_count": null,
   "id": "61568b5b",
   "metadata": {},
   "outputs": [],
   "source": [
    "df"
   ]
  },
  {
   "cell_type": "code",
   "execution_count": null,
   "id": "97f9ce87",
   "metadata": {},
   "outputs": [],
   "source": [
    "def fig_this_large(x,y):\n",
    "    return plt.figure(figsize=(x,y))"
   ]
  },
  {
   "cell_type": "code",
   "execution_count": null,
   "id": "71e5a4e1",
   "metadata": {
    "scrolled": true
   },
   "outputs": [],
   "source": [
    "fig_this_large(25,20)\n",
    "sns.heatmap(df.corr(),annot=True,cmap='viridis')"
   ]
  },
  {
   "cell_type": "markdown",
   "id": "f94cf56a",
   "metadata": {},
   "source": [
    "The feature monthly incore and job level are highly correlated."
   ]
  },
  {
   "cell_type": "code",
   "execution_count": null,
   "id": "294027cc",
   "metadata": {},
   "outputs": [],
   "source": [
    "fig_this_large(18,6)\n",
    "sns.countplot(df.Age)"
   ]
  },
  {
   "cell_type": "code",
   "execution_count": null,
   "id": "ad9641d2",
   "metadata": {},
   "outputs": [],
   "source": [
    "fig_this_large(18,6)\n",
    "sns.distplot(df.Age)"
   ]
  },
  {
   "cell_type": "markdown",
   "id": "4a06cbba",
   "metadata": {},
   "source": [
    "Most of the employees in the company are the age group of 26 to 38."
   ]
  },
  {
   "cell_type": "code",
   "execution_count": null,
   "id": "ac9c9ac8",
   "metadata": {},
   "outputs": [],
   "source": [
    "df.BusinessTravel.value_counts()"
   ]
  },
  {
   "cell_type": "code",
   "execution_count": null,
   "id": "0ff8cd2b",
   "metadata": {},
   "outputs": [],
   "source": [
    "sns.countplot(df.BusinessTravel)"
   ]
  },
  {
   "cell_type": "code",
   "execution_count": null,
   "id": "19c386fb",
   "metadata": {},
   "outputs": [],
   "source": [
    "len(df[df.BusinessTravel=='Travel_Frequently'])/len(df)*100"
   ]
  },
  {
   "cell_type": "code",
   "execution_count": null,
   "id": "069c4cfb",
   "metadata": {},
   "outputs": [],
   "source": [
    "sns.distplot(df.DailyRate)"
   ]
  },
  {
   "cell_type": "code",
   "execution_count": null,
   "id": "469af3d4",
   "metadata": {},
   "outputs": [],
   "source": [
    "df.DailyRate.min()"
   ]
  },
  {
   "cell_type": "code",
   "execution_count": null,
   "id": "6ceb86bc",
   "metadata": {},
   "outputs": [],
   "source": [
    "df.DailyRate.max()"
   ]
  },
  {
   "cell_type": "markdown",
   "id": "73187cd4",
   "metadata": {},
   "source": [
    "The range of daily rate in between 102 to 1499."
   ]
  },
  {
   "cell_type": "code",
   "execution_count": null,
   "id": "b853f18c",
   "metadata": {},
   "outputs": [],
   "source": [
    "df.Department.value_counts().values"
   ]
  },
  {
   "cell_type": "code",
   "execution_count": null,
   "id": "811b15df",
   "metadata": {},
   "outputs": [],
   "source": [
    "sns.countplot(df.Department,order=df.Department.value_counts().index)"
   ]
  },
  {
   "cell_type": "code",
   "execution_count": null,
   "id": "e5b121f4",
   "metadata": {},
   "outputs": [],
   "source": [
    "len(df[df.Department=='Research & Development'])/len(df)"
   ]
  },
  {
   "cell_type": "markdown",
   "id": "266368b8",
   "metadata": {},
   "source": [
    "The company has more than 65% of employee in the R&D department."
   ]
  },
  {
   "cell_type": "code",
   "execution_count": null,
   "id": "f18de2f5",
   "metadata": {},
   "outputs": [],
   "source": [
    "fig = fig_this_large(16,4)\n",
    "\n",
    "fig.add_subplot(121)\n",
    "sns.countplot(df.DistanceFromHome)\n",
    "\n",
    "fig.add_subplot(122)\n",
    "sns.distplot(df.DistanceFromHome)"
   ]
  },
  {
   "cell_type": "code",
   "execution_count": null,
   "id": "c6e95109",
   "metadata": {},
   "outputs": [],
   "source": [
    "df.EducationField.value_counts()"
   ]
  },
  {
   "cell_type": "code",
   "execution_count": null,
   "id": "394bd4b3",
   "metadata": {},
   "outputs": [],
   "source": [
    "sns.countplot(df.EducationField,order=df.EducationField.value_counts().index)"
   ]
  },
  {
   "cell_type": "code",
   "execution_count": null,
   "id": "fa5437ea",
   "metadata": {},
   "outputs": [],
   "source": [
    "df[df.EducationField=='Technical Degree']['Department'].value_counts()"
   ]
  },
  {
   "cell_type": "code",
   "execution_count": null,
   "id": "5b8279e8",
   "metadata": {},
   "outputs": [],
   "source": [
    "df.Education.value_counts()"
   ]
  },
  {
   "cell_type": "code",
   "execution_count": null,
   "id": "1a07af04",
   "metadata": {},
   "outputs": [],
   "source": [
    "df.sort_values('Education',ascending=False).head(20)"
   ]
  },
  {
   "cell_type": "code",
   "execution_count": null,
   "id": "af65948d",
   "metadata": {},
   "outputs": [],
   "source": [
    "df.sort_values('Education',ascending=False).tail(20)"
   ]
  },
  {
   "cell_type": "code",
   "execution_count": null,
   "id": "9cb3efa9",
   "metadata": {},
   "outputs": [],
   "source": [
    "df"
   ]
  },
  {
   "cell_type": "code",
   "execution_count": null,
   "id": "fa18c8d8",
   "metadata": {},
   "outputs": [],
   "source": [
    "df.RelationshipSatisfaction.value_counts()"
   ]
  },
  {
   "cell_type": "code",
   "execution_count": null,
   "id": "b1e7d6ae",
   "metadata": {},
   "outputs": [],
   "source": [
    "df.StockOptionLevel.value_counts()"
   ]
  },
  {
   "cell_type": "code",
   "execution_count": null,
   "id": "2579a289",
   "metadata": {},
   "outputs": [],
   "source": [
    "fig = fig_this_large(16,4)\n",
    "\n",
    "fig.add_subplot(121)\n",
    "sns.distplot(df.TotalWorkingYears)\n",
    "\n",
    "fig.add_subplot(122)\n",
    "sns.countplot(df.TotalWorkingYears)"
   ]
  },
  {
   "cell_type": "markdown",
   "id": "ff7b4a17",
   "metadata": {},
   "source": [
    "The total working years has a slightly positive in skewed distribution."
   ]
  },
  {
   "cell_type": "code",
   "execution_count": null,
   "id": "cd708e5b",
   "metadata": {},
   "outputs": [],
   "source": [
    "df.Gender.value_counts()"
   ]
  },
  {
   "cell_type": "code",
   "execution_count": null,
   "id": "1f207eab",
   "metadata": {},
   "outputs": [],
   "source": [
    "sns.countplot(df.Gender,order=df.Gender.value_counts().index)"
   ]
  },
  {
   "cell_type": "markdown",
   "id": "b0db6deb",
   "metadata": {},
   "source": [
    "Male employees are more than female employees."
   ]
  },
  {
   "cell_type": "code",
   "execution_count": null,
   "id": "138113af",
   "metadata": {},
   "outputs": [],
   "source": [
    "df"
   ]
  },
  {
   "cell_type": "code",
   "execution_count": null,
   "id": "2896ef52",
   "metadata": {},
   "outputs": [],
   "source": [
    "sns.distplot(df.HourlyRate)"
   ]
  },
  {
   "cell_type": "markdown",
   "id": "4655c01c",
   "metadata": {},
   "source": [
    "Hourly rate uniform throughout the employees"
   ]
  },
  {
   "cell_type": "code",
   "execution_count": null,
   "id": "dab1e910",
   "metadata": {},
   "outputs": [],
   "source": [
    "df"
   ]
  },
  {
   "cell_type": "code",
   "execution_count": null,
   "id": "498ec4ff",
   "metadata": {},
   "outputs": [],
   "source": [
    "df.JobRole.value_counts()"
   ]
  },
  {
   "cell_type": "code",
   "execution_count": null,
   "id": "d0a02f58",
   "metadata": {
    "scrolled": true
   },
   "outputs": [],
   "source": [
    "fig_this_large(22,4)\n",
    "sns.countplot(df.JobRole,order=df.JobRole.value_counts().index)"
   ]
  },
  {
   "cell_type": "markdown",
   "id": "d2896bd8",
   "metadata": {},
   "source": [
    "In total, there are 9 job category."
   ]
  },
  {
   "cell_type": "code",
   "execution_count": null,
   "id": "1d461204",
   "metadata": {},
   "outputs": [],
   "source": [
    "df.MaritalStatus.value_counts()"
   ]
  },
  {
   "cell_type": "code",
   "execution_count": null,
   "id": "bad4c773",
   "metadata": {},
   "outputs": [],
   "source": [
    "sns.countplot(df.MaritalStatus,order=df.MaritalStatus.value_counts().index)"
   ]
  },
  {
   "cell_type": "markdown",
   "id": "fa5c4623",
   "metadata": {},
   "source": [
    "In most of the company, employees are married.  "
   ]
  },
  {
   "cell_type": "code",
   "execution_count": null,
   "id": "31251d68",
   "metadata": {},
   "outputs": [],
   "source": [
    "df.Attrition.value_counts()"
   ]
  },
  {
   "cell_type": "code",
   "execution_count": null,
   "id": "4e19455b",
   "metadata": {
    "scrolled": true
   },
   "outputs": [],
   "source": [
    "sns.countplot(df.Attrition)"
   ]
  },
  {
   "cell_type": "markdown",
   "id": "217b27f9",
   "metadata": {},
   "source": [
    "This dataset has imbalance classes"
   ]
  },
  {
   "cell_type": "markdown",
   "id": "31775398",
   "metadata": {},
   "source": [
    "MULTI VARIANTE ANALYSIS"
   ]
  },
  {
   "cell_type": "code",
   "execution_count": null,
   "id": "520ecbde",
   "metadata": {},
   "outputs": [],
   "source": [
    "df"
   ]
  },
  {
   "cell_type": "code",
   "execution_count": null,
   "id": "c4dcf06d",
   "metadata": {
    "scrolled": true
   },
   "outputs": [],
   "source": [
    "fig_this_large(12,4)\n",
    "sns.distplot(df[df.Attrition=='Yes']['Age'],label='Yes')\n",
    "sns.distplot(df[df.Attrition=='No']['Age'],label='No')\n",
    "plt.legend()"
   ]
  },
  {
   "cell_type": "markdown",
   "id": "2f81a751",
   "metadata": {},
   "source": [
    "Younger employees leave the company than older or setteled employees"
   ]
  },
  {
   "cell_type": "code",
   "execution_count": null,
   "id": "e42a52d6",
   "metadata": {},
   "outputs": [],
   "source": [
    "sns.countplot(df.BusinessTravel,hue=df.Attrition)"
   ]
  },
  {
   "cell_type": "code",
   "execution_count": null,
   "id": "bdc804af",
   "metadata": {},
   "outputs": [],
   "source": [
    "sns.barplot(df.Education,df.MonthlyIncome)"
   ]
  },
  {
   "cell_type": "markdown",
   "id": "977a4d11",
   "metadata": {},
   "source": [
    "high education high salary"
   ]
  },
  {
   "cell_type": "code",
   "execution_count": null,
   "id": "37af120e",
   "metadata": {},
   "outputs": [],
   "source": [
    "fig_this_large(12,4)\n",
    "sns.boxplot(df.JobRole,df.MonthlyIncome,order=df.groupby('JobRole').mean().sort_values('MonthlyIncome',ascending=False)['MonthlyIncome'].index)"
   ]
  },
  {
   "cell_type": "code",
   "execution_count": null,
   "id": "ad677edb",
   "metadata": {},
   "outputs": [],
   "source": [
    "sns.kdeplot(df[df.Attrition=='Yes']['DistanceFromHome'],label='Yes')\n",
    "sns.kdeplot(df[df.Attrition=='No']['DistanceFromHome'],label='No')\n",
    "plt.legend()"
   ]
  },
  {
   "cell_type": "markdown",
   "id": "5151f384",
   "metadata": {},
   "source": [
    "Employees who lives far from the company they leaves the company due to travel expences."
   ]
  },
  {
   "cell_type": "code",
   "execution_count": null,
   "id": "63911100",
   "metadata": {},
   "outputs": [],
   "source": [
    "sns.scatterplot(df.TotalWorkingYears,df.MonthlyIncome,hue=df.Attrition)"
   ]
  },
  {
   "cell_type": "markdown",
   "id": "bb6a1e93",
   "metadata": {},
   "source": [
    "Some employees leaves the company for hike salary because compan dont hike the salary. some of the employees are less monthly income as comapare to the workinghours so they leaves."
   ]
  },
  {
   "cell_type": "code",
   "execution_count": null,
   "id": "960f756e",
   "metadata": {},
   "outputs": [],
   "source": [
    "plt.pie(x=df.groupby('JobRole').mean()['MonthlyIncome'],labels=df.JobRole.value_counts().index,radius=2,shadow=True,explode=np.repeat(0.1,9),autopct='%'"
   ]
  },
  {
   "cell_type": "code",
   "execution_count": null,
   "id": "edb1d472",
   "metadata": {},
   "outputs": [],
   "source": [
    "df = pd.read_csv('https://raw.githubusercontent.com/tribeni99/Datascience/main/WA_Fn-UseC_-HR-Employee-Attrition.csv')"
   ]
  },
  {
   "cell_type": "code",
   "execution_count": null,
   "id": "c2fd8f24",
   "metadata": {},
   "outputs": [],
   "source": [
    "df"
   ]
  },
  {
   "cell_type": "code",
   "execution_count": null,
   "id": "bca567ea",
   "metadata": {},
   "outputs": [],
   "source": [
    "df_cleaned = df.drop(['StandardHours','EmployeeNumber','EmployeeCount','Over18'],1)"
   ]
  },
  {
   "cell_type": "code",
   "execution_count": null,
   "id": "9f2bc529",
   "metadata": {},
   "outputs": [],
   "source": [
    "df_cleaned"
   ]
  },
  {
   "cell_type": "markdown",
   "id": "513241c9",
   "metadata": {},
   "source": [
    "#Check for Outliers"
   ]
  },
  {
   "cell_type": "code",
   "execution_count": null,
   "id": "faa51d0e",
   "metadata": {},
   "outputs": [],
   "source": [
    "for col in integer_datatype:\n",
    "    fig_this_large(10,3)\n",
    "    sns.boxplot(df_cleaned[col])\n",
    "    plt.show()"
   ]
  },
  {
   "cell_type": "code",
   "execution_count": null,
   "id": "b106795e",
   "metadata": {},
   "outputs": [],
   "source": [
    "from scipy.stats import zscore\n",
    "zscr=np.abs(zscore(df))\n",
    "\n",
    "threshold=3\n",
    "print(np.where(zscr>3))"
   ]
  },
  {
   "cell_type": "code",
   "execution_count": null,
   "id": "97b68e61",
   "metadata": {},
   "outputs": [],
   "source": [
    "Q1 = df_cleaned.quantile(0.25)\n",
    "Q3 = df_cleaned.quantile(0.75)\n",
    "IQR = Q3 - Q1\n",
    "print(IQR)"
   ]
  },
  {
   "cell_type": "code",
   "execution_count": null,
   "id": "874de1b2",
   "metadata": {},
   "outputs": [],
   "source": [
    "df_cleaned = df_cleaned[~((df_cleaned < (Q1 - 3 * IQR))|(df_cleaned > (Q3 + 3*IQR))).any(axis=1)]"
   ]
  },
  {
   "cell_type": "code",
   "execution_count": null,
   "id": "8da2cef1",
   "metadata": {},
   "outputs": [],
   "source": [
    "len(df_cleaned)"
   ]
  },
  {
   "cell_type": "code",
   "execution_count": null,
   "id": "adbc272e",
   "metadata": {},
   "outputs": [],
   "source": [
    "for col in integer_datatype:\n",
    "    fig = fig_this_large(20,3)\n",
    "    \n",
    "    fig.add_subplot(131)\n",
    "    sns.boxplot(df[col])\n",
    "\n",
    "    fig.add_subplot(132)\n",
    "    sns.boxplot(df_cleaned[col])\n",
    "    \n",
    "    plt.show()"
   ]
  },
  {
   "cell_type": "code",
   "execution_count": null,
   "id": "223c9120",
   "metadata": {},
   "outputs": [],
   "source": [
    "for col in integer_datatype:\n",
    "    sns.distplot(df[col])\n",
    "    plt.show()"
   ]
  },
  {
   "cell_type": "code",
   "execution_count": null,
   "id": "a7e08eb4",
   "metadata": {},
   "outputs": [],
   "source": [
    "for col in integer_datatype:\n",
    "    fig_this_large(12,3)\n",
    "    sns.distplot(df[col])\n",
    "    plt.show()"
   ]
  },
  {
   "cell_type": "code",
   "execution_count": null,
   "id": "7ffb74f2",
   "metadata": {
    "scrolled": true
   },
   "outputs": [],
   "source": [
    "df_cleaned.skew()"
   ]
  },
  {
   "cell_type": "code",
   "execution_count": null,
   "id": "1fd88d05",
   "metadata": {},
   "outputs": [],
   "source": [
    "np.sqrt(df_cleaned[integer_datatype]+1).skew()"
   ]
  },
  {
   "cell_type": "code",
   "execution_count": null,
   "id": "5606f5f7",
   "metadata": {},
   "outputs": [],
   "source": [
    "df_cleaned[integer_datatype] = np.sqrt(df_cleaned[integer_datatype])"
   ]
  },
  {
   "cell_type": "code",
   "execution_count": null,
   "id": "902b347d",
   "metadata": {},
   "outputs": [],
   "source": [
    "for col in integer_datatype:\n",
    "    fig = fig_this_large(20,3)\n",
    "    \n",
    "    fig.add_subplot(131)\n",
    "    sns.distplot(df[col])\n",
    "\n",
    "    fig.add_subplot(132)\n",
    "    sns.distplot(df_cleaned[col])\n",
    "    \n",
    "    plt.show()"
   ]
  },
  {
   "cell_type": "code",
   "execution_count": null,
   "id": "8160538f",
   "metadata": {},
   "outputs": [],
   "source": [
    "from sklearn.preprocessing import LabelEncoder"
   ]
  },
  {
   "cell_type": "code",
   "execution_count": null,
   "id": "69ee4d6c",
   "metadata": {},
   "outputs": [],
   "source": [
    "le=LabelEncoder()\n",
    "\n",
    "df_col=list(df.columns)\n",
    "\n",
    "for i in range(len(df_col)):\n",
    "    df[df_col[i]]=le.fit_transform(df[df_col[i]])"
   ]
  },
  {
   "cell_type": "code",
   "execution_count": null,
   "id": "6a4d86c3",
   "metadata": {},
   "outputs": [],
   "source": [
    "df"
   ]
  },
  {
   "cell_type": "code",
   "execution_count": null,
   "id": "6db5efa8",
   "metadata": {},
   "outputs": [],
   "source": [
    "df.info()"
   ]
  },
  {
   "cell_type": "code",
   "execution_count": null,
   "id": "acd2ae3a",
   "metadata": {},
   "outputs": [],
   "source": [
    "x=df.drop(['Attrition'],axis=1)\n",
    "y=df['Attrition']\n",
    "y=pd.DataFrame(data=y)"
   ]
  },
  {
   "cell_type": "code",
   "execution_count": null,
   "id": "274e5e11",
   "metadata": {},
   "outputs": [],
   "source": [
    "x"
   ]
  },
  {
   "cell_type": "code",
   "execution_count": null,
   "id": "0cc8f33b",
   "metadata": {},
   "outputs": [],
   "source": [
    "y"
   ]
  },
  {
   "cell_type": "code",
   "execution_count": null,
   "id": "2c794761",
   "metadata": {},
   "outputs": [],
   "source": [
    "x.skew()"
   ]
  },
  {
   "cell_type": "code",
   "execution_count": null,
   "id": "d4e36f93",
   "metadata": {},
   "outputs": [],
   "source": [
    "from sklearn.preprocessing import power_transform"
   ]
  },
  {
   "cell_type": "code",
   "execution_count": null,
   "id": "24e0641a",
   "metadata": {},
   "outputs": [],
   "source": [
    "x_new=x.copy()"
   ]
  },
  {
   "cell_type": "code",
   "execution_count": null,
   "id": "44134149",
   "metadata": {},
   "outputs": [],
   "source": [
    "x2=power_transform(x)"
   ]
  },
  {
   "cell_type": "code",
   "execution_count": null,
   "id": "b321b6a8",
   "metadata": {},
   "outputs": [],
   "source": [
    "x2"
   ]
  },
  {
   "cell_type": "code",
   "execution_count": null,
   "id": "20161fe4",
   "metadata": {},
   "outputs": [],
   "source": [
    "x2=pd.DataFrame(data=x2,columns=x.columns)"
   ]
  },
  {
   "cell_type": "code",
   "execution_count": null,
   "id": "72c6eafa",
   "metadata": {},
   "outputs": [],
   "source": [
    "x2.skew()"
   ]
  },
  {
   "cell_type": "code",
   "execution_count": null,
   "id": "225bb6af",
   "metadata": {},
   "outputs": [],
   "source": [
    "x=x2"
   ]
  },
  {
   "cell_type": "code",
   "execution_count": null,
   "id": "774e489c",
   "metadata": {},
   "outputs": [],
   "source": [
    "from imblearn.over_sampling import SMOTE"
   ]
  },
  {
   "cell_type": "code",
   "execution_count": null,
   "id": "9273c649",
   "metadata": {},
   "outputs": [],
   "source": [
    "SM=SMOTE()\n",
    "X,Y=SM.fit_resample(x,y)"
   ]
  },
  {
   "cell_type": "code",
   "execution_count": null,
   "id": "272d6da8",
   "metadata": {},
   "outputs": [],
   "source": [
    "y_new=pd.DataFrame(data=y)"
   ]
  },
  {
   "cell_type": "code",
   "execution_count": null,
   "id": "cbe69114",
   "metadata": {},
   "outputs": [],
   "source": [
    "x_new=pd.DataFrame(data=x)"
   ]
  },
  {
   "cell_type": "code",
   "execution_count": null,
   "id": "a6cbeceb",
   "metadata": {},
   "outputs": [],
   "source": [
    "y_new.value_counts()"
   ]
  },
  {
   "cell_type": "code",
   "execution_count": null,
   "id": "e94b6e34",
   "metadata": {},
   "outputs": [],
   "source": [
    "oversample = SMOTE()\n",
    "X, Y = oversample.fit_resample(X, Y)"
   ]
  },
  {
   "cell_type": "code",
   "execution_count": null,
   "id": "c635a10e",
   "metadata": {},
   "outputs": [],
   "source": [
    "Y.value_counts()"
   ]
  },
  {
   "cell_type": "code",
   "execution_count": null,
   "id": "8150fc59",
   "metadata": {},
   "outputs": [],
   "source": [
    "scaler = StandardScaler()\n",
    "X = pd.DataFrame(scaler.fit_transform(X), columns=X.columns)\n",
    "X.head()"
   ]
  },
  {
   "cell_type": "code",
   "execution_count": null,
   "id": "d32a8fa0",
   "metadata": {},
   "outputs": [],
   "source": [
    "maxAccu=0\n",
    "maxRS=0\n",
    "\n",
    "for i in range(1,1000):\n",
    "    X_train,X_test,Y_train,Y_test = train_test_split(X,Y,test_size=0.25,random_state=i)\n",
    "    lr=LogisticRegression()\n",
    "    lr.fit(X_train,Y_train)\n",
    "    pred=lr.predict(X_test)\n",
    "    acc_score = (accuracy_score(Y_test,pred))*100\n",
    "    \n",
    "    if acc_score>maxAccu:\n",
    "        maxAccu=acc_score\n",
    "        maxRS=i\n",
    "\n",
    "print(\"Best accuracy score is\",maxAccu,\"on Random State\",maxRS)     "
   ]
  },
  {
   "cell_type": "markdown",
   "id": "8908cbcb",
   "metadata": {},
   "source": [
    "#Creating the training and testing data"
   ]
  },
  {
   "cell_type": "code",
   "execution_count": null,
   "id": "d25d9fc1",
   "metadata": {},
   "outputs": [],
   "source": [
    "X_train,X_test,Y_train,Y_test = train_test_split(X,Y,test_size=0.25,random_state=659)"
   ]
  },
  {
   "cell_type": "markdown",
   "id": "ddcd047c",
   "metadata": {},
   "source": [
    "#Machine learning model for classification with evalution matrics"
   ]
  },
  {
   "cell_type": "code",
   "execution_count": null,
   "id": "1181e518",
   "metadata": {},
   "outputs": [],
   "source": [
    "def classify(model,X,Y):\n",
    "    X_train,X_test,Y_train,Y_test = train_test_split(X,Y,test_size=0.25,random_state=659)\n",
    "    \n",
    "    model.fit(X_train,Y_train)\n",
    "    \n",
    "    pred = model.predict(X_test)\n",
    "    \n",
    "    acc_score = (accuracy_score(Y_test,pred))*100\n",
    "    print(\"Accuracy Score:\",acc_score)\n",
    "    \n",
    "    cv_score = (cross_val_score(model, X, Y, cv=5).mean())*100\n",
    "    print(\"Cross Validation Score:\", cv_score)\n",
    "    \n",
    "    result = acc_score - cv_score\n",
    "    print(\"\\nAccuracy Score - Cross Validation Score is\",result)"
   ]
  },
  {
   "cell_type": "code",
   "execution_count": null,
   "id": "e2ba6556",
   "metadata": {},
   "outputs": [],
   "source": [
    "model=LogisticRegression()\n",
    "classify(model ,X , Y)"
   ]
  },
  {
   "cell_type": "code",
   "execution_count": null,
   "id": "907c6623",
   "metadata": {},
   "outputs": [],
   "source": [
    "model=SVC(C=1.0,kernel='rbf',gamma='auto',random_state=42)\n",
    "classify(model,X,Y)"
   ]
  },
  {
   "cell_type": "code",
   "execution_count": null,
   "id": "c435fc4c",
   "metadata": {},
   "outputs": [],
   "source": [
    "model=DecisionTreeClassifier(random_state=21,max_depth=15)\n",
    "classify(model,X,Y)"
   ]
  },
  {
   "cell_type": "code",
   "execution_count": null,
   "id": "9335caf6",
   "metadata": {},
   "outputs": [],
   "source": [
    "model=RandomForestClassifier(max_depth=15,random_state=111)\n",
    "classify(model,X,Y)"
   ]
  },
  {
   "cell_type": "code",
   "execution_count": null,
   "id": "2ce07bad",
   "metadata": {},
   "outputs": [],
   "source": [
    "from sklearn.ensemble import ExtraTreesClassifier \n",
    "model=ExtraTreesClassifier()\n",
    "classify(model,X,Y)"
   ]
  },
  {
   "cell_type": "code",
   "execution_count": null,
   "id": "4ce3973a",
   "metadata": {},
   "outputs": [],
   "source": [
    "fmod_param = {'criterion' : [\"gini\", \"entropy\"],\n",
    "              'splitter' : [\"best\", \"random\"],\n",
    "              'min_samples_split' : [2, 3, 4],\n",
    "              'max_depth' : [4, 6, 8],\n",
    "              'random_state' : [42, 111, 659]\n",
    "             }"
   ]
  },
  {
   "cell_type": "code",
   "execution_count": null,
   "id": "c168182a",
   "metadata": {},
   "outputs": [],
   "source": [
    "GSCV = GridSearchCV(DecisionTreeClassifier(),fmod_param,cv=5)"
   ]
  },
  {
   "cell_type": "code",
   "execution_count": null,
   "id": "8f4536fc",
   "metadata": {},
   "outputs": [],
   "source": [
    "GSCV.fit(X_train,Y_train)"
   ]
  },
  {
   "cell_type": "code",
   "execution_count": null,
   "id": "ffcbfaee",
   "metadata": {},
   "outputs": [],
   "source": [
    "GSCV.best_params_"
   ]
  },
  {
   "cell_type": "code",
   "execution_count": null,
   "id": "00bd8e30",
   "metadata": {},
   "outputs": [],
   "source": [
    "GSCV.best_score_"
   ]
  },
  {
   "cell_type": "code",
   "execution_count": null,
   "id": "ee1c6593",
   "metadata": {},
   "outputs": [],
   "source": [
    "Final_Model = DecisionTreeClassifier(criterion=\"entropy\",max_depth=8,min_samples_split=4,\n",
    "                                     random_state=42,splitter=\"best\")\n",
    "Classifier = Final_Model.fit(X_train,Y_train)\n",
    "fmod_pred = Final_Model.predict(X_test)\n",
    "fmod_acc = (accuracy_score(Y_test,fmod_pred))*100\n",
    "print(\"Accuracy score for the best Model is:\",fmod_acc)"
   ]
  },
  {
   "cell_type": "markdown",
   "id": "13901ee9",
   "metadata": {},
   "source": [
    "#AUC ROC Curve"
   ]
  },
  {
   "cell_type": "code",
   "execution_count": null,
   "id": "b080d14f",
   "metadata": {},
   "outputs": [],
   "source": [
    "disp = metrics.plot_roc_curve(Final_Model,X_test,Y_test)\n",
    "disp.figure_.suptitle(\"ROC Curve\")\n",
    "plt.show()"
   ]
  },
  {
   "cell_type": "code",
   "execution_count": null,
   "id": "1183260d",
   "metadata": {},
   "outputs": [],
   "source": [
    "import joblib"
   ]
  },
  {
   "cell_type": "code",
   "execution_count": null,
   "id": "13535a47",
   "metadata": {},
   "outputs": [],
   "source": [
    "filename = \"FinalModel_E03.PKL\"\n",
    "joblib.dump(Final_Model,filename)"
   ]
  },
  {
   "cell_type": "code",
   "execution_count": null,
   "id": "20652ce9",
   "metadata": {},
   "outputs": [],
   "source": []
  }
 ],
 "metadata": {
  "kernelspec": {
   "display_name": "Python 3",
   "language": "python",
   "name": "python3"
  },
  "language_info": {
   "codemirror_mode": {
    "name": "ipython",
    "version": 3
   },
   "file_extension": ".py",
   "mimetype": "text/x-python",
   "name": "python",
   "nbconvert_exporter": "python",
   "pygments_lexer": "ipython3",
   "version": "3.8.8"
  }
 },
 "nbformat": 4,
 "nbformat_minor": 5
}
