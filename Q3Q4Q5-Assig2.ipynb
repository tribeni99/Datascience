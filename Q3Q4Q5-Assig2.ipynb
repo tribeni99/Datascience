{
 "cells": [
  {
   "cell_type": "code",
   "execution_count": null,
   "id": "147d9f8a",
   "metadata": {},
   "outputs": [],
   "source": [
    "Q3"
   ]
  },
  {
   "cell_type": "code",
   "execution_count": 1,
   "id": "790c0c94",
   "metadata": {},
   "outputs": [],
   "source": [
    "import selenium\n",
    "import pandas as pd\n",
    "from selenium import webdriver"
   ]
  },
  {
   "cell_type": "code",
   "execution_count": 1,
   "id": "2cb3b090",
   "metadata": {},
   "outputs": [
    {
     "ename": "NameError",
     "evalue": "name 'webdriver' is not defined",
     "output_type": "error",
     "traceback": [
      "\u001b[1;31m---------------------------------------------------------------------------\u001b[0m",
      "\u001b[1;31mNameError\u001b[0m                                 Traceback (most recent call last)",
      "\u001b[1;32m<ipython-input-1-79fac5a6ab2d>\u001b[0m in \u001b[0;36m<module>\u001b[1;34m\u001b[0m\n\u001b[1;32m----> 1\u001b[1;33m \u001b[0mdriver\u001b[0m\u001b[1;33m=\u001b[0m\u001b[0mwebdriver\u001b[0m\u001b[1;33m.\u001b[0m\u001b[0mEdge\u001b[0m\u001b[1;33m(\u001b[0m\u001b[0mexecutable_path\u001b[0m\u001b[1;33m=\u001b[0m\u001b[1;34m\"C:\\\\Users\\\\AT SYSTEM\\Desktop\\\\edgedriver_win32 (3)\\\\msedgedriver.exe\"\u001b[0m\u001b[1;33m)\u001b[0m\u001b[1;33m\u001b[0m\u001b[1;33m\u001b[0m\u001b[0m\n\u001b[0m",
      "\u001b[1;31mNameError\u001b[0m: name 'webdriver' is not defined"
     ]
    }
   ],
   "source": [
    "driver=webdriver.Edge(executable_path=\"C:\\\\Users\\\\AT SYSTEM\\Desktop\\\\edgedriver_win32 (3)\\\\msedgedriver.exe\")"
   ]
  },
  {
   "cell_type": "code",
   "execution_count": 3,
   "id": "8b52d6cb",
   "metadata": {},
   "outputs": [],
   "source": [
    "driver.get(\"https://www.naukri.com\")"
   ]
  },
  {
   "cell_type": "code",
   "execution_count": 4,
   "id": "500cf161",
   "metadata": {},
   "outputs": [
    {
     "name": "stderr",
     "output_type": "stream",
     "text": [
      "<ipython-input-4-6f9c945b48a6>:1: DeprecationWarning: find_element_by_* commands are deprecated. Please use find_element() instead\n",
      "  srh_t=driver.find_element_by_id('qsb-keyword-sugg')\n"
     ]
    }
   ],
   "source": [
    "srh_t=driver.find_element_by_id('qsb-keyword-sugg')\n",
    "srh_t.send_keys('Data Scientist')"
   ]
  },
  {
   "cell_type": "code",
   "execution_count": 5,
   "id": "48d90b94",
   "metadata": {},
   "outputs": [
    {
     "name": "stderr",
     "output_type": "stream",
     "text": [
      "<ipython-input-5-ddbb4d73579f>:1: DeprecationWarning: find_element_by_* commands are deprecated. Please use find_element() instead\n",
      "  srh_btn=driver.find_element_by_xpath(\"//div[@class='search-btn']/button\")\n"
     ]
    }
   ],
   "source": [
    "srh_btn=driver.find_element_by_xpath(\"//div[@class='search-btn']/button\")\n",
    "srh_btn.click()"
   ]
  },
  {
   "cell_type": "code",
   "execution_count": 9,
   "id": "caed2c8a",
   "metadata": {},
   "outputs": [
    {
     "name": "stderr",
     "output_type": "stream",
     "text": [
      "<ipython-input-9-a6803237d9e9>:1: DeprecationWarning: find_element_by_* commands are deprecated. Please use find_element() instead\n",
      "  srh_lc=driver.find_element_by_xpath(\"//div[@data-filter-id='citiesGid']/div[3]\")\n"
     ]
    }
   ],
   "source": [
    "srh_lc=driver.find_element_by_xpath(\"//div[@data-filter-id='citiesGid']/div[3]\")\n",
    "srh_lc.click()"
   ]
  },
  {
   "cell_type": "code",
   "execution_count": 10,
   "id": "4eed44fa",
   "metadata": {},
   "outputs": [
    {
     "name": "stderr",
     "output_type": "stream",
     "text": [
      "<ipython-input-10-6b44a949fdde>:1: DeprecationWarning: find_element_by_* commands are deprecated. Please use find_element() instead\n",
      "  srh_s=driver.find_element_by_xpath(\"//div[@data-filter-id='salaryRange']/div[2]\")\n"
     ]
    }
   ],
   "source": [
    "srh_s=driver.find_element_by_xpath(\"//div[@data-filter-id='salaryRange']/div[2]\")\n",
    "srh_s.click()"
   ]
  },
  {
   "cell_type": "code",
   "execution_count": 11,
   "id": "c11f236b",
   "metadata": {},
   "outputs": [],
   "source": [
    "title_job=[]\n",
    "company_Name=[]\n",
    "Experience_requride=[]"
   ]
  },
  {
   "cell_type": "code",
   "execution_count": 12,
   "id": "308148d2",
   "metadata": {},
   "outputs": [
    {
     "name": "stderr",
     "output_type": "stream",
     "text": [
      "<ipython-input-12-47544cc05d83>:1: DeprecationWarning: find_elements_by_* commands are deprecated. Please use find_elements() instead\n",
      "  tj=driver.find_elements_by_xpath(\"//a[@class='title fw500 ellipsis']\")\n"
     ]
    }
   ],
   "source": [
    "tj=driver.find_elements_by_xpath(\"//a[@class='title fw500 ellipsis']\")"
   ]
  },
  {
   "cell_type": "code",
   "execution_count": 13,
   "id": "1a8ce6da",
   "metadata": {},
   "outputs": [
    {
     "data": {
      "text/plain": [
       "[<selenium.webdriver.remote.webelement.WebElement (session=\"c6169021fb8da53d6535d5a4a188056b\", element=\"80df90fb-2dba-4523-8be3-6858a8aebf91\")>,\n",
       " <selenium.webdriver.remote.webelement.WebElement (session=\"c6169021fb8da53d6535d5a4a188056b\", element=\"7382ab84-64fc-45c7-b725-a500ea8b80d8\")>,\n",
       " <selenium.webdriver.remote.webelement.WebElement (session=\"c6169021fb8da53d6535d5a4a188056b\", element=\"03a4ae31-9182-4004-8351-2677ce905f0b\")>,\n",
       " <selenium.webdriver.remote.webelement.WebElement (session=\"c6169021fb8da53d6535d5a4a188056b\", element=\"fe778054-8219-4725-a34b-3a78f9d389ea\")>,\n",
       " <selenium.webdriver.remote.webelement.WebElement (session=\"c6169021fb8da53d6535d5a4a188056b\", element=\"fb8be881-d781-400e-a1a7-8d4fadd5ae2d\")>,\n",
       " <selenium.webdriver.remote.webelement.WebElement (session=\"c6169021fb8da53d6535d5a4a188056b\", element=\"ef2618ce-4def-4a50-b0c0-89b1238d3d6c\")>,\n",
       " <selenium.webdriver.remote.webelement.WebElement (session=\"c6169021fb8da53d6535d5a4a188056b\", element=\"dde88a23-8e69-4157-886c-44d7a9b15118\")>,\n",
       " <selenium.webdriver.remote.webelement.WebElement (session=\"c6169021fb8da53d6535d5a4a188056b\", element=\"5f76b7e6-7c57-41a2-ad5a-556fbe2f6003\")>,\n",
       " <selenium.webdriver.remote.webelement.WebElement (session=\"c6169021fb8da53d6535d5a4a188056b\", element=\"bffeeba0-368b-4f82-a949-14298bf9cde4\")>,\n",
       " <selenium.webdriver.remote.webelement.WebElement (session=\"c6169021fb8da53d6535d5a4a188056b\", element=\"856b5e46-3872-44a5-9709-275cd007f1f8\")>,\n",
       " <selenium.webdriver.remote.webelement.WebElement (session=\"c6169021fb8da53d6535d5a4a188056b\", element=\"5c70949f-63a1-4ffb-843e-f36c82c5f40f\")>,\n",
       " <selenium.webdriver.remote.webelement.WebElement (session=\"c6169021fb8da53d6535d5a4a188056b\", element=\"0bb6c318-8dfb-40d7-b847-00ba0b17414c\")>,\n",
       " <selenium.webdriver.remote.webelement.WebElement (session=\"c6169021fb8da53d6535d5a4a188056b\", element=\"fa1981b3-014c-4ef5-a2fc-246f584912b3\")>,\n",
       " <selenium.webdriver.remote.webelement.WebElement (session=\"c6169021fb8da53d6535d5a4a188056b\", element=\"2b27f7b4-3bdf-4f91-8520-5f0d7eaa3097\")>,\n",
       " <selenium.webdriver.remote.webelement.WebElement (session=\"c6169021fb8da53d6535d5a4a188056b\", element=\"003e5797-0e91-4575-9cc7-76f0aebf252d\")>,\n",
       " <selenium.webdriver.remote.webelement.WebElement (session=\"c6169021fb8da53d6535d5a4a188056b\", element=\"7b45ed55-5477-41df-8289-e3bd049a8003\")>,\n",
       " <selenium.webdriver.remote.webelement.WebElement (session=\"c6169021fb8da53d6535d5a4a188056b\", element=\"b912208c-1fc0-4d29-a7db-0097a04839f2\")>,\n",
       " <selenium.webdriver.remote.webelement.WebElement (session=\"c6169021fb8da53d6535d5a4a188056b\", element=\"8c625378-0590-4ee0-b741-003106ac7980\")>,\n",
       " <selenium.webdriver.remote.webelement.WebElement (session=\"c6169021fb8da53d6535d5a4a188056b\", element=\"f6d957bf-cd92-414f-afe5-89fde62f0b08\")>,\n",
       " <selenium.webdriver.remote.webelement.WebElement (session=\"c6169021fb8da53d6535d5a4a188056b\", element=\"c2abdc0d-b192-4e3a-be2e-cf2d8f8ac8bc\")>]"
      ]
     },
     "execution_count": 13,
     "metadata": {},
     "output_type": "execute_result"
    }
   ],
   "source": [
    "tj"
   ]
  },
  {
   "cell_type": "code",
   "execution_count": 14,
   "id": "3fe57a04",
   "metadata": {},
   "outputs": [
    {
     "data": {
      "text/plain": [
       "['Data Scientist',\n",
       " 'Data Scientist',\n",
       " 'Hiring For Data Scientist',\n",
       " 'Project Manager | Team Leader | Senior Data Scientist',\n",
       " 'Data Scientist',\n",
       " 'NTT DATA_ Hiring For BIG DATA ,DATA Scientist, Devops',\n",
       " 'Hiring For Data Analyst / Data Scientist',\n",
       " 'Data Scientist',\n",
       " 'Data Scientist',\n",
       " 'Data Scientist/ Senior Data Scientist',\n",
       " 'Urgent Hiring For Data Scientist | Work From Office',\n",
       " 'Data Analyst / Data Scientist / Business Analytics / Fresher - MNC',\n",
       " 'Data Scientist',\n",
       " 'Senior Data Scientist',\n",
       " 'Data Scientist',\n",
       " 'Data Scientist',\n",
       " 'Data Scientist',\n",
       " 'Data Scientist',\n",
       " 'Data Scientist',\n",
       " 'Data Scientist']"
      ]
     },
     "execution_count": 14,
     "metadata": {},
     "output_type": "execute_result"
    }
   ],
   "source": [
    "for i1 in tj:\n",
    "    tj1=i1.text\n",
    "    title_job.append(tj1)\n",
    "title_job"
   ]
  },
  {
   "cell_type": "code",
   "execution_count": 15,
   "id": "0096630f",
   "metadata": {},
   "outputs": [
    {
     "name": "stderr",
     "output_type": "stream",
     "text": [
      "<ipython-input-15-adc95a4c35a9>:1: DeprecationWarning: find_elements_by_* commands are deprecated. Please use find_elements() instead\n",
      "  cn=driver.find_elements_by_xpath(\"//a[@class='subTitle ellipsis fleft']\")\n"
     ]
    }
   ],
   "source": [
    "cn=driver.find_elements_by_xpath(\"//a[@class='subTitle ellipsis fleft']\")"
   ]
  },
  {
   "cell_type": "code",
   "execution_count": 16,
   "id": "94281786",
   "metadata": {},
   "outputs": [
    {
     "data": {
      "text/plain": [
       "[<selenium.webdriver.remote.webelement.WebElement (session=\"c6169021fb8da53d6535d5a4a188056b\", element=\"441a68bd-1515-49a2-97c2-3f4350a22116\")>,\n",
       " <selenium.webdriver.remote.webelement.WebElement (session=\"c6169021fb8da53d6535d5a4a188056b\", element=\"84f453ae-a83a-4dc4-8963-044fccdcad44\")>,\n",
       " <selenium.webdriver.remote.webelement.WebElement (session=\"c6169021fb8da53d6535d5a4a188056b\", element=\"8612b3af-8d10-4237-a170-b448451d0cc6\")>,\n",
       " <selenium.webdriver.remote.webelement.WebElement (session=\"c6169021fb8da53d6535d5a4a188056b\", element=\"4a4aeb75-2535-4160-90e0-e535cb2565b8\")>,\n",
       " <selenium.webdriver.remote.webelement.WebElement (session=\"c6169021fb8da53d6535d5a4a188056b\", element=\"6c1ba2bc-c9cd-4c77-a019-ca596c5002d4\")>,\n",
       " <selenium.webdriver.remote.webelement.WebElement (session=\"c6169021fb8da53d6535d5a4a188056b\", element=\"c17e7ac0-9c51-4dc0-a9d4-e0b92a10221e\")>,\n",
       " <selenium.webdriver.remote.webelement.WebElement (session=\"c6169021fb8da53d6535d5a4a188056b\", element=\"dd1ba1d9-ba73-4230-a76f-3e29f6b8d876\")>,\n",
       " <selenium.webdriver.remote.webelement.WebElement (session=\"c6169021fb8da53d6535d5a4a188056b\", element=\"2d532b18-a632-4d5c-addb-3514e5e24de7\")>,\n",
       " <selenium.webdriver.remote.webelement.WebElement (session=\"c6169021fb8da53d6535d5a4a188056b\", element=\"d9298e6c-3b58-4d1f-9223-a03011165a52\")>,\n",
       " <selenium.webdriver.remote.webelement.WebElement (session=\"c6169021fb8da53d6535d5a4a188056b\", element=\"1a2c2d61-605b-4c2e-99f3-060dd107099f\")>,\n",
       " <selenium.webdriver.remote.webelement.WebElement (session=\"c6169021fb8da53d6535d5a4a188056b\", element=\"b02d311d-707e-4790-8e49-465bf2ceab23\")>,\n",
       " <selenium.webdriver.remote.webelement.WebElement (session=\"c6169021fb8da53d6535d5a4a188056b\", element=\"36ae31a3-047e-4eff-9709-3686ce207203\")>,\n",
       " <selenium.webdriver.remote.webelement.WebElement (session=\"c6169021fb8da53d6535d5a4a188056b\", element=\"1a8b7832-9fef-4993-bfb8-51e3ae92c60e\")>,\n",
       " <selenium.webdriver.remote.webelement.WebElement (session=\"c6169021fb8da53d6535d5a4a188056b\", element=\"2f6ce5ab-4624-4969-8065-f56f9cb8cb91\")>,\n",
       " <selenium.webdriver.remote.webelement.WebElement (session=\"c6169021fb8da53d6535d5a4a188056b\", element=\"a808f2ba-9033-4154-a468-a58ff9a0e900\")>,\n",
       " <selenium.webdriver.remote.webelement.WebElement (session=\"c6169021fb8da53d6535d5a4a188056b\", element=\"9b22d71c-c049-41a2-a692-9a7e935a30cf\")>,\n",
       " <selenium.webdriver.remote.webelement.WebElement (session=\"c6169021fb8da53d6535d5a4a188056b\", element=\"899c8338-dcc5-4ded-b8b2-bc3024bc7d7c\")>,\n",
       " <selenium.webdriver.remote.webelement.WebElement (session=\"c6169021fb8da53d6535d5a4a188056b\", element=\"6c581c92-f1f9-4077-96fc-97af279abfb9\")>,\n",
       " <selenium.webdriver.remote.webelement.WebElement (session=\"c6169021fb8da53d6535d5a4a188056b\", element=\"eaf93b55-d425-4dcb-91cb-b0193d5624d8\")>,\n",
       " <selenium.webdriver.remote.webelement.WebElement (session=\"c6169021fb8da53d6535d5a4a188056b\", element=\"83cf2847-9c8f-44c8-848f-9a896f3f7448\")>]"
      ]
     },
     "execution_count": 16,
     "metadata": {},
     "output_type": "execute_result"
    }
   ],
   "source": [
    "cn"
   ]
  },
  {
   "cell_type": "code",
   "execution_count": 17,
   "id": "fc079fee",
   "metadata": {},
   "outputs": [],
   "source": [
    "for ele2 in cn:\n",
    "    cn1=ele2.text\n",
    "    company_Name.append(cn1)"
   ]
  },
  {
   "cell_type": "code",
   "execution_count": 18,
   "id": "9b5807ff",
   "metadata": {},
   "outputs": [
    {
     "data": {
      "text/plain": [
       "['LG Electronics India Pvt. Ltd.',\n",
       " 'Navikenz India Pvt Ltd',\n",
       " 'Tata Consultancy Services Ltd.',\n",
       " 'Tidyquant (OPC) Private Limited',\n",
       " 'Teleperformance',\n",
       " 'NTT Data Business Solutions Pvt Ltd',\n",
       " 'Careerera',\n",
       " 'Whizhack Technologies pvt ltd',\n",
       " 'One Mobikwik Systems Private Limited',\n",
       " 'Newgen Software Technologies',\n",
       " 'Careerera',\n",
       " 'GABA Consultancy services',\n",
       " 'The Boston Consulting Group (India) Pvt Limited',\n",
       " 'iNICU',\n",
       " 'WEGARNER SOLUTIONS PRIVATE LIMITED',\n",
       " 'Sentieo',\n",
       " 'BlackBuck',\n",
       " 'Country Veggie',\n",
       " 'Mahajan Imaging',\n",
       " 'Mahajan Imaging']"
      ]
     },
     "execution_count": 18,
     "metadata": {},
     "output_type": "execute_result"
    }
   ],
   "source": [
    "company_Name"
   ]
  },
  {
   "cell_type": "code",
   "execution_count": 19,
   "id": "5fba03e0",
   "metadata": {},
   "outputs": [
    {
     "name": "stderr",
     "output_type": "stream",
     "text": [
      "<ipython-input-19-104c1c8c8012>:1: DeprecationWarning: find_elements_by_* commands are deprecated. Please use find_elements() instead\n",
      "  exp1=driver.find_elements_by_xpath(\"//li[@class='fleft grey-text br2 placeHolderLi experience']/span\")\n"
     ]
    }
   ],
   "source": [
    "exp1=driver.find_elements_by_xpath(\"//li[@class='fleft grey-text br2 placeHolderLi experience']/span\")"
   ]
  },
  {
   "cell_type": "code",
   "execution_count": 20,
   "id": "13c20109",
   "metadata": {},
   "outputs": [
    {
     "data": {
      "text/plain": [
       "[<selenium.webdriver.remote.webelement.WebElement (session=\"c6169021fb8da53d6535d5a4a188056b\", element=\"6cddf0eb-7ea2-4988-9b24-0d2a59f87255\")>,\n",
       " <selenium.webdriver.remote.webelement.WebElement (session=\"c6169021fb8da53d6535d5a4a188056b\", element=\"1dc712ca-91e9-47f4-af8e-1fbd96cfbe17\")>,\n",
       " <selenium.webdriver.remote.webelement.WebElement (session=\"c6169021fb8da53d6535d5a4a188056b\", element=\"0f5c5f7b-a594-404e-9a84-50ebfb44ead1\")>,\n",
       " <selenium.webdriver.remote.webelement.WebElement (session=\"c6169021fb8da53d6535d5a4a188056b\", element=\"d81213f9-4100-4fac-9624-2ebad9cd5b33\")>,\n",
       " <selenium.webdriver.remote.webelement.WebElement (session=\"c6169021fb8da53d6535d5a4a188056b\", element=\"b7948266-9d69-461c-9c33-f60076908dc1\")>,\n",
       " <selenium.webdriver.remote.webelement.WebElement (session=\"c6169021fb8da53d6535d5a4a188056b\", element=\"f1d6c143-400d-436d-9327-9ab3597a7bfb\")>,\n",
       " <selenium.webdriver.remote.webelement.WebElement (session=\"c6169021fb8da53d6535d5a4a188056b\", element=\"7d0dcef1-4e7d-4ad0-be29-95e1889d74d5\")>,\n",
       " <selenium.webdriver.remote.webelement.WebElement (session=\"c6169021fb8da53d6535d5a4a188056b\", element=\"8114e1ca-765d-49de-a623-d63828931594\")>,\n",
       " <selenium.webdriver.remote.webelement.WebElement (session=\"c6169021fb8da53d6535d5a4a188056b\", element=\"0dc56eda-6907-4dee-a7ad-de09ef94f1e8\")>,\n",
       " <selenium.webdriver.remote.webelement.WebElement (session=\"c6169021fb8da53d6535d5a4a188056b\", element=\"726eed81-d572-4f72-9133-70d2392bfef3\")>,\n",
       " <selenium.webdriver.remote.webelement.WebElement (session=\"c6169021fb8da53d6535d5a4a188056b\", element=\"7e548a46-e893-4588-850a-831c76d739cc\")>,\n",
       " <selenium.webdriver.remote.webelement.WebElement (session=\"c6169021fb8da53d6535d5a4a188056b\", element=\"ec8546bd-d88e-48b6-bfa9-f2c0a03ae651\")>,\n",
       " <selenium.webdriver.remote.webelement.WebElement (session=\"c6169021fb8da53d6535d5a4a188056b\", element=\"c1f492b8-66f3-45dc-8857-0937a5b0688b\")>,\n",
       " <selenium.webdriver.remote.webelement.WebElement (session=\"c6169021fb8da53d6535d5a4a188056b\", element=\"2b378bc5-d02d-43eb-9f8d-7ac1c96f4224\")>,\n",
       " <selenium.webdriver.remote.webelement.WebElement (session=\"c6169021fb8da53d6535d5a4a188056b\", element=\"e67498fe-f364-42ae-82e1-212527532a31\")>,\n",
       " <selenium.webdriver.remote.webelement.WebElement (session=\"c6169021fb8da53d6535d5a4a188056b\", element=\"30ce5e6d-77f0-4939-bfae-0816cf653864\")>,\n",
       " <selenium.webdriver.remote.webelement.WebElement (session=\"c6169021fb8da53d6535d5a4a188056b\", element=\"4d95f907-a713-4f47-8616-93407fff624f\")>,\n",
       " <selenium.webdriver.remote.webelement.WebElement (session=\"c6169021fb8da53d6535d5a4a188056b\", element=\"8cd26027-9362-45fd-a23e-595aa2e57b9f\")>,\n",
       " <selenium.webdriver.remote.webelement.WebElement (session=\"c6169021fb8da53d6535d5a4a188056b\", element=\"24a59404-546e-4af8-b80d-87f83b852948\")>,\n",
       " <selenium.webdriver.remote.webelement.WebElement (session=\"c6169021fb8da53d6535d5a4a188056b\", element=\"420bc628-c36f-47e4-9b88-13473d8d3a15\")>]"
      ]
     },
     "execution_count": 20,
     "metadata": {},
     "output_type": "execute_result"
    }
   ],
   "source": [
    "exp1"
   ]
  },
  {
   "cell_type": "code",
   "execution_count": 21,
   "id": "2a4ab9bd",
   "metadata": {},
   "outputs": [],
   "source": [
    "for ele3 in exp1:\n",
    "    exp11=ele3.text\n",
    "    Experience_requride.append(exp11)"
   ]
  },
  {
   "cell_type": "code",
   "execution_count": 22,
   "id": "86e6bdf6",
   "metadata": {},
   "outputs": [
    {
     "data": {
      "text/plain": [
       "['0-2 Yrs',\n",
       " '2-7 Yrs',\n",
       " '4-9 Yrs',\n",
       " '1-5 Yrs',\n",
       " '4-9 Yrs',\n",
       " '3-8 Yrs',\n",
       " '1-3 Yrs',\n",
       " '2-5 Yrs',\n",
       " '2-5 Yrs',\n",
       " '2-5 Yrs',\n",
       " '2-7 Yrs',\n",
       " '0-0 Yrs',\n",
       " '2-5 Yrs',\n",
       " '1-5 Yrs',\n",
       " '2-6 Yrs',\n",
       " '2-7 Yrs',\n",
       " '3-7 Yrs',\n",
       " '1-3 Yrs',\n",
       " '2-6 Yrs',\n",
       " '2-6 Yrs']"
      ]
     },
     "execution_count": 22,
     "metadata": {},
     "output_type": "execute_result"
    }
   ],
   "source": [
    "Experience_requride"
   ]
  },
  {
   "cell_type": "code",
   "execution_count": 23,
   "id": "9275c422",
   "metadata": {},
   "outputs": [
    {
     "name": "stderr",
     "output_type": "stream",
     "text": [
      "<ipython-input-23-0c0e9dfc9d75>:1: DeprecationWarning: find_elements_by_* commands are deprecated. Please use find_elements() instead\n",
      "  loc=driver.find_elements_by_xpath(\"//li[@class='fleft grey-text br2 placeHolderLi location']/span[1]\")\n"
     ]
    }
   ],
   "source": [
    "loc=driver.find_elements_by_xpath(\"//li[@class='fleft grey-text br2 placeHolderLi location']/span[1]\")"
   ]
  },
  {
   "cell_type": "code",
   "execution_count": 24,
   "id": "b4a5205f",
   "metadata": {},
   "outputs": [
    {
     "data": {
      "text/plain": [
       "[<selenium.webdriver.remote.webelement.WebElement (session=\"c6169021fb8da53d6535d5a4a188056b\", element=\"0df5d4c8-cf81-4e25-8b8e-39e6776a696c\")>,\n",
       " <selenium.webdriver.remote.webelement.WebElement (session=\"c6169021fb8da53d6535d5a4a188056b\", element=\"8e37913d-c88e-4327-96f0-714195101995\")>,\n",
       " <selenium.webdriver.remote.webelement.WebElement (session=\"c6169021fb8da53d6535d5a4a188056b\", element=\"87343a41-f73f-4166-a0fc-0f9efd5aba63\")>,\n",
       " <selenium.webdriver.remote.webelement.WebElement (session=\"c6169021fb8da53d6535d5a4a188056b\", element=\"71f2e052-347f-47b8-b670-8199a445e6f4\")>,\n",
       " <selenium.webdriver.remote.webelement.WebElement (session=\"c6169021fb8da53d6535d5a4a188056b\", element=\"e6a2e258-9d65-4b1c-a5cf-19011cbe72cb\")>,\n",
       " <selenium.webdriver.remote.webelement.WebElement (session=\"c6169021fb8da53d6535d5a4a188056b\", element=\"296f67a9-93d7-4dcb-a702-86da183986cb\")>,\n",
       " <selenium.webdriver.remote.webelement.WebElement (session=\"c6169021fb8da53d6535d5a4a188056b\", element=\"3a9481da-5280-4ffc-abe5-a4f8de049e06\")>,\n",
       " <selenium.webdriver.remote.webelement.WebElement (session=\"c6169021fb8da53d6535d5a4a188056b\", element=\"e9aebec0-da16-4380-96fd-3f9802274830\")>,\n",
       " <selenium.webdriver.remote.webelement.WebElement (session=\"c6169021fb8da53d6535d5a4a188056b\", element=\"c9ab8373-8cf4-4965-bd7d-0ef02d914d24\")>,\n",
       " <selenium.webdriver.remote.webelement.WebElement (session=\"c6169021fb8da53d6535d5a4a188056b\", element=\"515eba0d-93e6-4f91-bd07-a6526664abe6\")>,\n",
       " <selenium.webdriver.remote.webelement.WebElement (session=\"c6169021fb8da53d6535d5a4a188056b\", element=\"ffe83840-88ef-4bc2-9646-00314a51b1b3\")>,\n",
       " <selenium.webdriver.remote.webelement.WebElement (session=\"c6169021fb8da53d6535d5a4a188056b\", element=\"0cbaa5e3-0f36-477e-a729-3c10b02b7489\")>,\n",
       " <selenium.webdriver.remote.webelement.WebElement (session=\"c6169021fb8da53d6535d5a4a188056b\", element=\"886c8438-48fe-4a75-99a4-b356792c0a74\")>,\n",
       " <selenium.webdriver.remote.webelement.WebElement (session=\"c6169021fb8da53d6535d5a4a188056b\", element=\"cf9f6588-c54d-4206-a731-a6c188bc838a\")>,\n",
       " <selenium.webdriver.remote.webelement.WebElement (session=\"c6169021fb8da53d6535d5a4a188056b\", element=\"d53f2760-57ae-45fb-a099-168bb38533a6\")>,\n",
       " <selenium.webdriver.remote.webelement.WebElement (session=\"c6169021fb8da53d6535d5a4a188056b\", element=\"7cb92cf4-50b4-4c8a-bd62-7cda4ff86b71\")>,\n",
       " <selenium.webdriver.remote.webelement.WebElement (session=\"c6169021fb8da53d6535d5a4a188056b\", element=\"4e80f64e-0f6c-47cf-a6da-78ccdc8471a1\")>,\n",
       " <selenium.webdriver.remote.webelement.WebElement (session=\"c6169021fb8da53d6535d5a4a188056b\", element=\"d18daa33-0bff-442e-b86c-172f8464e245\")>,\n",
       " <selenium.webdriver.remote.webelement.WebElement (session=\"c6169021fb8da53d6535d5a4a188056b\", element=\"0dbcd5d0-254a-4958-b613-57652e32d206\")>,\n",
       " <selenium.webdriver.remote.webelement.WebElement (session=\"c6169021fb8da53d6535d5a4a188056b\", element=\"f7813ea4-5209-40bf-a388-f5b4e2ebcce7\")>]"
      ]
     },
     "execution_count": 24,
     "metadata": {},
     "output_type": "execute_result"
    }
   ],
   "source": [
    "loc"
   ]
  },
  {
   "cell_type": "code",
   "execution_count": 25,
   "id": "e9dd82c2",
   "metadata": {},
   "outputs": [
    {
     "data": {
      "text/plain": [
       "['Noida, New Delhi, Faridabad, Gurgaon/Gurugram, Delhi / NCR',\n",
       " 'Noida, Nodia',\n",
       " 'Hyderabad/Secunderabad, Pune, Chennai, Bangalore/Bengaluru, Delhi / NCR, Mumbai (All Areas)',\n",
       " 'Remote',\n",
       " 'Gurgaon/Gurugram, Chennai',\n",
       " 'Noida, Kolkata, Hyderabad/Secunderabad, Ahmedabad, Chennai, Coimbatore, Bangalore/Bengaluru, Delhi / NCR, Mumbai (All Areas)',\n",
       " 'Noida(Sector-59 Noida)',\n",
       " 'Gurgaon/Gurugram',\n",
       " 'Gurgaon/Gurugram',\n",
       " 'Noida',\n",
       " 'Noida(Sector-59 Noida)',\n",
       " 'Noida, Ghaziabad, Delhi / NCR',\n",
       " 'New Delhi',\n",
       " 'Delhi',\n",
       " 'Noida, Pune, Mumbai (All Areas)',\n",
       " 'Delhi',\n",
       " 'Gurgaon, Bengaluru',\n",
       " 'Bharuch, Jaipur, Bhopal, Mumbai, Jhansi, Nagpur, Ghaziabad, Jaunpur, Kanpur, Delhi, Lucknow, Agra, Gurgaon, Rajkot, Bengaluru',\n",
       " 'Delhi',\n",
       " 'Delhi']"
      ]
     },
     "execution_count": 25,
     "metadata": {},
     "output_type": "execute_result"
    }
   ],
   "source": [
    "Loc=[]\n",
    "for l in loc:\n",
    "    loc1=l.text\n",
    "    Loc.append(loc1)\n",
    "Loc"
   ]
  },
  {
   "cell_type": "code",
   "execution_count": 26,
   "id": "1b6b90a8",
   "metadata": {},
   "outputs": [
    {
     "name": "stdout",
     "output_type": "stream",
     "text": [
      "20 20 20 20\n"
     ]
    }
   ],
   "source": [
    "print(len(title_job),len(Loc),len(Experience_requride),len(company_Name))"
   ]
  },
  {
   "cell_type": "code",
   "execution_count": 27,
   "id": "79e44610",
   "metadata": {},
   "outputs": [],
   "source": [
    "df=pd.DataFrame({'Job Title':title_job,'Job Loc':Loc,'Company Name':company_Name,'Experience Requried':Experience_requride})"
   ]
  },
  {
   "cell_type": "code",
   "execution_count": 28,
   "id": "17c5b996",
   "metadata": {},
   "outputs": [
    {
     "data": {
      "text/html": [
       "<div>\n",
       "<style scoped>\n",
       "    .dataframe tbody tr th:only-of-type {\n",
       "        vertical-align: middle;\n",
       "    }\n",
       "\n",
       "    .dataframe tbody tr th {\n",
       "        vertical-align: top;\n",
       "    }\n",
       "\n",
       "    .dataframe thead th {\n",
       "        text-align: right;\n",
       "    }\n",
       "</style>\n",
       "<table border=\"1\" class=\"dataframe\">\n",
       "  <thead>\n",
       "    <tr style=\"text-align: right;\">\n",
       "      <th></th>\n",
       "      <th>Job Title</th>\n",
       "      <th>Job Loc</th>\n",
       "      <th>Company Name</th>\n",
       "      <th>Experience Requried</th>\n",
       "    </tr>\n",
       "  </thead>\n",
       "  <tbody>\n",
       "    <tr>\n",
       "      <th>0</th>\n",
       "      <td>Data Scientist</td>\n",
       "      <td>Noida, New Delhi, Faridabad, Gurgaon/Gurugram,...</td>\n",
       "      <td>LG Electronics India Pvt. Ltd.</td>\n",
       "      <td>0-2 Yrs</td>\n",
       "    </tr>\n",
       "    <tr>\n",
       "      <th>1</th>\n",
       "      <td>Data Scientist</td>\n",
       "      <td>Noida, Nodia</td>\n",
       "      <td>Navikenz India Pvt Ltd</td>\n",
       "      <td>2-7 Yrs</td>\n",
       "    </tr>\n",
       "    <tr>\n",
       "      <th>2</th>\n",
       "      <td>Hiring For Data Scientist</td>\n",
       "      <td>Hyderabad/Secunderabad, Pune, Chennai, Bangalo...</td>\n",
       "      <td>Tata Consultancy Services Ltd.</td>\n",
       "      <td>4-9 Yrs</td>\n",
       "    </tr>\n",
       "    <tr>\n",
       "      <th>3</th>\n",
       "      <td>Project Manager | Team Leader | Senior Data Sc...</td>\n",
       "      <td>Remote</td>\n",
       "      <td>Tidyquant (OPC) Private Limited</td>\n",
       "      <td>1-5 Yrs</td>\n",
       "    </tr>\n",
       "    <tr>\n",
       "      <th>4</th>\n",
       "      <td>Data Scientist</td>\n",
       "      <td>Gurgaon/Gurugram, Chennai</td>\n",
       "      <td>Teleperformance</td>\n",
       "      <td>4-9 Yrs</td>\n",
       "    </tr>\n",
       "    <tr>\n",
       "      <th>5</th>\n",
       "      <td>NTT DATA_ Hiring For BIG DATA ,DATA Scientist,...</td>\n",
       "      <td>Noida, Kolkata, Hyderabad/Secunderabad, Ahmeda...</td>\n",
       "      <td>NTT Data Business Solutions Pvt Ltd</td>\n",
       "      <td>3-8 Yrs</td>\n",
       "    </tr>\n",
       "    <tr>\n",
       "      <th>6</th>\n",
       "      <td>Hiring For Data Analyst / Data Scientist</td>\n",
       "      <td>Noida(Sector-59 Noida)</td>\n",
       "      <td>Careerera</td>\n",
       "      <td>1-3 Yrs</td>\n",
       "    </tr>\n",
       "    <tr>\n",
       "      <th>7</th>\n",
       "      <td>Data Scientist</td>\n",
       "      <td>Gurgaon/Gurugram</td>\n",
       "      <td>Whizhack Technologies pvt ltd</td>\n",
       "      <td>2-5 Yrs</td>\n",
       "    </tr>\n",
       "    <tr>\n",
       "      <th>8</th>\n",
       "      <td>Data Scientist</td>\n",
       "      <td>Gurgaon/Gurugram</td>\n",
       "      <td>One Mobikwik Systems Private Limited</td>\n",
       "      <td>2-5 Yrs</td>\n",
       "    </tr>\n",
       "    <tr>\n",
       "      <th>9</th>\n",
       "      <td>Data Scientist/ Senior Data Scientist</td>\n",
       "      <td>Noida</td>\n",
       "      <td>Newgen Software Technologies</td>\n",
       "      <td>2-5 Yrs</td>\n",
       "    </tr>\n",
       "  </tbody>\n",
       "</table>\n",
       "</div>"
      ],
      "text/plain": [
       "                                           Job Title  \\\n",
       "0                                     Data Scientist   \n",
       "1                                     Data Scientist   \n",
       "2                          Hiring For Data Scientist   \n",
       "3  Project Manager | Team Leader | Senior Data Sc...   \n",
       "4                                     Data Scientist   \n",
       "5  NTT DATA_ Hiring For BIG DATA ,DATA Scientist,...   \n",
       "6           Hiring For Data Analyst / Data Scientist   \n",
       "7                                     Data Scientist   \n",
       "8                                     Data Scientist   \n",
       "9              Data Scientist/ Senior Data Scientist   \n",
       "\n",
       "                                             Job Loc  \\\n",
       "0  Noida, New Delhi, Faridabad, Gurgaon/Gurugram,...   \n",
       "1                                       Noida, Nodia   \n",
       "2  Hyderabad/Secunderabad, Pune, Chennai, Bangalo...   \n",
       "3                                             Remote   \n",
       "4                          Gurgaon/Gurugram, Chennai   \n",
       "5  Noida, Kolkata, Hyderabad/Secunderabad, Ahmeda...   \n",
       "6                             Noida(Sector-59 Noida)   \n",
       "7                                   Gurgaon/Gurugram   \n",
       "8                                   Gurgaon/Gurugram   \n",
       "9                                              Noida   \n",
       "\n",
       "                           Company Name Experience Requried  \n",
       "0        LG Electronics India Pvt. Ltd.             0-2 Yrs  \n",
       "1                Navikenz India Pvt Ltd             2-7 Yrs  \n",
       "2        Tata Consultancy Services Ltd.             4-9 Yrs  \n",
       "3       Tidyquant (OPC) Private Limited             1-5 Yrs  \n",
       "4                       Teleperformance             4-9 Yrs  \n",
       "5   NTT Data Business Solutions Pvt Ltd             3-8 Yrs  \n",
       "6                             Careerera             1-3 Yrs  \n",
       "7         Whizhack Technologies pvt ltd             2-5 Yrs  \n",
       "8  One Mobikwik Systems Private Limited             2-5 Yrs  \n",
       "9          Newgen Software Technologies             2-5 Yrs  "
      ]
     },
     "execution_count": 28,
     "metadata": {},
     "output_type": "execute_result"
    }
   ],
   "source": [
    "df.head(10)"
   ]
  },
  {
   "cell_type": "markdown",
   "id": "1903e682",
   "metadata": {},
   "source": [
    "# Q4 sunglass"
   ]
  },
  {
   "cell_type": "code",
   "execution_count": 42,
   "id": "7fc01768",
   "metadata": {},
   "outputs": [],
   "source": [
    "import selenium\n",
    "import pandas as pd\n",
    "from selenium import webdriver"
   ]
  },
  {
   "cell_type": "code",
   "execution_count": 43,
   "id": "67b9def2",
   "metadata": {},
   "outputs": [
    {
     "name": "stderr",
     "output_type": "stream",
     "text": [
      "<ipython-input-43-d11edd1e4dd0>:1: DeprecationWarning: executable_path has been deprecated, please pass in a Service object\n",
      "  driver1=webdriver.Edge(executable_path=\"C:\\\\Users\\\\AT SYSTEM\\Desktop\\\\edgedriver_win32 (3)\\\\msedgedriver.exe\")\n"
     ]
    }
   ],
   "source": [
    "driver1=webdriver.Edge(executable_path=\"C:\\\\Users\\\\AT SYSTEM\\Desktop\\\\edgedriver_win32 (3)\\\\msedgedriver.exe\")"
   ]
  },
  {
   "cell_type": "code",
   "execution_count": 44,
   "id": "7ef22137",
   "metadata": {},
   "outputs": [],
   "source": [
    "driver1.get(\"https://www.flipkart.com/\")"
   ]
  },
  {
   "cell_type": "code",
   "execution_count": 45,
   "id": "26c96d7b",
   "metadata": {},
   "outputs": [
    {
     "name": "stderr",
     "output_type": "stream",
     "text": [
      "<ipython-input-45-86158d336663>:1: DeprecationWarning: find_element_by_* commands are deprecated. Please use find_element() instead\n",
      "  ch1=driver1.find_element_by_xpath(\"//input[@title='Search for products, brands and more']\")\n"
     ]
    }
   ],
   "source": [
    "ch1=driver1.find_element_by_xpath(\"//input[@title='Search for products, brands and more']\")\n",
    "ch1.send_keys('sunglasses')"
   ]
  },
  {
   "cell_type": "code",
   "execution_count": 46,
   "id": "2498c029",
   "metadata": {},
   "outputs": [
    {
     "name": "stderr",
     "output_type": "stream",
     "text": [
      "<ipython-input-46-94d1e336c80e>:1: DeprecationWarning: find_element_by_* commands are deprecated. Please use find_element() instead\n",
      "  button=driver1.find_element_by_xpath(\"//button[@class='L0Z3Pu']\")\n"
     ]
    }
   ],
   "source": [
    "button=driver1.find_element_by_xpath(\"//button[@class='L0Z3Pu']\")"
   ]
  },
  {
   "cell_type": "code",
   "execution_count": 47,
   "id": "764048c6",
   "metadata": {},
   "outputs": [],
   "source": [
    "button.click()"
   ]
  },
  {
   "cell_type": "code",
   "execution_count": 48,
   "id": "250eaf2e",
   "metadata": {},
   "outputs": [
    {
     "name": "stderr",
     "output_type": "stream",
     "text": [
      "<ipython-input-48-ae556e13f5e7>:1: DeprecationWarning: find_elements_by_* commands are deprecated. Please use find_elements() instead\n",
      "  srh_nam=driver1.find_elements_by_xpath(\"//div[@class='_2WkVRV']\")\n",
      "<ipython-input-48-ae556e13f5e7>:3: DeprecationWarning: find_elements_by_* commands are deprecated. Please use find_elements() instead\n",
      "  srh_des=driver1.find_elements_by_xpath(\"//a[@class='IRpwTa']\")\n",
      "<ipython-input-48-ae556e13f5e7>:5: DeprecationWarning: find_elements_by_* commands are deprecated. Please use find_elements() instead\n",
      "  srh_price=driver1.find_elements_by_xpath(\"//div[@class='_30jeq3']\")\n"
     ]
    }
   ],
   "source": [
    "srh_nam=driver1.find_elements_by_xpath(\"//div[@class='_2WkVRV']\")\n",
    "\n",
    "srh_des=driver1.find_elements_by_xpath(\"//a[@class='IRpwTa']\")\n",
    "\n",
    "srh_price=driver1.find_elements_by_xpath(\"//div[@class='_30jeq3']\")\n"
   ]
  },
  {
   "cell_type": "code",
   "execution_count": 49,
   "id": "82233a3a",
   "metadata": {},
   "outputs": [
    {
     "name": "stdout",
     "output_type": "stream",
     "text": [
      "40 40 40\n"
     ]
    }
   ],
   "source": [
    "print(len(srh_nam),len(srh_des),len(srh_price))"
   ]
  },
  {
   "cell_type": "code",
   "execution_count": 32,
   "id": "fa3f3621",
   "metadata": {},
   "outputs": [],
   "source": [
    "Brand_nam=[]\n",
    "Product_Desc=[]\n",
    "Price=[]"
   ]
  },
  {
   "cell_type": "code",
   "execution_count": 50,
   "id": "cbe5ea5d",
   "metadata": {},
   "outputs": [],
   "source": [
    "Brand_nam.clear()\n",
    "Product_Desc.clear()\n",
    "Price.clear()"
   ]
  },
  {
   "cell_type": "code",
   "execution_count": 51,
   "id": "d76a0555",
   "metadata": {},
   "outputs": [],
   "source": [
    "for rh in srh_nam:\n",
    "    rh1=rh.text\n",
    "    Brand_nam.append(rh1)\n",
    "    \n",
    "for de in srh_des:\n",
    "    de1=de.text\n",
    "    Product_Desc.append(de1)\n",
    "    \n",
    "for pr in  srh_price:\n",
    "    pr1=pr.text\n",
    "    Price.append(pr1)"
   ]
  },
  {
   "cell_type": "code",
   "execution_count": 52,
   "id": "0b0b2b7c",
   "metadata": {},
   "outputs": [
    {
     "name": "stderr",
     "output_type": "stream",
     "text": [
      "<ipython-input-52-ffa99658e0dd>:1: DeprecationWarning: find_element_by_* commands are deprecated. Please use find_element() instead\n",
      "  button1=driver1.find_element_by_xpath(\"//a[@class='_1LKTO3']\")\n"
     ]
    }
   ],
   "source": [
    "button1=driver1.find_element_by_xpath(\"//a[@class='_1LKTO3']\")"
   ]
  },
  {
   "cell_type": "code",
   "execution_count": 53,
   "id": "7f968c83",
   "metadata": {},
   "outputs": [],
   "source": [
    "button1.click()"
   ]
  },
  {
   "cell_type": "code",
   "execution_count": 55,
   "id": "dbb5f548",
   "metadata": {},
   "outputs": [],
   "source": [
    "Brand_nam1=[]\n",
    "Product_Desc1=[]\n",
    "Price1=[]"
   ]
  },
  {
   "cell_type": "code",
   "execution_count": 54,
   "id": "1d545df3",
   "metadata": {},
   "outputs": [
    {
     "name": "stderr",
     "output_type": "stream",
     "text": [
      "<ipython-input-54-4c96e91b5aba>:1: DeprecationWarning: find_elements_by_* commands are deprecated. Please use find_elements() instead\n",
      "  srh_nam1=driver1.find_elements_by_xpath(\"//div[@class='_2WkVRV']\")\n",
      "<ipython-input-54-4c96e91b5aba>:3: DeprecationWarning: find_elements_by_* commands are deprecated. Please use find_elements() instead\n",
      "  srh_des1=driver1.find_elements_by_xpath(\"//a[@class='IRpwTa']\")\n",
      "<ipython-input-54-4c96e91b5aba>:5: DeprecationWarning: find_elements_by_* commands are deprecated. Please use find_elements() instead\n",
      "  srh_price1=driver1.find_elements_by_xpath(\"//div[@class='_30jeq3']\")\n"
     ]
    }
   ],
   "source": [
    "srh_nam1=driver1.find_elements_by_xpath(\"//div[@class='_2WkVRV']\")\n",
    "\n",
    "srh_des1=driver1.find_elements_by_xpath(\"//a[@class='IRpwTa']\")\n",
    "\n",
    "srh_price1=driver1.find_elements_by_xpath(\"//div[@class='_30jeq3']\")\n"
   ]
  },
  {
   "cell_type": "code",
   "execution_count": 56,
   "id": "32663ec4",
   "metadata": {},
   "outputs": [
    {
     "name": "stdout",
     "output_type": "stream",
     "text": [
      "40 40 40\n"
     ]
    }
   ],
   "source": [
    "print(len(srh_nam1),len(srh_des1),len(srh_price1))"
   ]
  },
  {
   "cell_type": "code",
   "execution_count": 57,
   "id": "81528bcc",
   "metadata": {},
   "outputs": [],
   "source": [
    "for rh1 in srh_nam1:\n",
    "    rh2=rh1.text\n",
    "    Brand_nam1.append(rh2)\n",
    "    \n",
    "for de1 in srh_des1:\n",
    "    de2=de1.text\n",
    "    Product_Desc1.append(de2)\n",
    "    \n",
    "for pr1 in  srh_price1:\n",
    "    pr2=pr1.text\n",
    "    Price1.append(pr2)"
   ]
  },
  {
   "cell_type": "code",
   "execution_count": 58,
   "id": "2a63c156",
   "metadata": {},
   "outputs": [],
   "source": [
    "button1.click()"
   ]
  },
  {
   "cell_type": "code",
   "execution_count": 60,
   "id": "631340eb",
   "metadata": {},
   "outputs": [],
   "source": [
    "Brand_nam2=[]\n",
    "Product_Desc2=[]\n",
    "Price2=[]"
   ]
  },
  {
   "cell_type": "code",
   "execution_count": 59,
   "id": "389caf24",
   "metadata": {},
   "outputs": [
    {
     "name": "stderr",
     "output_type": "stream",
     "text": [
      "<ipython-input-59-4bd0178d4725>:1: DeprecationWarning: find_elements_by_* commands are deprecated. Please use find_elements() instead\n",
      "  srh_nam2=driver1.find_elements_by_xpath(\"//div[@class='_2WkVRV']\")\n",
      "<ipython-input-59-4bd0178d4725>:3: DeprecationWarning: find_elements_by_* commands are deprecated. Please use find_elements() instead\n",
      "  srh_des2=driver1.find_elements_by_xpath(\"//a[@class='IRpwTa']\")\n",
      "<ipython-input-59-4bd0178d4725>:5: DeprecationWarning: find_elements_by_* commands are deprecated. Please use find_elements() instead\n",
      "  srh_price2=driver1.find_elements_by_xpath(\"//div[@class='_30jeq3']\")\n"
     ]
    }
   ],
   "source": [
    "srh_nam2=driver1.find_elements_by_xpath(\"//div[@class='_2WkVRV']\")\n",
    "\n",
    "srh_des2=driver1.find_elements_by_xpath(\"//a[@class='IRpwTa']\")\n",
    "\n",
    "srh_price2=driver1.find_elements_by_xpath(\"//div[@class='_30jeq3']\")\n"
   ]
  },
  {
   "cell_type": "code",
   "execution_count": 61,
   "id": "5f1bf06b",
   "metadata": {},
   "outputs": [
    {
     "name": "stdout",
     "output_type": "stream",
     "text": [
      "40 40 40\n"
     ]
    }
   ],
   "source": [
    "print(len(srh_nam2),len(srh_des2),len(srh_price2))"
   ]
  },
  {
   "cell_type": "code",
   "execution_count": 62,
   "id": "76106b8b",
   "metadata": {},
   "outputs": [],
   "source": [
    "for rh2 in srh_nam2:\n",
    "    rh3=rh2.text\n",
    "    Brand_nam2.append(rh3)\n",
    "    \n",
    "for de2 in srh_des2:\n",
    "    de3=de2.text\n",
    "    Product_Desc2.append(de3)\n",
    "    \n",
    "for pr2 in  srh_price2:\n",
    "    pr3=pr2.text\n",
    "    Price1.append(pr3)"
   ]
  },
  {
   "cell_type": "code",
   "execution_count": 63,
   "id": "4ed3da66",
   "metadata": {},
   "outputs": [],
   "source": [
    "fbrd=[]\n",
    "fpdes=[]\n",
    "fpric=[]"
   ]
  },
  {
   "cell_type": "code",
   "execution_count": 64,
   "id": "f8234661",
   "metadata": {},
   "outputs": [],
   "source": [
    "fbrd=Brand_nam+Brand_nam1+Brand_nam2\n",
    "fpdes=Product_Desc+Product_Desc1+Product_Desc2\n",
    "fpric=Price+Price1+Price2"
   ]
  },
  {
   "cell_type": "code",
   "execution_count": 65,
   "id": "aa1ba350",
   "metadata": {},
   "outputs": [],
   "source": [
    "df1=pd.DataFrame({\"Brand\":fbrd,\"Product_Des\":fpdes,'Price':fpric})"
   ]
  },
  {
   "cell_type": "code",
   "execution_count": 66,
   "id": "5431770e",
   "metadata": {},
   "outputs": [
    {
     "data": {
      "text/html": [
       "<div>\n",
       "<style scoped>\n",
       "    .dataframe tbody tr th:only-of-type {\n",
       "        vertical-align: middle;\n",
       "    }\n",
       "\n",
       "    .dataframe tbody tr th {\n",
       "        vertical-align: top;\n",
       "    }\n",
       "\n",
       "    .dataframe thead th {\n",
       "        text-align: right;\n",
       "    }\n",
       "</style>\n",
       "<table border=\"1\" class=\"dataframe\">\n",
       "  <thead>\n",
       "    <tr style=\"text-align: right;\">\n",
       "      <th></th>\n",
       "      <th>Brand</th>\n",
       "      <th>Product_Des</th>\n",
       "      <th>Price</th>\n",
       "    </tr>\n",
       "  </thead>\n",
       "  <tbody>\n",
       "    <tr>\n",
       "      <th>0</th>\n",
       "      <td>VINCENT CHASE</td>\n",
       "      <td>by Lenskart UV Protection Aviator Sunglasses (53)</td>\n",
       "      <td>₹999</td>\n",
       "    </tr>\n",
       "    <tr>\n",
       "      <th>1</th>\n",
       "      <td>AISLIN</td>\n",
       "      <td>UV Protection, Gradient Butterfly, Wayfarer Su...</td>\n",
       "      <td>₹459</td>\n",
       "    </tr>\n",
       "    <tr>\n",
       "      <th>2</th>\n",
       "      <td>SRPM</td>\n",
       "      <td>UV Protection Wayfarer Sunglasses (56)</td>\n",
       "      <td>₹188</td>\n",
       "    </tr>\n",
       "    <tr>\n",
       "      <th>3</th>\n",
       "      <td>Elligator</td>\n",
       "      <td>UV Protection Round Sunglasses (54)</td>\n",
       "      <td>₹248</td>\n",
       "    </tr>\n",
       "    <tr>\n",
       "      <th>4</th>\n",
       "      <td>New Specs</td>\n",
       "      <td>UV Protection Rectangular Sunglasses (Free Size)</td>\n",
       "      <td>₹259</td>\n",
       "    </tr>\n",
       "    <tr>\n",
       "      <th>...</th>\n",
       "      <td>...</td>\n",
       "      <td>...</td>\n",
       "      <td>...</td>\n",
       "    </tr>\n",
       "    <tr>\n",
       "      <th>95</th>\n",
       "      <td>ROYAL SON</td>\n",
       "      <td>Polarized, UV Protection Round Sunglasses (52)</td>\n",
       "      <td>₹759</td>\n",
       "    </tr>\n",
       "    <tr>\n",
       "      <th>96</th>\n",
       "      <td>Fastrack</td>\n",
       "      <td>UV Protection Aviator Sunglasses (Free Size)</td>\n",
       "      <td>₹649</td>\n",
       "    </tr>\n",
       "    <tr>\n",
       "      <th>97</th>\n",
       "      <td>elegante</td>\n",
       "      <td>Mirrored Round Sunglasses (Free Size)</td>\n",
       "      <td>₹399</td>\n",
       "    </tr>\n",
       "    <tr>\n",
       "      <th>98</th>\n",
       "      <td>GANSTA</td>\n",
       "      <td>UV Protection, Riding Glasses Wayfarer Sunglas...</td>\n",
       "      <td>₹209</td>\n",
       "    </tr>\n",
       "    <tr>\n",
       "      <th>99</th>\n",
       "      <td>Anemone</td>\n",
       "      <td>UV Protection, Gradient Rectangular, Spectacle...</td>\n",
       "      <td>₹499</td>\n",
       "    </tr>\n",
       "  </tbody>\n",
       "</table>\n",
       "<p>100 rows × 3 columns</p>\n",
       "</div>"
      ],
      "text/plain": [
       "            Brand                                        Product_Des Price\n",
       "0   VINCENT CHASE  by Lenskart UV Protection Aviator Sunglasses (53)  ₹999\n",
       "1          AISLIN  UV Protection, Gradient Butterfly, Wayfarer Su...  ₹459\n",
       "2            SRPM             UV Protection Wayfarer Sunglasses (56)  ₹188\n",
       "3       Elligator                UV Protection Round Sunglasses (54)  ₹248\n",
       "4       New Specs   UV Protection Rectangular Sunglasses (Free Size)  ₹259\n",
       "..            ...                                                ...   ...\n",
       "95      ROYAL SON     Polarized, UV Protection Round Sunglasses (52)  ₹759\n",
       "96       Fastrack       UV Protection Aviator Sunglasses (Free Size)  ₹649\n",
       "97       elegante              Mirrored Round Sunglasses (Free Size)  ₹399\n",
       "98         GANSTA  UV Protection, Riding Glasses Wayfarer Sunglas...  ₹209\n",
       "99        Anemone  UV Protection, Gradient Rectangular, Spectacle...  ₹499\n",
       "\n",
       "[100 rows x 3 columns]"
      ]
     },
     "execution_count": 66,
     "metadata": {},
     "output_type": "execute_result"
    }
   ],
   "source": [
    "df1.head(100)"
   ]
  },
  {
   "cell_type": "code",
   "execution_count": null,
   "id": "7bec57d1",
   "metadata": {},
   "outputs": [],
   "source": []
  }
 ],
 "metadata": {
  "kernelspec": {
   "display_name": "Python 3",
   "language": "python",
   "name": "python3"
  },
  "language_info": {
   "codemirror_mode": {
    "name": "ipython",
    "version": 3
   },
   "file_extension": ".py",
   "mimetype": "text/x-python",
   "name": "python",
   "nbconvert_exporter": "python",
   "pygments_lexer": "ipython3",
   "version": "3.8.8"
  }
 },
 "nbformat": 4,
 "nbformat_minor": 5
}
