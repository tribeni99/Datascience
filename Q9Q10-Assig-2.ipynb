{
 "cells": [
  {
   "cell_type": "markdown",
   "id": "36fc160f",
   "metadata": {},
   "source": [
    "# Q9"
   ]
  },
  {
   "cell_type": "code",
   "execution_count": 1,
   "id": "3ad56e0b",
   "metadata": {},
   "outputs": [],
   "source": [
    "import selenium\n",
    "import pandas as pd\n",
    "from selenium import webdriver"
   ]
  },
  {
   "cell_type": "code",
   "execution_count": 2,
   "id": "595b26b2",
   "metadata": {},
   "outputs": [
    {
     "name": "stderr",
     "output_type": "stream",
     "text": [
      "<ipython-input-2-1695f3def7ca>:1: DeprecationWarning: executable_path has been deprecated, please pass in a Service object\n",
      "  driverc=webdriver.Edge(executable_path=\"C:\\\\Users\\\\AT SYSTEM\\Desktop\\\\edgedriver_win32 (3)\\\\msedgedriver.exe\")\n"
     ]
    }
   ],
   "source": [
    "driverc1=webdriver.Edge(executable_path=\"C:\\\\Users\\\\AT SYSTEM\\Desktop\\\\edgedriver_win32 (3)\\\\msedgedriver.exe\")"
   ]
  },
  {
   "cell_type": "code",
   "execution_count": 3,
   "id": "b7201ca2",
   "metadata": {},
   "outputs": [],
   "source": [
    "driverc.get(\"https://www.ambitionbox.com/\")"
   ]
  },
  {
   "cell_type": "code",
   "execution_count": 4,
   "id": "acea2ad3",
   "metadata": {},
   "outputs": [
    {
     "name": "stderr",
     "output_type": "stream",
     "text": [
      "<ipython-input-4-49177bd70236>:1: DeprecationWarning: find_element_by_* commands are deprecated. Please use find_element() instead\n",
      "  jobtn=driverc.find_element_by_xpath(\"//a[@class='link jobs']\")\n"
     ]
    }
   ],
   "source": [
    "jobtn=driverc.find_element_by_xpath(\"//a[@class='link jobs']\")"
   ]
  },
  {
   "cell_type": "code",
   "execution_count": 5,
   "id": "f226541f",
   "metadata": {},
   "outputs": [],
   "source": [
    "jobtn.click()"
   ]
  },
  {
   "cell_type": "code",
   "execution_count": 7,
   "id": "384f189f",
   "metadata": {},
   "outputs": [
    {
     "name": "stderr",
     "output_type": "stream",
     "text": [
      "<ipython-input-7-4fe537cd7140>:1: DeprecationWarning: find_element_by_* commands are deprecated. Please use find_element() instead\n",
      "  srchjob=driverc.find_element_by_xpath(\"//input[@class='input tt-input']\")\n"
     ]
    }
   ],
   "source": [
    "srchjob=driverc.find_element_by_xpath(\"//input[@class='input tt-input']\")\n",
    "srchjob.send_keys(\"Data Scientist\")"
   ]
  },
  {
   "cell_type": "code",
   "execution_count": 10,
   "id": "7f402a1b",
   "metadata": {},
   "outputs": [
    {
     "name": "stderr",
     "output_type": "stream",
     "text": [
      "<ipython-input-10-32a129df4ed2>:1: DeprecationWarning: find_element_by_* commands are deprecated. Please use find_element() instead\n",
      "  srchbtn=driverc.find_element_by_xpath(\"//button[@class='ab_btn search-btn round']\")\n"
     ]
    }
   ],
   "source": [
    "srchbtn=driverc.find_element_by_xpath(\"//button[@class='ab_btn search-btn round']\")"
   ]
  },
  {
   "cell_type": "code",
   "execution_count": 11,
   "id": "87d33067",
   "metadata": {},
   "outputs": [],
   "source": [
    "srchbtn.click()"
   ]
  },
  {
   "cell_type": "code",
   "execution_count": 12,
   "id": "9dd1aded",
   "metadata": {},
   "outputs": [
    {
     "name": "stderr",
     "output_type": "stream",
     "text": [
      "<ipython-input-12-ce083e58fef4>:1: DeprecationWarning: find_element_by_* commands are deprecated. Please use find_element() instead\n",
      "  srchlocc=driverc.find_element_by_xpath(\"//div[2][@class='filter-item']\")\n"
     ]
    }
   ],
   "source": [
    "srchlocc=driverc.find_element_by_xpath(\"//div[2][@class='filter-item']\")"
   ]
  },
  {
   "cell_type": "code",
   "execution_count": 14,
   "id": "e68451be",
   "metadata": {},
   "outputs": [],
   "source": [
    "srchlocc.click()"
   ]
  },
  {
   "cell_type": "code",
   "execution_count": 20,
   "id": "486006a1",
   "metadata": {},
   "outputs": [
    {
     "name": "stderr",
     "output_type": "stream",
     "text": [
      "<ipython-input-20-09af418616ff>:1: DeprecationWarning: find_element_by_* commands are deprecated. Please use find_element() instead\n",
      "  srchinput=driverc.find_element_by_xpath(\"//input[@placeholder='Search locations']\")\n"
     ]
    }
   ],
   "source": [
    "srchinput=driverc.find_element_by_xpath(\"//input[@placeholder='Search locations']\")\n",
    "srchinput.send_keys(\"Noida\")"
   ]
  },
  {
   "cell_type": "code",
   "execution_count": 33,
   "id": "e397cf28",
   "metadata": {},
   "outputs": [
    {
     "name": "stderr",
     "output_type": "stream",
     "text": [
      "<ipython-input-33-41cff3c73e6e>:1: DeprecationWarning: find_element_by_* commands are deprecated. Please use find_element() instead\n",
      "  clicjbtn=driverc.find_element_by_xpath(\"//input[@id='location_Noida']\")\n"
     ]
    }
   ],
   "source": [
    "clicjbtn=driverc.find_element_by_xpath(\"//input[@id='location_Noida']\")"
   ]
  },
  {
   "cell_type": "code",
   "execution_count": 34,
   "id": "b1f6e5ca",
   "metadata": {},
   "outputs": [],
   "source": [
    "clicjbtn.click()"
   ]
  },
  {
   "cell_type": "code",
   "execution_count": 70,
   "id": "ef8e54c6",
   "metadata": {},
   "outputs": [
    {
     "name": "stderr",
     "output_type": "stream",
     "text": [
      "<ipython-input-70-ba3cd90e43df>:1: DeprecationWarning: find_elements_by_* commands are deprecated. Please use find_elements() instead\n",
      "  shoebb11=driverc.find_elements_by_xpath(\"//p[@class='company body-medium']\")\n",
      "<ipython-input-70-ba3cd90e43df>:3: DeprecationWarning: find_elements_by_* commands are deprecated. Please use find_elements() instead\n",
      "  shoerat=driverc.find_elements_by_xpath(\"//span[@class='body-small']\")\n",
      "<ipython-input-70-ba3cd90e43df>:5: DeprecationWarning: find_elements_by_* commands are deprecated. Please use find_elements() instead\n",
      "  shoepot=driverc.find_elements_by_xpath(\"//div[@class='other-info']/span[1]\")\n"
     ]
    }
   ],
   "source": [
    "shoebb11=driverc.find_elements_by_xpath(\"//p[@class='company body-medium']\")\n",
    "\n",
    "shoerat=driverc.find_elements_by_xpath(\"//span[@class='body-small']\")\n",
    "\n",
    "shoepot=driverc.find_elements_by_xpath(\"//div[@class='other-info']/span[1]\")\n",
    "\n"
   ]
  },
  {
   "cell_type": "code",
   "execution_count": 71,
   "id": "43e3c366",
   "metadata": {},
   "outputs": [
    {
     "data": {
      "text/plain": [
       "10"
      ]
     },
     "execution_count": 71,
     "metadata": {},
     "output_type": "execute_result"
    }
   ],
   "source": [
    "len(shoebb11)"
   ]
  },
  {
   "cell_type": "code",
   "execution_count": 72,
   "id": "f9c45f90",
   "metadata": {},
   "outputs": [
    {
     "data": {
      "text/plain": [
       "['LG Electronics India Pvt. Ltd.',\n",
       " 'GENPACT India Private Limited',\n",
       " 'GENPACT India Private Limited',\n",
       " 'NTT Data Business Solutions Pvt Ltd',\n",
       " 'GENPACT India Private Limited',\n",
       " 'Paytm',\n",
       " 'GI Group',\n",
       " 'GI Group',\n",
       " 'GI Group',\n",
       " 'Steria India Ltd']"
      ]
     },
     "execution_count": 72,
     "metadata": {},
     "output_type": "execute_result"
    }
   ],
   "source": [
    "gh=[]\n",
    "for i in shoebb11:\n",
    "    i1=i.text\n",
    "    gh.append(i1)\n",
    "gh"
   ]
  },
  {
   "cell_type": "code",
   "execution_count": 59,
   "id": "9541edcd",
   "metadata": {},
   "outputs": [
    {
     "data": {
      "text/plain": [
       "['4.1', '4.0', '4.0', '3.8', '4.0', '3.7', '4.0', '4.0', '4.0', '4.1']"
      ]
     },
     "execution_count": 59,
     "metadata": {},
     "output_type": "execute_result"
    }
   ],
   "source": [
    "rat=[]\n",
    "for rat1 in shoerat:\n",
    "    rat2=rat1.text\n",
    "    rat.append(rat2)\n",
    "rat"
   ]
  },
  {
   "cell_type": "code",
   "execution_count": 65,
   "id": "df2ccf0c",
   "metadata": {},
   "outputs": [
    {
     "data": {
      "text/plain": [
       "['9d ago',\n",
       " '16d ago',\n",
       " '16d ago',\n",
       " '17d ago',\n",
       " '18d ago',\n",
       " '3d ago',\n",
       " '2d ago',\n",
       " '2d ago',\n",
       " '2d ago',\n",
       " '1mon ago']"
      ]
     },
     "execution_count": 65,
     "metadata": {},
     "output_type": "execute_result"
    }
   ],
   "source": [
    "post=[]\n",
    "for po in shoepot:\n",
    "    po1=po.text\n",
    "    post.append(po1)\n",
    "post"
   ]
  },
  {
   "cell_type": "code",
   "execution_count": 73,
   "id": "fa6bb9b0",
   "metadata": {},
   "outputs": [],
   "source": [
    "df=pd.DataFrame({'Compny Name':gh,'Rating Of Company':rat,'No Of Days Job Posted':post})"
   ]
  },
  {
   "cell_type": "code",
   "execution_count": 74,
   "id": "4f917e77",
   "metadata": {},
   "outputs": [
    {
     "data": {
      "text/html": [
       "<div>\n",
       "<style scoped>\n",
       "    .dataframe tbody tr th:only-of-type {\n",
       "        vertical-align: middle;\n",
       "    }\n",
       "\n",
       "    .dataframe tbody tr th {\n",
       "        vertical-align: top;\n",
       "    }\n",
       "\n",
       "    .dataframe thead th {\n",
       "        text-align: right;\n",
       "    }\n",
       "</style>\n",
       "<table border=\"1\" class=\"dataframe\">\n",
       "  <thead>\n",
       "    <tr style=\"text-align: right;\">\n",
       "      <th></th>\n",
       "      <th>Compny Name</th>\n",
       "      <th>Rating Of Company</th>\n",
       "      <th>No Of Days Job Posted</th>\n",
       "    </tr>\n",
       "  </thead>\n",
       "  <tbody>\n",
       "    <tr>\n",
       "      <th>0</th>\n",
       "      <td>LG Electronics India Pvt. Ltd.</td>\n",
       "      <td>4.1</td>\n",
       "      <td>9d ago</td>\n",
       "    </tr>\n",
       "    <tr>\n",
       "      <th>1</th>\n",
       "      <td>GENPACT India Private Limited</td>\n",
       "      <td>4.0</td>\n",
       "      <td>16d ago</td>\n",
       "    </tr>\n",
       "    <tr>\n",
       "      <th>2</th>\n",
       "      <td>GENPACT India Private Limited</td>\n",
       "      <td>4.0</td>\n",
       "      <td>16d ago</td>\n",
       "    </tr>\n",
       "    <tr>\n",
       "      <th>3</th>\n",
       "      <td>NTT Data Business Solutions Pvt Ltd</td>\n",
       "      <td>3.8</td>\n",
       "      <td>17d ago</td>\n",
       "    </tr>\n",
       "    <tr>\n",
       "      <th>4</th>\n",
       "      <td>GENPACT India Private Limited</td>\n",
       "      <td>4.0</td>\n",
       "      <td>18d ago</td>\n",
       "    </tr>\n",
       "    <tr>\n",
       "      <th>5</th>\n",
       "      <td>Paytm</td>\n",
       "      <td>3.7</td>\n",
       "      <td>3d ago</td>\n",
       "    </tr>\n",
       "    <tr>\n",
       "      <th>6</th>\n",
       "      <td>GI Group</td>\n",
       "      <td>4.0</td>\n",
       "      <td>2d ago</td>\n",
       "    </tr>\n",
       "    <tr>\n",
       "      <th>7</th>\n",
       "      <td>GI Group</td>\n",
       "      <td>4.0</td>\n",
       "      <td>2d ago</td>\n",
       "    </tr>\n",
       "    <tr>\n",
       "      <th>8</th>\n",
       "      <td>GI Group</td>\n",
       "      <td>4.0</td>\n",
       "      <td>2d ago</td>\n",
       "    </tr>\n",
       "    <tr>\n",
       "      <th>9</th>\n",
       "      <td>Steria India Ltd</td>\n",
       "      <td>4.1</td>\n",
       "      <td>1mon ago</td>\n",
       "    </tr>\n",
       "  </tbody>\n",
       "</table>\n",
       "</div>"
      ],
      "text/plain": [
       "                           Compny Name Rating Of Company No Of Days Job Posted\n",
       "0       LG Electronics India Pvt. Ltd.               4.1                9d ago\n",
       "1        GENPACT India Private Limited               4.0               16d ago\n",
       "2        GENPACT India Private Limited               4.0               16d ago\n",
       "3  NTT Data Business Solutions Pvt Ltd               3.8               17d ago\n",
       "4        GENPACT India Private Limited               4.0               18d ago\n",
       "5                                Paytm               3.7                3d ago\n",
       "6                             GI Group               4.0                2d ago\n",
       "7                             GI Group               4.0                2d ago\n",
       "8                             GI Group               4.0                2d ago\n",
       "9                     Steria India Ltd               4.1              1mon ago"
      ]
     },
     "execution_count": 74,
     "metadata": {},
     "output_type": "execute_result"
    }
   ],
   "source": [
    "df"
   ]
  },
  {
   "cell_type": "markdown",
   "id": "40950297",
   "metadata": {},
   "source": [
    "# Q10"
   ]
  },
  {
   "cell_type": "code",
   "execution_count": 152,
   "id": "8639502b",
   "metadata": {},
   "outputs": [],
   "source": [
    "import selenium\n",
    "import pandas as pd\n",
    "from selenium import webdriver"
   ]
  },
  {
   "cell_type": "code",
   "execution_count": 153,
   "id": "85c0d752",
   "metadata": {},
   "outputs": [
    {
     "name": "stderr",
     "output_type": "stream",
     "text": [
      "<ipython-input-153-155ec83a3c15>:1: DeprecationWarning: executable_path has been deprecated, please pass in a Service object\n",
      "  driverc1=webdriver.Edge(executable_path=\"C:\\\\Users\\\\AT SYSTEM\\Desktop\\\\edgedriver_win32 (3)\\\\msedgedriver.exe\")\n"
     ]
    }
   ],
   "source": [
    "driverc1=webdriver.Edge(executable_path=\"C:\\\\Users\\\\AT SYSTEM\\Desktop\\\\edgedriver_win32 (3)\\\\msedgedriver.exe\")"
   ]
  },
  {
   "cell_type": "code",
   "execution_count": 154,
   "id": "a3df6c04",
   "metadata": {},
   "outputs": [],
   "source": [
    "driverc1.get(\"https://www.ambitionbox.com/\")"
   ]
  },
  {
   "cell_type": "code",
   "execution_count": 155,
   "id": "e318ac40",
   "metadata": {},
   "outputs": [
    {
     "name": "stderr",
     "output_type": "stream",
     "text": [
      "<ipython-input-155-f8e3b7a9df62>:1: DeprecationWarning: find_element_by_* commands are deprecated. Please use find_element() instead\n",
      "  sal=driverc1.find_element_by_xpath(\"//a[@class='link salaries']\")\n"
     ]
    }
   ],
   "source": [
    "sal=driverc1.find_element_by_xpath(\"//a[@class='link salaries']\")"
   ]
  },
  {
   "cell_type": "code",
   "execution_count": 156,
   "id": "f743c28c",
   "metadata": {},
   "outputs": [],
   "source": [
    "sal.click()"
   ]
  },
  {
   "cell_type": "code",
   "execution_count": 157,
   "id": "b3fd1f8f",
   "metadata": {},
   "outputs": [
    {
     "name": "stderr",
     "output_type": "stream",
     "text": [
      "<ipython-input-157-e9c1417afd87>:1: DeprecationWarning: find_element_by_* commands are deprecated. Please use find_element() instead\n",
      "  srchnm=driverc1.find_element_by_xpath(\"//input[@class='tt-input']\")\n"
     ]
    }
   ],
   "source": [
    "srchnm=driverc1.find_element_by_xpath(\"//input[@class='tt-input']\")\n",
    "srchnm.send_keys(\"Data Scientist\")"
   ]
  },
  {
   "cell_type": "code",
   "execution_count": 166,
   "id": "7812ba1e",
   "metadata": {},
   "outputs": [
    {
     "name": "stderr",
     "output_type": "stream",
     "text": [
      "<ipython-input-166-5edf2ae158a8>:1: DeprecationWarning: find_element_by_* commands are deprecated. Please use find_element() instead\n",
      "  dept=driverc1.find_element_by_xpath(\"//label[1][@class='radio-label']\")\n"
     ]
    }
   ],
   "source": [
    "dept=driverc1.find_element_by_xpath(\"//label[1][@class='radio-label']\")"
   ]
  },
  {
   "cell_type": "code",
   "execution_count": 167,
   "id": "9a4a7921",
   "metadata": {},
   "outputs": [],
   "source": [
    "dept.click()"
   ]
  },
  {
   "cell_type": "code",
   "execution_count": 180,
   "id": "88fc990e",
   "metadata": {},
   "outputs": [
    {
     "name": "stderr",
     "output_type": "stream",
     "text": [
      "<ipython-input-180-deacb3e2f2a5>:1: DeprecationWarning: find_element_by_* commands are deprecated. Please use find_element() instead\n",
      "  srchbtn=driverc1.find_element_by_xpath(\"//div[@class='ab_chip active sbold-list-header']\")\n"
     ]
    }
   ],
   "source": [
    "srchbtn=driverc1.find_element_by_xpath(\"//div[@class='ab_chip active sbold-list-header']\")"
   ]
  },
  {
   "cell_type": "code",
   "execution_count": 181,
   "id": "cbe04a82",
   "metadata": {},
   "outputs": [
    {
     "ename": "ElementClickInterceptedException",
     "evalue": "Message: element click intercepted: Element <div data-v-2bae05f7=\"\" data-filter-name=\"chips_top-jp_data-scientist\" class=\"ab_chip active sbold-list-header\" title=\"Data Scientist\">...</div> is not clickable at point (71, 15). Other element would receive the click: <a href=\"https://www.ambitionbox.com\" class=\"logo\">...</a>\n  (Session info: MicrosoftEdge=96.0.1054.62)\nStacktrace:\nBacktrace:\n\tMicrosoft::Applications::Events::EventProperties::unpack [0x00CD6B93+47027]\n\tMicrosoft::Applications::Events::DebugEventListener::~DebugEventListener [0x009C2B30+132256]\n\tMicrosoft::Applications::Events::DebugEventListener::~DebugEventListener [0x009EF0DB+313931]\n\tMicrosoft::Applications::Events::DebugEventListener::~DebugEventListener [0x009EDC7D+308717]\n\tMicrosoft::Applications::Events::DebugEventListener::~DebugEventListener [0x009EC388+302328]\n\tMicrosoft::Applications::Events::DebugEventListener::~DebugEventListener [0x009EB707+299127]\n\tMicrosoft::Applications::Events::DebugEventListener::~DebugEventListener [0x009E2F37+264359]\n\tMicrosoft::Applications::Events::DebugEventListener::~DebugEventListener [0x009FE373+376035]\n\tMicrosoft::Applications::Events::DebugEventListener::~DebugEventListener [0x009E2946+262838]\n\tMicrosoft::Applications::Events::DebugEventListener::~DebugEventListener [0x009FE4BA+376362]\n\tMicrosoft::Applications::Events::DebugEventListener::~DebugEventListener [0x00A0D78D+438525]\n\tMicrosoft::Applications::Events::DebugEventListener::~DebugEventListener [0x009FE23B+375723]\n\tMicrosoft::Applications::Events::DebugEventListener::~DebugEventListener [0x009E1BA6+259350]\n\tMicrosoft::Applications::Events::DebugEventListener::~DebugEventListener [0x009E25A9+261913]\n\tMicrosoft::Applications::Events::ISemanticContext::SetEventExperimentIds [0x00BCA87C+1417276]\n\tMicrosoft::Applications::Events::ILogManager::DispatchEventBroadcast [0x00E49704+88228]\n\tMicrosoft::Applications::Events::ILogManager::DispatchEventBroadcast [0x00E4C818+100792]\n\tMicrosoft::Applications::Events::ILogManager::DispatchEventBroadcast [0x00E49E51+90097]\n\tMicrosoft::Applications::Events::ISemanticContext::SetEventExperimentIds [0x00BC1DDC+1381788]\n\tMicrosoft::Applications::Events::ISemanticContext::SetEventExperimentIds [0x00BCC548+1424648]\n\tMicrosoft::Applications::Events::ISemanticContext::SetEventExperimentIds [0x00BCC6C2+1425026]\n\tMicrosoft::Applications::Events::ISemanticContext::SetEventExperimentIds [0x00BDD468+1494056]\n\tBaseThreadInitThunk [0x7511FA29+25]\n\tRtlGetAppContainerNamedObjectPath [0x77257A9E+286]\n\tRtlGetAppContainerNamedObjectPath [0x77257A6E+238]\n",
     "output_type": "error",
     "traceback": [
      "\u001b[1;31m---------------------------------------------------------------------------\u001b[0m",
      "\u001b[1;31mElementClickInterceptedException\u001b[0m          Traceback (most recent call last)",
      "\u001b[1;32m<ipython-input-181-350c47e0dde3>\u001b[0m in \u001b[0;36m<module>\u001b[1;34m\u001b[0m\n\u001b[1;32m----> 1\u001b[1;33m \u001b[0msrchbtn\u001b[0m\u001b[1;33m.\u001b[0m\u001b[0mclick\u001b[0m\u001b[1;33m(\u001b[0m\u001b[1;33m)\u001b[0m\u001b[1;33m\u001b[0m\u001b[1;33m\u001b[0m\u001b[0m\n\u001b[0m",
      "\u001b[1;32m~\\anaconda3\\lib\\site-packages\\selenium\\webdriver\\remote\\webelement.py\u001b[0m in \u001b[0;36mclick\u001b[1;34m(self)\u001b[0m\n\u001b[0;32m     79\u001b[0m     \u001b[1;32mdef\u001b[0m \u001b[0mclick\u001b[0m\u001b[1;33m(\u001b[0m\u001b[0mself\u001b[0m\u001b[1;33m)\u001b[0m \u001b[1;33m->\u001b[0m \u001b[1;32mNone\u001b[0m\u001b[1;33m:\u001b[0m\u001b[1;33m\u001b[0m\u001b[1;33m\u001b[0m\u001b[0m\n\u001b[0;32m     80\u001b[0m         \u001b[1;34m\"\"\"Clicks the element.\"\"\"\u001b[0m\u001b[1;33m\u001b[0m\u001b[1;33m\u001b[0m\u001b[0m\n\u001b[1;32m---> 81\u001b[1;33m         \u001b[0mself\u001b[0m\u001b[1;33m.\u001b[0m\u001b[0m_execute\u001b[0m\u001b[1;33m(\u001b[0m\u001b[0mCommand\u001b[0m\u001b[1;33m.\u001b[0m\u001b[0mCLICK_ELEMENT\u001b[0m\u001b[1;33m)\u001b[0m\u001b[1;33m\u001b[0m\u001b[1;33m\u001b[0m\u001b[0m\n\u001b[0m\u001b[0;32m     82\u001b[0m \u001b[1;33m\u001b[0m\u001b[0m\n\u001b[0;32m     83\u001b[0m     \u001b[1;32mdef\u001b[0m \u001b[0msubmit\u001b[0m\u001b[1;33m(\u001b[0m\u001b[0mself\u001b[0m\u001b[1;33m)\u001b[0m\u001b[1;33m:\u001b[0m\u001b[1;33m\u001b[0m\u001b[1;33m\u001b[0m\u001b[0m\n",
      "\u001b[1;32m~\\anaconda3\\lib\\site-packages\\selenium\\webdriver\\remote\\webelement.py\u001b[0m in \u001b[0;36m_execute\u001b[1;34m(self, command, params)\u001b[0m\n\u001b[0;32m    708\u001b[0m             \u001b[0mparams\u001b[0m \u001b[1;33m=\u001b[0m \u001b[1;33m{\u001b[0m\u001b[1;33m}\u001b[0m\u001b[1;33m\u001b[0m\u001b[1;33m\u001b[0m\u001b[0m\n\u001b[0;32m    709\u001b[0m         \u001b[0mparams\u001b[0m\u001b[1;33m[\u001b[0m\u001b[1;34m'id'\u001b[0m\u001b[1;33m]\u001b[0m \u001b[1;33m=\u001b[0m \u001b[0mself\u001b[0m\u001b[1;33m.\u001b[0m\u001b[0m_id\u001b[0m\u001b[1;33m\u001b[0m\u001b[1;33m\u001b[0m\u001b[0m\n\u001b[1;32m--> 710\u001b[1;33m         \u001b[1;32mreturn\u001b[0m \u001b[0mself\u001b[0m\u001b[1;33m.\u001b[0m\u001b[0m_parent\u001b[0m\u001b[1;33m.\u001b[0m\u001b[0mexecute\u001b[0m\u001b[1;33m(\u001b[0m\u001b[0mcommand\u001b[0m\u001b[1;33m,\u001b[0m \u001b[0mparams\u001b[0m\u001b[1;33m)\u001b[0m\u001b[1;33m\u001b[0m\u001b[1;33m\u001b[0m\u001b[0m\n\u001b[0m\u001b[0;32m    711\u001b[0m \u001b[1;33m\u001b[0m\u001b[0m\n\u001b[0;32m    712\u001b[0m     \u001b[1;32mdef\u001b[0m \u001b[0mfind_element\u001b[0m\u001b[1;33m(\u001b[0m\u001b[0mself\u001b[0m\u001b[1;33m,\u001b[0m \u001b[0mby\u001b[0m\u001b[1;33m=\u001b[0m\u001b[0mBy\u001b[0m\u001b[1;33m.\u001b[0m\u001b[0mID\u001b[0m\u001b[1;33m,\u001b[0m \u001b[0mvalue\u001b[0m\u001b[1;33m=\u001b[0m\u001b[1;32mNone\u001b[0m\u001b[1;33m)\u001b[0m\u001b[1;33m:\u001b[0m\u001b[1;33m\u001b[0m\u001b[1;33m\u001b[0m\u001b[0m\n",
      "\u001b[1;32m~\\anaconda3\\lib\\site-packages\\selenium\\webdriver\\remote\\webdriver.py\u001b[0m in \u001b[0;36mexecute\u001b[1;34m(self, driver_command, params)\u001b[0m\n\u001b[0;32m    422\u001b[0m         \u001b[0mresponse\u001b[0m \u001b[1;33m=\u001b[0m \u001b[0mself\u001b[0m\u001b[1;33m.\u001b[0m\u001b[0mcommand_executor\u001b[0m\u001b[1;33m.\u001b[0m\u001b[0mexecute\u001b[0m\u001b[1;33m(\u001b[0m\u001b[0mdriver_command\u001b[0m\u001b[1;33m,\u001b[0m \u001b[0mparams\u001b[0m\u001b[1;33m)\u001b[0m\u001b[1;33m\u001b[0m\u001b[1;33m\u001b[0m\u001b[0m\n\u001b[0;32m    423\u001b[0m         \u001b[1;32mif\u001b[0m \u001b[0mresponse\u001b[0m\u001b[1;33m:\u001b[0m\u001b[1;33m\u001b[0m\u001b[1;33m\u001b[0m\u001b[0m\n\u001b[1;32m--> 424\u001b[1;33m             \u001b[0mself\u001b[0m\u001b[1;33m.\u001b[0m\u001b[0merror_handler\u001b[0m\u001b[1;33m.\u001b[0m\u001b[0mcheck_response\u001b[0m\u001b[1;33m(\u001b[0m\u001b[0mresponse\u001b[0m\u001b[1;33m)\u001b[0m\u001b[1;33m\u001b[0m\u001b[1;33m\u001b[0m\u001b[0m\n\u001b[0m\u001b[0;32m    425\u001b[0m             response['value'] = self._unwrap_value(\n\u001b[0;32m    426\u001b[0m                 response.get('value', None))\n",
      "\u001b[1;32m~\\anaconda3\\lib\\site-packages\\selenium\\webdriver\\remote\\errorhandler.py\u001b[0m in \u001b[0;36mcheck_response\u001b[1;34m(self, response)\u001b[0m\n\u001b[0;32m    245\u001b[0m                 \u001b[0malert_text\u001b[0m \u001b[1;33m=\u001b[0m \u001b[0mvalue\u001b[0m\u001b[1;33m[\u001b[0m\u001b[1;34m'alert'\u001b[0m\u001b[1;33m]\u001b[0m\u001b[1;33m.\u001b[0m\u001b[0mget\u001b[0m\u001b[1;33m(\u001b[0m\u001b[1;34m'text'\u001b[0m\u001b[1;33m)\u001b[0m\u001b[1;33m\u001b[0m\u001b[1;33m\u001b[0m\u001b[0m\n\u001b[0;32m    246\u001b[0m             \u001b[1;32mraise\u001b[0m \u001b[0mexception_class\u001b[0m\u001b[1;33m(\u001b[0m\u001b[0mmessage\u001b[0m\u001b[1;33m,\u001b[0m \u001b[0mscreen\u001b[0m\u001b[1;33m,\u001b[0m \u001b[0mstacktrace\u001b[0m\u001b[1;33m,\u001b[0m \u001b[0malert_text\u001b[0m\u001b[1;33m)\u001b[0m  \u001b[1;31m# type: ignore[call-arg]  # mypy is not smart enough here\u001b[0m\u001b[1;33m\u001b[0m\u001b[1;33m\u001b[0m\u001b[0m\n\u001b[1;32m--> 247\u001b[1;33m         \u001b[1;32mraise\u001b[0m \u001b[0mexception_class\u001b[0m\u001b[1;33m(\u001b[0m\u001b[0mmessage\u001b[0m\u001b[1;33m,\u001b[0m \u001b[0mscreen\u001b[0m\u001b[1;33m,\u001b[0m \u001b[0mstacktrace\u001b[0m\u001b[1;33m)\u001b[0m\u001b[1;33m\u001b[0m\u001b[1;33m\u001b[0m\u001b[0m\n\u001b[0m\u001b[0;32m    248\u001b[0m \u001b[1;33m\u001b[0m\u001b[0m\n\u001b[0;32m    249\u001b[0m     \u001b[1;32mdef\u001b[0m \u001b[0m_value_or_default\u001b[0m\u001b[1;33m(\u001b[0m\u001b[0mself\u001b[0m\u001b[1;33m,\u001b[0m \u001b[0mobj\u001b[0m\u001b[1;33m:\u001b[0m \u001b[0mMapping\u001b[0m\u001b[1;33m[\u001b[0m\u001b[0m_KT\u001b[0m\u001b[1;33m,\u001b[0m \u001b[0m_VT\u001b[0m\u001b[1;33m]\u001b[0m\u001b[1;33m,\u001b[0m \u001b[0mkey\u001b[0m\u001b[1;33m:\u001b[0m \u001b[0m_KT\u001b[0m\u001b[1;33m,\u001b[0m \u001b[0mdefault\u001b[0m\u001b[1;33m:\u001b[0m \u001b[0m_VT\u001b[0m\u001b[1;33m)\u001b[0m \u001b[1;33m->\u001b[0m \u001b[0m_VT\u001b[0m\u001b[1;33m:\u001b[0m\u001b[1;33m\u001b[0m\u001b[1;33m\u001b[0m\u001b[0m\n",
      "\u001b[1;31mElementClickInterceptedException\u001b[0m: Message: element click intercepted: Element <div data-v-2bae05f7=\"\" data-filter-name=\"chips_top-jp_data-scientist\" class=\"ab_chip active sbold-list-header\" title=\"Data Scientist\">...</div> is not clickable at point (71, 15). Other element would receive the click: <a href=\"https://www.ambitionbox.com\" class=\"logo\">...</a>\n  (Session info: MicrosoftEdge=96.0.1054.62)\nStacktrace:\nBacktrace:\n\tMicrosoft::Applications::Events::EventProperties::unpack [0x00CD6B93+47027]\n\tMicrosoft::Applications::Events::DebugEventListener::~DebugEventListener [0x009C2B30+132256]\n\tMicrosoft::Applications::Events::DebugEventListener::~DebugEventListener [0x009EF0DB+313931]\n\tMicrosoft::Applications::Events::DebugEventListener::~DebugEventListener [0x009EDC7D+308717]\n\tMicrosoft::Applications::Events::DebugEventListener::~DebugEventListener [0x009EC388+302328]\n\tMicrosoft::Applications::Events::DebugEventListener::~DebugEventListener [0x009EB707+299127]\n\tMicrosoft::Applications::Events::DebugEventListener::~DebugEventListener [0x009E2F37+264359]\n\tMicrosoft::Applications::Events::DebugEventListener::~DebugEventListener [0x009FE373+376035]\n\tMicrosoft::Applications::Events::DebugEventListener::~DebugEventListener [0x009E2946+262838]\n\tMicrosoft::Applications::Events::DebugEventListener::~DebugEventListener [0x009FE4BA+376362]\n\tMicrosoft::Applications::Events::DebugEventListener::~DebugEventListener [0x00A0D78D+438525]\n\tMicrosoft::Applications::Events::DebugEventListener::~DebugEventListener [0x009FE23B+375723]\n\tMicrosoft::Applications::Events::DebugEventListener::~DebugEventListener [0x009E1BA6+259350]\n\tMicrosoft::Applications::Events::DebugEventListener::~DebugEventListener [0x009E25A9+261913]\n\tMicrosoft::Applications::Events::ISemanticContext::SetEventExperimentIds [0x00BCA87C+1417276]\n\tMicrosoft::Applications::Events::ILogManager::DispatchEventBroadcast [0x00E49704+88228]\n\tMicrosoft::Applications::Events::ILogManager::DispatchEventBroadcast [0x00E4C818+100792]\n\tMicrosoft::Applications::Events::ILogManager::DispatchEventBroadcast [0x00E49E51+90097]\n\tMicrosoft::Applications::Events::ISemanticContext::SetEventExperimentIds [0x00BC1DDC+1381788]\n\tMicrosoft::Applications::Events::ISemanticContext::SetEventExperimentIds [0x00BCC548+1424648]\n\tMicrosoft::Applications::Events::ISemanticContext::SetEventExperimentIds [0x00BCC6C2+1425026]\n\tMicrosoft::Applications::Events::ISemanticContext::SetEventExperimentIds [0x00BDD468+1494056]\n\tBaseThreadInitThunk [0x7511FA29+25]\n\tRtlGetAppContainerNamedObjectPath [0x77257A9E+286]\n\tRtlGetAppContainerNamedObjectPath [0x77257A6E+238]\n"
     ]
    }
   ],
   "source": [
    "srchbtn.click()"
   ]
  },
  {
   "cell_type": "code",
   "execution_count": null,
   "id": "3722a5c1",
   "metadata": {},
   "outputs": [],
   "source": [
    "shoepnam=driverc1.find_elements_by_xpath(\"//div[@class='name']/a\")"
   ]
  },
  {
   "cell_type": "code",
   "execution_count": 182,
   "id": "cf02560f",
   "metadata": {},
   "outputs": [
    {
     "data": {
      "text/plain": [
       "10"
      ]
     },
     "execution_count": 182,
     "metadata": {},
     "output_type": "execute_result"
    }
   ],
   "source": [
    "len(shoepnam)"
   ]
  },
  {
   "cell_type": "code",
   "execution_count": 183,
   "id": "0f66a943",
   "metadata": {},
   "outputs": [
    {
     "data": {
      "text/plain": [
       "['Ab Inbev',\n",
       " 'ZS',\n",
       " 'Optum',\n",
       " 'Fractal Analytics',\n",
       " 'UnitedHealth',\n",
       " 'Tiger Analytics',\n",
       " 'Verizon',\n",
       " 'Ganit Business Solutions',\n",
       " 'Ericsson',\n",
       " 'Deloitte']"
      ]
     },
     "execution_count": 183,
     "metadata": {},
     "output_type": "execute_result"
    }
   ],
   "source": [
    "comnam=[]\n",
    "for am in shoepnam:\n",
    "    am1=am.text\n",
    "    comnam.append(am1)\n",
    "comnam"
   ]
  },
  {
   "cell_type": "code",
   "execution_count": 184,
   "id": "f9dd124a",
   "metadata": {},
   "outputs": [
    {
     "name": "stderr",
     "output_type": "stream",
     "text": [
      "<ipython-input-184-586120983d2e>:1: DeprecationWarning: find_elements_by_* commands are deprecated. Please use find_elements() instead\n",
      "  shoeprec=driverc1.find_elements_by_xpath(\"//div[@class='name']/span\")\n"
     ]
    }
   ],
   "source": [
    "shoeprec=driverc1.find_elements_by_xpath(\"//div[@class='name']/span\")"
   ]
  },
  {
   "cell_type": "code",
   "execution_count": 185,
   "id": "8990eefa",
   "metadata": {},
   "outputs": [
    {
     "data": {
      "text/plain": [
       "10"
      ]
     },
     "execution_count": 185,
     "metadata": {},
     "output_type": "execute_result"
    }
   ],
   "source": [
    "len(shoeprec)"
   ]
  },
  {
   "cell_type": "code",
   "execution_count": 186,
   "id": "8f807bbc",
   "metadata": {},
   "outputs": [
    {
     "data": {
      "text/plain": [
       "['based on 20 salaries',\n",
       " 'based on 12 salaries',\n",
       " 'based on 23 salaries',\n",
       " 'based on 66 salaries',\n",
       " 'based on 47 salaries',\n",
       " 'based on 26 salaries',\n",
       " 'based on 14 salaries',\n",
       " 'based on 13 salaries',\n",
       " 'based on 42 salaries',\n",
       " 'based on 49 salaries']"
      ]
     },
     "execution_count": 186,
     "metadata": {},
     "output_type": "execute_result"
    }
   ],
   "source": [
    "rec=[]\n",
    "for ec in shoeprec:\n",
    "    ec1=ec.text\n",
    "    rec.append(ec1)\n",
    "rec"
   ]
  },
  {
   "cell_type": "code",
   "execution_count": 187,
   "id": "7218e9ec",
   "metadata": {},
   "outputs": [
    {
     "name": "stderr",
     "output_type": "stream",
     "text": [
      "<ipython-input-187-251a30ae29a8>:1: DeprecationWarning: find_elements_by_* commands are deprecated. Please use find_elements() instead\n",
      "  shoemin=driverc1.find_elements_by_xpath(\"//div[@class='salary-values']/div[1]\")\n"
     ]
    }
   ],
   "source": [
    "shoemin=driverc1.find_elements_by_xpath(\"//div[@class='salary-values']/div[1]\")"
   ]
  },
  {
   "cell_type": "code",
   "execution_count": 188,
   "id": "c8ef5265",
   "metadata": {},
   "outputs": [
    {
     "data": {
      "text/plain": [
       "10"
      ]
     },
     "execution_count": 188,
     "metadata": {},
     "output_type": "execute_result"
    }
   ],
   "source": [
    "len(shoemin)"
   ]
  },
  {
   "cell_type": "code",
   "execution_count": 189,
   "id": "3d938a1c",
   "metadata": {},
   "outputs": [
    {
     "data": {
      "text/plain": [
       "['₹ 15.0L',\n",
       " '₹ 9.8L',\n",
       " '₹ 11.0L',\n",
       " '₹ 9.5L',\n",
       " '₹ 7.2L',\n",
       " '₹ 8.3L',\n",
       " '₹ 10.0L',\n",
       " '₹ 8.5L',\n",
       " '₹ 5.2L',\n",
       " '₹ 6.8L']"
      ]
     },
     "execution_count": 189,
     "metadata": {},
     "output_type": "execute_result"
    }
   ],
   "source": [
    "min1=[]\n",
    "for mi in shoemin:\n",
    "    mi1=mi.text\n",
    "    min1.append(mi1)\n",
    "min1"
   ]
  },
  {
   "cell_type": "code",
   "execution_count": 190,
   "id": "3b160a62",
   "metadata": {},
   "outputs": [
    {
     "name": "stderr",
     "output_type": "stream",
     "text": [
      "<ipython-input-190-84097aa7b9e1>:1: DeprecationWarning: find_elements_by_* commands are deprecated. Please use find_elements() instead\n",
      "  shoemax=driverc1.find_elements_by_xpath(\"//div[@class='salary-values']/div[2]\")\n"
     ]
    }
   ],
   "source": [
    "shoemax=driverc1.find_elements_by_xpath(\"//div[@class='salary-values']/div[2]\")"
   ]
  },
  {
   "cell_type": "code",
   "execution_count": 191,
   "id": "aca908ce",
   "metadata": {},
   "outputs": [
    {
     "data": {
      "text/plain": [
       "['₹ 23.0L',\n",
       " '₹ 19.5L',\n",
       " '₹ 21.3L',\n",
       " '₹ 22.0L',\n",
       " '₹ 20.5L',\n",
       " '₹ 18.5L',\n",
       " '₹ 21.0L',\n",
       " '₹ 15.0L',\n",
       " '₹ 21.5L',\n",
       " '₹ 20.5L']"
      ]
     },
     "execution_count": 191,
     "metadata": {},
     "output_type": "execute_result"
    }
   ],
   "source": [
    "max1=[]\n",
    "for ax in shoemax:\n",
    "    ax1=ax.text\n",
    "    max1.append(ax1)\n",
    "max1"
   ]
  },
  {
   "cell_type": "code",
   "execution_count": 192,
   "id": "8b7eec5e",
   "metadata": {},
   "outputs": [
    {
     "name": "stderr",
     "output_type": "stream",
     "text": [
      "<ipython-input-192-0e6d1e283708>:1: DeprecationWarning: find_elements_by_* commands are deprecated. Please use find_elements() instead\n",
      "  shoeavg=driverc1.find_elements_by_xpath(\"//div[@class='average-indicator-wrapper']/p\")\n"
     ]
    }
   ],
   "source": [
    "shoeavg=driverc1.find_elements_by_xpath(\"//div[@class='average-indicator-wrapper']/p\")"
   ]
  },
  {
   "cell_type": "code",
   "execution_count": 193,
   "id": "ac3caf70",
   "metadata": {},
   "outputs": [
    {
     "data": {
      "text/plain": [
       "['₹ 19.0L',\n",
       " '₹ 15.3L',\n",
       " '₹ 15.0L',\n",
       " '₹ 15.0L',\n",
       " '₹ 13.5L',\n",
       " '₹ 13.5L',\n",
       " '₹ 12.7L',\n",
       " '₹ 12.4L',\n",
       " '₹ 11.7L',\n",
       " '₹ 11.2L']"
      ]
     },
     "execution_count": 193,
     "metadata": {},
     "output_type": "execute_result"
    }
   ],
   "source": [
    "avg=[]\n",
    "for vg in shoeavg:\n",
    "    vg1=vg.text\n",
    "    avg.append(vg1)\n",
    "avg"
   ]
  },
  {
   "cell_type": "code",
   "execution_count": 194,
   "id": "a0b8ba9a",
   "metadata": {},
   "outputs": [
    {
     "name": "stderr",
     "output_type": "stream",
     "text": [
      "<ipython-input-194-817c28a3aa5d>:1: DeprecationWarning: find_elements_by_* commands are deprecated. Please use find_elements() instead\n",
      "  shoeexp=driverc1.find_elements_by_xpath(\"//div[@class='salaries sbold-list-header']\")\n"
     ]
    }
   ],
   "source": [
    "shoeexp=driverc1.find_elements_by_xpath(\"//div[@class='salaries sbold-list-header']\")"
   ]
  },
  {
   "cell_type": "code",
   "execution_count": 195,
   "id": "f20c093d",
   "metadata": {},
   "outputs": [
    {
     "data": {
      "text/plain": [
       "10"
      ]
     },
     "execution_count": 195,
     "metadata": {},
     "output_type": "execute_result"
    }
   ],
   "source": [
    "len(shoeexp)"
   ]
  },
  {
   "cell_type": "code",
   "execution_count": 198,
   "id": "216233de",
   "metadata": {},
   "outputs": [
    {
     "data": {
      "text/plain": [
       "['3-4 yrs exp',\n",
       " '2 yrs exp',\n",
       " '3-4 yrs exp',\n",
       " '2-4 yrs exp',\n",
       " '2-4 yrs exp',\n",
       " '3-4 yrs exp',\n",
       " '4 yrs exp',\n",
       " '4 yrs exp',\n",
       " '3-4 yrs exp',\n",
       " '2-4 yrs exp']"
      ]
     },
     "execution_count": 198,
     "metadata": {},
     "output_type": "execute_result"
    }
   ],
   "source": [
    "exp=[]\n",
    "for xp in shoeexp:\n",
    "    xp1=xp.text.split('\\n')\n",
    "    exp.append(xp1[2])\n",
    "exp"
   ]
  },
  {
   "cell_type": "code",
   "execution_count": 199,
   "id": "ea00462c",
   "metadata": {},
   "outputs": [],
   "source": [
    "df1=pd.DataFrame({'Company Name':comnam,'Experience':exp,'Salary Record':rec,'Min Sal':min1,'Avg Sal':avg,'Max Sal':max1})"
   ]
  },
  {
   "cell_type": "code",
   "execution_count": 200,
   "id": "67aed291",
   "metadata": {},
   "outputs": [
    {
     "data": {
      "text/html": [
       "<div>\n",
       "<style scoped>\n",
       "    .dataframe tbody tr th:only-of-type {\n",
       "        vertical-align: middle;\n",
       "    }\n",
       "\n",
       "    .dataframe tbody tr th {\n",
       "        vertical-align: top;\n",
       "    }\n",
       "\n",
       "    .dataframe thead th {\n",
       "        text-align: right;\n",
       "    }\n",
       "</style>\n",
       "<table border=\"1\" class=\"dataframe\">\n",
       "  <thead>\n",
       "    <tr style=\"text-align: right;\">\n",
       "      <th></th>\n",
       "      <th>Company Name</th>\n",
       "      <th>Experience</th>\n",
       "      <th>Salary Record</th>\n",
       "      <th>Min Sal</th>\n",
       "      <th>Avg Sal</th>\n",
       "      <th>Max Sal</th>\n",
       "    </tr>\n",
       "  </thead>\n",
       "  <tbody>\n",
       "    <tr>\n",
       "      <th>0</th>\n",
       "      <td>Ab Inbev</td>\n",
       "      <td>3-4 yrs exp</td>\n",
       "      <td>based on 20 salaries</td>\n",
       "      <td>₹ 15.0L</td>\n",
       "      <td>₹ 19.0L</td>\n",
       "      <td>₹ 23.0L</td>\n",
       "    </tr>\n",
       "    <tr>\n",
       "      <th>1</th>\n",
       "      <td>ZS</td>\n",
       "      <td>2 yrs exp</td>\n",
       "      <td>based on 12 salaries</td>\n",
       "      <td>₹ 9.8L</td>\n",
       "      <td>₹ 15.3L</td>\n",
       "      <td>₹ 19.5L</td>\n",
       "    </tr>\n",
       "    <tr>\n",
       "      <th>2</th>\n",
       "      <td>Optum</td>\n",
       "      <td>3-4 yrs exp</td>\n",
       "      <td>based on 23 salaries</td>\n",
       "      <td>₹ 11.0L</td>\n",
       "      <td>₹ 15.0L</td>\n",
       "      <td>₹ 21.3L</td>\n",
       "    </tr>\n",
       "    <tr>\n",
       "      <th>3</th>\n",
       "      <td>Fractal Analytics</td>\n",
       "      <td>2-4 yrs exp</td>\n",
       "      <td>based on 66 salaries</td>\n",
       "      <td>₹ 9.5L</td>\n",
       "      <td>₹ 15.0L</td>\n",
       "      <td>₹ 22.0L</td>\n",
       "    </tr>\n",
       "    <tr>\n",
       "      <th>4</th>\n",
       "      <td>UnitedHealth</td>\n",
       "      <td>2-4 yrs exp</td>\n",
       "      <td>based on 47 salaries</td>\n",
       "      <td>₹ 7.2L</td>\n",
       "      <td>₹ 13.5L</td>\n",
       "      <td>₹ 20.5L</td>\n",
       "    </tr>\n",
       "    <tr>\n",
       "      <th>5</th>\n",
       "      <td>Tiger Analytics</td>\n",
       "      <td>3-4 yrs exp</td>\n",
       "      <td>based on 26 salaries</td>\n",
       "      <td>₹ 8.3L</td>\n",
       "      <td>₹ 13.5L</td>\n",
       "      <td>₹ 18.5L</td>\n",
       "    </tr>\n",
       "    <tr>\n",
       "      <th>6</th>\n",
       "      <td>Verizon</td>\n",
       "      <td>4 yrs exp</td>\n",
       "      <td>based on 14 salaries</td>\n",
       "      <td>₹ 10.0L</td>\n",
       "      <td>₹ 12.7L</td>\n",
       "      <td>₹ 21.0L</td>\n",
       "    </tr>\n",
       "    <tr>\n",
       "      <th>7</th>\n",
       "      <td>Ganit Business Solutions</td>\n",
       "      <td>4 yrs exp</td>\n",
       "      <td>based on 13 salaries</td>\n",
       "      <td>₹ 8.5L</td>\n",
       "      <td>₹ 12.4L</td>\n",
       "      <td>₹ 15.0L</td>\n",
       "    </tr>\n",
       "    <tr>\n",
       "      <th>8</th>\n",
       "      <td>Ericsson</td>\n",
       "      <td>3-4 yrs exp</td>\n",
       "      <td>based on 42 salaries</td>\n",
       "      <td>₹ 5.2L</td>\n",
       "      <td>₹ 11.7L</td>\n",
       "      <td>₹ 21.5L</td>\n",
       "    </tr>\n",
       "    <tr>\n",
       "      <th>9</th>\n",
       "      <td>Deloitte</td>\n",
       "      <td>2-4 yrs exp</td>\n",
       "      <td>based on 49 salaries</td>\n",
       "      <td>₹ 6.8L</td>\n",
       "      <td>₹ 11.2L</td>\n",
       "      <td>₹ 20.5L</td>\n",
       "    </tr>\n",
       "  </tbody>\n",
       "</table>\n",
       "</div>"
      ],
      "text/plain": [
       "               Company Name   Experience         Salary Record  Min Sal  \\\n",
       "0                  Ab Inbev  3-4 yrs exp  based on 20 salaries  ₹ 15.0L   \n",
       "1                        ZS    2 yrs exp  based on 12 salaries   ₹ 9.8L   \n",
       "2                     Optum  3-4 yrs exp  based on 23 salaries  ₹ 11.0L   \n",
       "3         Fractal Analytics  2-4 yrs exp  based on 66 salaries   ₹ 9.5L   \n",
       "4              UnitedHealth  2-4 yrs exp  based on 47 salaries   ₹ 7.2L   \n",
       "5           Tiger Analytics  3-4 yrs exp  based on 26 salaries   ₹ 8.3L   \n",
       "6                   Verizon    4 yrs exp  based on 14 salaries  ₹ 10.0L   \n",
       "7  Ganit Business Solutions    4 yrs exp  based on 13 salaries   ₹ 8.5L   \n",
       "8                  Ericsson  3-4 yrs exp  based on 42 salaries   ₹ 5.2L   \n",
       "9                  Deloitte  2-4 yrs exp  based on 49 salaries   ₹ 6.8L   \n",
       "\n",
       "   Avg Sal  Max Sal  \n",
       "0  ₹ 19.0L  ₹ 23.0L  \n",
       "1  ₹ 15.3L  ₹ 19.5L  \n",
       "2  ₹ 15.0L  ₹ 21.3L  \n",
       "3  ₹ 15.0L  ₹ 22.0L  \n",
       "4  ₹ 13.5L  ₹ 20.5L  \n",
       "5  ₹ 13.5L  ₹ 18.5L  \n",
       "6  ₹ 12.7L  ₹ 21.0L  \n",
       "7  ₹ 12.4L  ₹ 15.0L  \n",
       "8  ₹ 11.7L  ₹ 21.5L  \n",
       "9  ₹ 11.2L  ₹ 20.5L  "
      ]
     },
     "execution_count": 200,
     "metadata": {},
     "output_type": "execute_result"
    }
   ],
   "source": [
    "df1"
   ]
  },
  {
   "cell_type": "code",
   "execution_count": null,
   "id": "6d2631db",
   "metadata": {},
   "outputs": [],
   "source": []
  }
 ],
 "metadata": {
  "kernelspec": {
   "display_name": "Python 3",
   "language": "python",
   "name": "python3"
  },
  "language_info": {
   "codemirror_mode": {
    "name": "ipython",
    "version": 3
   },
   "file_extension": ".py",
   "mimetype": "text/x-python",
   "name": "python",
   "nbconvert_exporter": "python",
   "pygments_lexer": "ipython3",
   "version": "3.8.8"
  }
 },
 "nbformat": 4,
 "nbformat_minor": 5
}
