{
 "cells": [
  {
   "cell_type": "markdown",
   "id": "e1f24854",
   "metadata": {},
   "source": [
    "# Q8"
   ]
  },
  {
   "cell_type": "code",
   "execution_count": 1,
   "id": "e6bf4360",
   "metadata": {},
   "outputs": [],
   "source": [
    "import selenium\n",
    "import pandas as pd\n",
    "from selenium import webdriver"
   ]
  },
  {
   "cell_type": "code",
   "execution_count": 2,
   "id": "000b7394",
   "metadata": {},
   "outputs": [
    {
     "name": "stderr",
     "output_type": "stream",
     "text": [
      "<ipython-input-2-79fac5a6ab2d>:1: DeprecationWarning: executable_path has been deprecated, please pass in a Service object\n",
      "  driver=webdriver.Edge(executable_path=\"C:\\\\Users\\\\AT SYSTEM\\Desktop\\\\edgedriver_win32 (3)\\\\msedgedriver.exe\")\n"
     ]
    }
   ],
   "source": [
    "driver=webdriver.Edge(executable_path=\"C:\\\\Users\\\\AT SYSTEM\\Desktop\\\\edgedriver_win32 (3)\\\\msedgedriver.exe\")"
   ]
  },
  {
   "cell_type": "code",
   "execution_count": 3,
   "id": "68b503b6",
   "metadata": {},
   "outputs": [],
   "source": [
    "driver.get('https://www.amazon.in/?tag=msndeskabkin-21&hvadid=72705384051703&hvqmt=e&hvbmt=be&hvdev=c&ref=pd_sl_7qhce485bd_e')"
   ]
  },
  {
   "cell_type": "code",
   "execution_count": 4,
   "id": "fd512fd2",
   "metadata": {},
   "outputs": [
    {
     "name": "stderr",
     "output_type": "stream",
     "text": [
      "<ipython-input-4-55111940290c>:1: DeprecationWarning: find_element_by_* commands are deprecated. Please use find_element() instead\n",
      "  scrht=driver.find_element_by_id('twotabsearchtextbox')\n"
     ]
    }
   ],
   "source": [
    "scrht=driver.find_element_by_id('twotabsearchtextbox')\n",
    "scrht.send_keys('Laptop')"
   ]
  },
  {
   "cell_type": "code",
   "execution_count": 5,
   "id": "56ee1e2e",
   "metadata": {},
   "outputs": [
    {
     "name": "stderr",
     "output_type": "stream",
     "text": [
      "<ipython-input-5-74d7a0cf08c8>:1: DeprecationWarning: find_element_by_* commands are deprecated. Please use find_element() instead\n",
      "  srchb=driver.find_element_by_id('nav-search-submit-button')\n"
     ]
    }
   ],
   "source": [
    "srchb=driver.find_element_by_id('nav-search-submit-button')\n",
    "srchb.click()"
   ]
  },
  {
   "cell_type": "code",
   "execution_count": 6,
   "id": "137293c4",
   "metadata": {},
   "outputs": [
    {
     "name": "stderr",
     "output_type": "stream",
     "text": [
      "<ipython-input-6-187aaf093faa>:1: DeprecationWarning: find_element_by_* commands are deprecated. Please use find_element() instead\n",
      "  tbuton=driver.find_element_by_xpath(\"//ul[@class='a-unordered-list a-nostyle a-vertical a-spacing-medium']/li[10]/span/a/div/label/input\")\n"
     ]
    }
   ],
   "source": [
    "tbuton=driver.find_element_by_xpath(\"//ul[@class='a-unordered-list a-nostyle a-vertical a-spacing-medium']/li[10]/span/a/div/label/input\")"
   ]
  },
  {
   "cell_type": "code",
   "execution_count": 7,
   "id": "4598c1f5",
   "metadata": {},
   "outputs": [
    {
     "name": "stderr",
     "output_type": "stream",
     "text": [
      "<ipython-input-7-88e5b0f218b5>:1: DeprecationWarning: find_element_by_* commands are deprecated. Please use find_element() instead\n",
      "  i7btn=driver.find_element_by_xpath(\"//li[@id='p_n_feature_thirteen_browse-bin/12598163031']/span/a\")\n"
     ]
    }
   ],
   "source": [
    "i7btn=driver.find_element_by_xpath(\"//li[@id='p_n_feature_thirteen_browse-bin/12598163031']/span/a\")"
   ]
  },
  {
   "cell_type": "code",
   "execution_count": 8,
   "id": "5119e3d6",
   "metadata": {},
   "outputs": [
    {
     "name": "stderr",
     "output_type": "stream",
     "text": [
      "<ipython-input-8-c43d6542d096>:1: DeprecationWarning: find_element_by_* commands are deprecated. Please use find_element() instead\n",
      "  i9btn=driver.find_element_by_xpath(\"//ul[@class='a-unordered-list a-nostyle a-vertical a-spacing-medium']/li[11]/span/a\")\n"
     ]
    }
   ],
   "source": [
    "i9btn=driver.find_element_by_xpath(\"//ul[@class='a-unordered-list a-nostyle a-vertical a-spacing-medium']/li[11]/span/a\")"
   ]
  },
  {
   "cell_type": "code",
   "execution_count": 9,
   "id": "acb76f8a",
   "metadata": {},
   "outputs": [],
   "source": [
    "i7btn.click()"
   ]
  },
  {
   "cell_type": "code",
   "execution_count": 10,
   "id": "7a29cbc7",
   "metadata": {},
   "outputs": [],
   "source": [
    "i7titu=[]\n",
    "i7rati=[]\n",
    "i7pric=[]"
   ]
  },
  {
   "cell_type": "code",
   "execution_count": 11,
   "id": "875e844b",
   "metadata": {},
   "outputs": [],
   "source": [
    "i7titu.clear()"
   ]
  },
  {
   "cell_type": "code",
   "execution_count": 12,
   "id": "61d1957c",
   "metadata": {},
   "outputs": [
    {
     "name": "stderr",
     "output_type": "stream",
     "text": [
      "<ipython-input-12-635d2504f070>:1: DeprecationWarning: find_elements_by_* commands are deprecated. Please use find_elements() instead\n",
      "  shoebb=driver.find_elements_by_xpath(\"//h2[@class='a-size-mini a-spacing-none a-color-base s-line-clamp-2']/a/span\")\n"
     ]
    }
   ],
   "source": [
    "shoebb=driver.find_elements_by_xpath(\"//h2[@class='a-size-mini a-spacing-none a-color-base s-line-clamp-2']/a/span\")"
   ]
  },
  {
   "cell_type": "code",
   "execution_count": 13,
   "id": "8af35059",
   "metadata": {},
   "outputs": [
    {
     "data": {
      "text/plain": [
       "['LG Gram 16 Ultra-Light Intel Evo 11th Ge',\n",
       " 'HP Pavilion (2021) Intel 11th Gen Core i',\n",
       " 'Mi Notebook Ultra 3.2K resolution displa',\n",
       " 'HP Pavilion (2021) Intel 11th Gen Core i',\n",
       " 'LG Gram 17-inches Ultra-Light Intel Evo ',\n",
       " 'ASUS ZenBook 14 (2020) Intel Core i7-116',\n",
       " 'Acer Nitro 5 AN515-57 Gaming Laptop | In',\n",
       " 'Mi Notebook Pro QHD+ IPS Anti Glare Disp',\n",
       " 'ASUS TUF Dash F15 (2021) 15.6-inch (39.6',\n",
       " 'Lenovo IdeaPad Gaming 3 11th Gen Intel C']"
      ]
     },
     "execution_count": 13,
     "metadata": {},
     "output_type": "execute_result"
    }
   ],
   "source": [
    "for ti in shoebb[:10]:\n",
    "    ti1=ti.text[:40]\n",
    "    i7titu.append(ti1)\n",
    "i7titu"
   ]
  },
  {
   "cell_type": "code",
   "execution_count": 14,
   "id": "ff122dab",
   "metadata": {},
   "outputs": [
    {
     "name": "stderr",
     "output_type": "stream",
     "text": [
      "<ipython-input-14-5779cd61bd91>:2: DeprecationWarning: find_elements_by_* commands are deprecated. Please use find_elements() instead\n",
      "  urls=driver.find_elements_by_xpath(\"//a[@class='a-link-normal a-text-normal']\")\n",
      "<ipython-input-14-5779cd61bd91>:9: DeprecationWarning: find_element_by_* commands are deprecated. Please use find_element() instead\n",
      "  rating=driver.find_element_by_xpath(\"//span[@class='a-size-base a-nowrap']//span\")\n"
     ]
    }
   ],
   "source": [
    "Ratings=[]\n",
    "urls=driver.find_elements_by_xpath(\"//a[@class='a-link-normal a-text-normal']\")\n",
    "UR=[]\n",
    "for i in urls[:10]:\n",
    "    UR.append(i.get_attribute('href'))\n",
    "for url in UR:\n",
    "    driver.get(url)\n",
    "    try:                                                                    \n",
    "        rating=driver.find_element_by_xpath(\"//span[@class='a-size-base a-nowrap']//span\")\n",
    "        Ratings.append(rating.text)\n",
    "        \n",
    "    except NoSuchElementException:\n",
    "        Ratings.append(\"NO rating\")"
   ]
  },
  {
   "cell_type": "code",
   "execution_count": 15,
   "id": "bc5e4f6d",
   "metadata": {},
   "outputs": [
    {
     "data": {
      "text/plain": [
       "['4.2 out of 5',\n",
       " '4.3 out of 5',\n",
       " '4.3 out of 5',\n",
       " '4.3 out of 5',\n",
       " '4.5 out of 5',\n",
       " '3.9 out of 5',\n",
       " '4 out of 5',\n",
       " '4.3 out of 5',\n",
       " '4.3 out of 5',\n",
       " '4.9 out of 5']"
      ]
     },
     "execution_count": 15,
     "metadata": {},
     "output_type": "execute_result"
    }
   ],
   "source": [
    "Ratings"
   ]
  },
  {
   "cell_type": "code",
   "execution_count": 16,
   "id": "03688513",
   "metadata": {},
   "outputs": [
    {
     "name": "stderr",
     "output_type": "stream",
     "text": [
      "<ipython-input-16-a29249815355>:1: DeprecationWarning: find_elements_by_* commands are deprecated. Please use find_elements() instead\n",
      "  shoeppr=driver.find_elements_by_xpath(\"//span[@class='a-price-whole']\")\n"
     ]
    }
   ],
   "source": [
    "shoeppr=driver.find_elements_by_xpath(\"//span[@class='a-price-whole']\")"
   ]
  },
  {
   "cell_type": "code",
   "execution_count": 18,
   "id": "abd8b916",
   "metadata": {},
   "outputs": [
    {
     "data": {
      "text/plain": [
       "['94,499',\n",
       " '84,990',\n",
       " '77,999',\n",
       " '84,990',\n",
       " '98,999',\n",
       " '89,990',\n",
       " '89,990',\n",
       " '73,999',\n",
       " '1,09,990',\n",
       " '82,990']"
      ]
     },
     "execution_count": 18,
     "metadata": {},
     "output_type": "execute_result"
    }
   ],
   "source": [
    "pric=[]\n",
    "for pp in shoeppr[:10]:\n",
    "    pp1=pp.text\n",
    "    pric.append(pp1)\n",
    "pric"
   ]
  },
  {
   "cell_type": "code",
   "execution_count": 21,
   "id": "0ba442fb",
   "metadata": {},
   "outputs": [
    {
     "name": "stdout",
     "output_type": "stream",
     "text": [
      "10\n"
     ]
    }
   ],
   "source": [
    "print(len(i7titu))"
   ]
  },
  {
   "cell_type": "code",
   "execution_count": 22,
   "id": "c20ab39a",
   "metadata": {},
   "outputs": [],
   "source": [
    "df2=pd.DataFrame({'Title':i7titu,'Rating':Ratings,'Price':pric})"
   ]
  },
  {
   "cell_type": "code",
   "execution_count": 24,
   "id": "ae25b59a",
   "metadata": {},
   "outputs": [
    {
     "data": {
      "text/html": [
       "<div>\n",
       "<style scoped>\n",
       "    .dataframe tbody tr th:only-of-type {\n",
       "        vertical-align: middle;\n",
       "    }\n",
       "\n",
       "    .dataframe tbody tr th {\n",
       "        vertical-align: top;\n",
       "    }\n",
       "\n",
       "    .dataframe thead th {\n",
       "        text-align: right;\n",
       "    }\n",
       "</style>\n",
       "<table border=\"1\" class=\"dataframe\">\n",
       "  <thead>\n",
       "    <tr style=\"text-align: right;\">\n",
       "      <th></th>\n",
       "      <th>Title</th>\n",
       "      <th>Rating</th>\n",
       "      <th>Price</th>\n",
       "    </tr>\n",
       "  </thead>\n",
       "  <tbody>\n",
       "    <tr>\n",
       "      <th>0</th>\n",
       "      <td>LG Gram 16 Ultra-Light Intel Evo 11th Ge</td>\n",
       "      <td>4.2 out of 5</td>\n",
       "      <td>94,499</td>\n",
       "    </tr>\n",
       "    <tr>\n",
       "      <th>1</th>\n",
       "      <td>HP Pavilion (2021) Intel 11th Gen Core i</td>\n",
       "      <td>4.3 out of 5</td>\n",
       "      <td>84,990</td>\n",
       "    </tr>\n",
       "    <tr>\n",
       "      <th>2</th>\n",
       "      <td>Mi Notebook Ultra 3.2K resolution displa</td>\n",
       "      <td>4.3 out of 5</td>\n",
       "      <td>77,999</td>\n",
       "    </tr>\n",
       "    <tr>\n",
       "      <th>3</th>\n",
       "      <td>HP Pavilion (2021) Intel 11th Gen Core i</td>\n",
       "      <td>4.3 out of 5</td>\n",
       "      <td>84,990</td>\n",
       "    </tr>\n",
       "    <tr>\n",
       "      <th>4</th>\n",
       "      <td>LG Gram 17-inches Ultra-Light Intel Evo</td>\n",
       "      <td>4.5 out of 5</td>\n",
       "      <td>98,999</td>\n",
       "    </tr>\n",
       "    <tr>\n",
       "      <th>5</th>\n",
       "      <td>ASUS ZenBook 14 (2020) Intel Core i7-116</td>\n",
       "      <td>3.9 out of 5</td>\n",
       "      <td>89,990</td>\n",
       "    </tr>\n",
       "    <tr>\n",
       "      <th>6</th>\n",
       "      <td>Acer Nitro 5 AN515-57 Gaming Laptop | In</td>\n",
       "      <td>4 out of 5</td>\n",
       "      <td>89,990</td>\n",
       "    </tr>\n",
       "    <tr>\n",
       "      <th>7</th>\n",
       "      <td>Mi Notebook Pro QHD+ IPS Anti Glare Disp</td>\n",
       "      <td>4.3 out of 5</td>\n",
       "      <td>73,999</td>\n",
       "    </tr>\n",
       "    <tr>\n",
       "      <th>8</th>\n",
       "      <td>ASUS TUF Dash F15 (2021) 15.6-inch (39.6</td>\n",
       "      <td>4.3 out of 5</td>\n",
       "      <td>1,09,990</td>\n",
       "    </tr>\n",
       "    <tr>\n",
       "      <th>9</th>\n",
       "      <td>Lenovo IdeaPad Gaming 3 11th Gen Intel C</td>\n",
       "      <td>4.9 out of 5</td>\n",
       "      <td>82,990</td>\n",
       "    </tr>\n",
       "  </tbody>\n",
       "</table>\n",
       "</div>"
      ],
      "text/plain": [
       "                                      Title        Rating     Price\n",
       "0  LG Gram 16 Ultra-Light Intel Evo 11th Ge  4.2 out of 5    94,499\n",
       "1  HP Pavilion (2021) Intel 11th Gen Core i  4.3 out of 5    84,990\n",
       "2  Mi Notebook Ultra 3.2K resolution displa  4.3 out of 5    77,999\n",
       "3  HP Pavilion (2021) Intel 11th Gen Core i  4.3 out of 5    84,990\n",
       "4  LG Gram 17-inches Ultra-Light Intel Evo   4.5 out of 5    98,999\n",
       "5  ASUS ZenBook 14 (2020) Intel Core i7-116  3.9 out of 5    89,990\n",
       "6  Acer Nitro 5 AN515-57 Gaming Laptop | In    4 out of 5    89,990\n",
       "7  Mi Notebook Pro QHD+ IPS Anti Glare Disp  4.3 out of 5    73,999\n",
       "8  ASUS TUF Dash F15 (2021) 15.6-inch (39.6  4.3 out of 5  1,09,990\n",
       "9  Lenovo IdeaPad Gaming 3 11th Gen Intel C  4.9 out of 5    82,990"
      ]
     },
     "execution_count": 24,
     "metadata": {},
     "output_type": "execute_result"
    }
   ],
   "source": [
    "df2"
   ]
  }
 ],
 "metadata": {
  "kernelspec": {
   "display_name": "Python 3",
   "language": "python",
   "name": "python3"
  },
  "language_info": {
   "codemirror_mode": {
    "name": "ipython",
    "version": 3
   },
   "file_extension": ".py",
   "mimetype": "text/x-python",
   "name": "python",
   "nbconvert_exporter": "python",
   "pygments_lexer": "ipython3",
   "version": "3.8.8"
  }
 },
 "nbformat": 4,
 "nbformat_minor": 5
}
